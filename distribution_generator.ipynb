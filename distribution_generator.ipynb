{
 "cells": [
  {
   "cell_type": "code",
   "execution_count": 1,
   "metadata": {},
   "outputs": [],
   "source": [
    "# Date: June 10th 2019"
   ]
  },
  {
   "cell_type": "code",
   "execution_count": 2,
   "metadata": {},
   "outputs": [],
   "source": [
    "from scipy.stats import *\n",
    "import matplotlib.pyplot as plt"
   ]
  },
  {
   "cell_type": "code",
   "execution_count": 3,
   "metadata": {},
   "outputs": [],
   "source": [
    "gaus_z = norm.rvs(loc=0.5, scale=0.05, size=10000, random_state=None)\n",
    "expo_z = expon.rvs(loc=0, scale = 0.2, size=10000, random_state=None)\n",
    "\n",
    "gaus_theta = norm.rvs(loc=0.2, scale=0.05, size=10000, random_state=None)\n",
    "expo_theta = expon.rvs(loc=0, scale=0.1, size=10000, random_state=None)"
   ]
  },
  {
   "cell_type": "code",
   "execution_count": 4,
   "metadata": {},
   "outputs": [],
   "source": [
    "gaus_z = gaus_z[gaus_z<1.0]\n",
    "expo_z = expo_z[expo_z<1.0]\n",
    "gaus_theta = gaus_theta[gaus_theta<1.0]\n",
    "expo_theta = expo_theta[expo_theta<1.0]"
   ]
  },
  {
   "cell_type": "code",
   "execution_count": 5,
   "metadata": {},
   "outputs": [
    {
     "data": {
      "image/png": "[encoded data removed]",
      "text/plain": [
       "<Figure size 432x288 with 1 Axes>"
      ]
     },
     "metadata": {
      "needs_background": "light"
     },
     "output_type": "display_data"
    }
   ],
   "source": [
    "plt.hist(gaus_z, 50, density=True, histtype='stepfilled', alpha=0.2)\n",
    "plt.hist(expo_z, 50, density=True, histtype='stepfilled', alpha=0.2)\n",
    "plt.show()"
   ]
  },
  {
   "cell_type": "code",
   "execution_count": 6,
   "metadata": {
    "scrolled": true
   },
   "outputs": [
    {
     "data": {
      "image/png": "[encoded data removed]",
      "text/plain": [
       "<Figure size 432x288 with 1 Axes>"
      ]
     },
     "metadata": {
      "needs_background": "light"
     },
     "output_type": "display_data"
    }
   ],
   "source": [
    "plt.hist(gaus_theta, 50, density=True, histtype='stepfilled', alpha=0.2)\n",
    "plt.hist(expo_theta, 50, density=True, histtype='stepfilled', alpha=0.2)\n",
    "plt.show()"
   ]
  },
  {
   "cell_type": "code",
   "execution_count": 8,
   "metadata": {},
   "outputs": [
    {
     "data": {
      "text/plain": [
       "[array([0.48925498, 0.48514006, 0.66974548, ..., 0.5106836 , 0.52753692,\n",
       "        0.3858927 ]),\n",
       " array([0.31597023, 0.11964022, 0.19949572, ..., 0.23200414, 0.11425859,\n",
       "        0.19018094])]"
      ]
     },
     "execution_count": 8,
     "metadata": {},
     "output_type": "execute_result"
    }
   ],
   "source": []
  },
  {
   "cell_type": "code",
   "execution_count": null,
   "metadata": {},
   "outputs": [],
   "source": []
  }
 ],
 "metadata": {
  "kernelspec": {
   "display_name": "Python 3",
   "language": "python",
   "name": "python3"
  },
  "language_info": {
   "codemirror_mode": {
    "name": "ipython",
    "version": 3
   },
   "file_extension": ".py",
   "mimetype": "text/x-python",
   "name": "python",
   "nbconvert_exporter": "python",
   "pygments_lexer": "ipython3",
   "version": "3.6.8"
  }
 },
 "nbformat": 4,
 "nbformat_minor": 2
}
