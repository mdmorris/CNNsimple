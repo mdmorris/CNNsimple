{
 "cells": [
  {
   "cell_type": "code",
   "execution_count": 250,
   "metadata": {},
   "outputs": [],
   "source": [
    "import random\n",
    "import math\n",
    "import numbers\n",
    "import numpy as np\n",
    "import matplotlib.pyplot as plt"
   ]
  },
  {
   "cell_type": "markdown",
   "metadata": {},
   "source": [
    "Based on SciKit-Learn datasets.make_blobs (https://github.com/scikit-learn/scikit-learn/blob/master/sklearn/datasets/samples_generator.py)"
   ]
  },
  {
   "cell_type": "code",
   "execution_count": 292,
   "metadata": {},
   "outputs": [],
   "source": [
    "def make_circles(grid = 10, n_data = 10):    \n",
    "    max_distance = int(grid/2)\n",
    "    circles = np.array([])\n",
    "    distances = np.array([])\n",
    "    np.random.shuffle(distances)\n",
    "    radii = np.array([])\n",
    "    for i in range(n_data):\n",
    "        for j in range(max_distance):\n",
    "            radius = np.random.randint(max_distance/2.,max_distance,size = 2)\n",
    "            distance = np.random.randint(max_distance)\n",
    "            distances = np.append(distances, distance)\n",
    "            radii = np.append(radii, radius)\n",
    "            circle = np.zeros((grid,grid))\n",
    "            for k in range(2):\n",
    "                r = radius[k]\n",
    "                for l in range(grid):\n",
    "                    for m in range(grid):\n",
    "                        r = radius[k]\n",
    "                        if k == 0:\n",
    "                            x = l - max_distance + distance/2\n",
    "                        else:\n",
    "                            x = l - max_distance - distance/2\n",
    "                        y = m - max_distance\n",
    "                        position = math.sqrt(x**2 + y**2)\n",
    "                        if position <= r:\n",
    "                            p = np.exp((-1./2.)*(3.*position/r)**2.)\n",
    "                            circle[l][m] += p\n",
    "            circles = np.append(circles,circle)\n",
    "    circles = circles.reshape(n_data*max_distance,grid**2)\n",
    "    radii = radii.reshape(n_data*max_distance, 2)\n",
    "    return circles, radii, distances\n",
    "    "
   ]
  },
  {
   "cell_type": "code",
   "execution_count": 293,
   "metadata": {
    "scrolled": false
   },
   "outputs": [],
   "source": [
    "grid = 100\n",
    "n_data = 10\n",
    "circleData, radiiLabels, distanceLabels = make_circles(grid, n_data)"
   ]
  },
  {
   "cell_type": "code",
   "execution_count": 295,
   "metadata": {},
   "outputs": [
    {
     "name": "stdout",
     "output_type": "stream",
     "text": [
      "radius = \n",
      "[29. 42.]\n",
      "distance between centers = \n",
      "24.0\n"
     ]
    },
    {
     "data": {
      "text/plain": [
       "<matplotlib.colorbar.Colorbar at 0x11ae3a250>"
      ]
     },
     "execution_count": 295,
     "metadata": {},
     "output_type": "execute_result"
    },
    {
     "data": {
      "image/png": "[encoded data removed]",
      "text/plain": [
       "<Figure size 432x288 with 2 Axes>"
      ]
     },
     "metadata": {},
     "output_type": "display_data"
    }
   ],
   "source": [
    "display = circleData[39].reshape(grid,grid)\n",
    "plt.grid(False)\n",
    "plt.imshow(display, cmap = 'jet')\n",
    "print \"radius = \"\n",
    "print radiiLabels[39]\n",
    "print \"distance between centers = \"\n",
    "print distanceLabels[39]\n",
    "plt.colorbar()"
   ]
  },
  {
   "cell_type": "code",
   "execution_count": null,
   "metadata": {},
   "outputs": [],
   "source": []
  },
  {
   "cell_type": "code",
   "execution_count": null,
   "metadata": {},
   "outputs": [],
   "source": []
  }
 ],
 "metadata": {
  "kernelspec": {
   "display_name": "Python 2",
   "language": "python",
   "name": "python2"
  },
  "language_info": {
   "codemirror_mode": {
    "name": "ipython",
    "version": 2
   },
   "file_extension": ".py",
   "mimetype": "text/x-python",
   "name": "python",
   "nbconvert_exporter": "python",
   "pygments_lexer": "ipython2",
   "version": "2.7.13"
  }
 },
 "nbformat": 4,
 "nbformat_minor": 2
}
