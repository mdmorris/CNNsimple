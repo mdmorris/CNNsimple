{
 "cells": [
  {
   "cell_type": "code",
   "execution_count": 1,
   "metadata": {},
   "outputs": [],
   "source": [
    "import random\n",
    "import math\n",
    "import numbers\n",
    "import numpy as np\n",
    "import matplotlib.pyplot as plt\n",
    "import time"
   ]
  },
  {
   "cell_type": "markdown",
   "metadata": {},
   "source": [
    "Based on SciKit-Learn datasets.make_blobs (https://github.com/scikit-learn/scikit-learn/blob/master/sklearn/datasets/samples_generator.py)"
   ]
  },
  {
   "cell_type": "code",
   "execution_count": 116,
   "metadata": {},
   "outputs": [],
   "source": [
    "def make_circles(grid = 11, n_data = 10):    \n",
    "    max_distance = int((grid-1)/2)\n",
    "    radii = np.random.randint(max_distance/2.,max_distance,size = (n_data, 2))\n",
    "    radii = radii.flatten()\n",
    "    distance = np.random.randint(max_distance, size = n_data)\n",
    "    distances = np.array([np.multiply(np.ones(shape = (grid,grid)),y) for y in distance])\n",
    "    radii1 = np.array([np.multiply(np.ones(shape = (grid,grid)),y) for y in radii[::2]])\n",
    "    radii2 = np.array([np.multiply(np.ones(shape = (grid,grid)),y) for y in radii[1::2]])\n",
    "    circle = np.zeros((n_data, grid, grid))\n",
    "    circlex = np.zeros((grid, grid))\n",
    "    circley = np.zeros((grid, grid))\n",
    "    circlex[:][:][:] = np.arange(grid)\n",
    "    circley[:][:][:] = np.transpose(circlex)\n",
    "    print circley\n",
    "    x1 = circlex - max_distance + distances/2\n",
    "    x2 = circlex - max_distance - distances/2\n",
    "    y = circley - max_distance\n",
    "    position1 = np.sqrt(x1**2+y**2)\n",
    "    position2 = np.sqrt(np.square(x2)+np.square(y))\n",
    "    fill1 = position1 <= radii1\n",
    "    fill2 = position2 <= radii2\n",
    "    p1 = np.exp((-1./2.)*(3.*position1/radii1)**2.)\n",
    "    p2 = np.exp((-1./2.)*(3.*position2/radii2)**2.)\n",
    "    p1 = np.where(fill1, p1, 0.0*p1)\n",
    "    p1 = p1.reshape(n_data, grid, grid)\n",
    "    p2 = np.where(fill2, p2, 0.0*p1)\n",
    "    p2 = p2.reshape(n_data, grid, grid)\n",
    "    circles = p1 + p2\n",
    "    radii = radii.reshape(n_data, 2)\n",
    "    position1 = position1.reshape(n_data,grid**2)\n",
    "    return position1, radii, distances\n",
    "    "
   ]
  },
  {
   "cell_type": "code",
   "execution_count": 117,
   "metadata": {
    "scrolled": false
   },
   "outputs": [
    {
     "name": "stdout",
     "output_type": "stream",
     "text": [
      "[[ 0.  0.  0. ...  0.  0.  0.]\n",
      " [ 1.  1.  1. ...  1.  1.  1.]\n",
      " [ 2.  2.  2. ...  2.  2.  2.]\n",
      " ...\n",
      " [97. 97. 97. ... 97. 97. 97.]\n",
      " [98. 98. 98. ... 98. 98. 98.]\n",
      " [99. 99. 99. ... 99. 99. 99.]]\n",
      "0.864406\n"
     ]
    }
   ],
   "source": [
    "grid = 100\n",
    "n_data = 500\n",
    "tic = time.clock()\n",
    "circleData, radiiLabels, distanceLabels = make_circles(grid, n_data)\n",
    "toc = time.clock()\n",
    "print toc-tic"
   ]
  },
  {
   "cell_type": "code",
   "execution_count": 118,
   "metadata": {},
   "outputs": [
    {
     "name": "stdout",
     "output_type": "stream",
     "text": [
      "radius = \n",
      "[45 48]\n",
      "distance between centers = \n",
      "[[34. 34. 34. ... 34. 34. 34.]\n",
      " [34. 34. 34. ... 34. 34. 34.]\n",
      " [34. 34. 34. ... 34. 34. 34.]\n",
      " ...\n",
      " [34. 34. 34. ... 34. 34. 34.]\n",
      " [34. 34. 34. ... 34. 34. 34.]\n",
      " [34. 34. 34. ... 34. 34. 34.]]\n"
     ]
    },
    {
     "data": {
      "text/plain": [
       "<matplotlib.colorbar.Colorbar at 0x115c7fb90>"
      ]
     },
     "execution_count": 118,
     "metadata": {},
     "output_type": "execute_result"
    },
    {
     "data": {
      "image/png": "[encoded data removed]",
      "text/plain": [
       "<Figure size 432x288 with 2 Axes>"
      ]
     },
     "metadata": {},
     "output_type": "display_data"
    }
   ],
   "source": [
    "display = circleData[30].reshape(grid,grid)\n",
    "plt.grid(False)\n",
    "plt.imshow(display, cmap = 'jet')\n",
    "print \"radius = \"\n",
    "print radiiLabels[30]\n",
    "print \"distance between centers = \"\n",
    "print distanceLabels[30]\n",
    "plt.colorbar()"
   ]
  },
  {
   "cell_type": "code",
   "execution_count": null,
   "metadata": {},
   "outputs": [],
   "source": []
  },
  {
   "cell_type": "code",
   "execution_count": null,
   "metadata": {},
   "outputs": [],
   "source": []
  }
 ],
 "metadata": {
  "kernelspec": {
   "display_name": "Python 2",
   "language": "python",
   "name": "python2"
  },
  "language_info": {
   "codemirror_mode": {
    "name": "ipython",
    "version": 2
   },
   "file_extension": ".py",
   "mimetype": "text/x-python",
   "name": "python",
   "nbconvert_exporter": "python",
   "pygments_lexer": "ipython2",
   "version": "2.7.13"
  }
 },
 "nbformat": 4,
 "nbformat_minor": 2
}
