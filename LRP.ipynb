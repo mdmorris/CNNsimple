{
 "cells": [
  {
   "cell_type": "code",
   "execution_count": 2,
   "metadata": {},
   "outputs": [
    {
     "name": "stderr",
     "output_type": "stream",
     "text": [
      "Using TensorFlow backend.\n"
     ]
    }
   ],
   "source": [
    "# TensorFlow and tf.keras\n",
    "# import tensorflow as tf\n",
    "#from tensorflow import keras\n",
    "#from tensorflow.keras import layers\n",
    "import pandas as pd\n",
    "\n",
    "import keras\n",
    "from keras import layers\n",
    "import keras.backend\n",
    "from keras.layers import Input, Conv2D, MaxPool2D, Flatten, Dense, BatchNormalization, Dropout\n",
    "import keras.models\n",
    "import keras.utils\n",
    "\n",
    "# Helper libraries\n",
    "import numpy as np\n",
    "import matplotlib.pyplot as plt\n",
    "from matplotlib.colors import LogNorm\n",
    "from matplotlib.colors import Normalize\n",
    "import math\n",
    "import time\n",
    "import h5py\n",
    "import sklearn\n",
    "import os"
   ]
  },
  {
   "cell_type": "code",
   "execution_count": 4,
   "metadata": {},
   "outputs": [],
   "source": [
    "grid = 32\n",
    "# training data : 10,000 signal samples and 10,000 bkg samples\n",
    "traindata_sig = np.load('data/jetImages_signal.npz')\n",
    "traindata_bkg = np.load('data/jetImages_bkg.npz')\n",
    "trainimages = np.concatenate((traindata_sig['jetImages'], traindata_bkg['jetImages']),axis=0)\n",
    "trainlabels = np.concatenate((traindata_sig['labels'],traindata_bkg['labels']),axis=0)\n",
    "# testing data : 10,000 signal samples and 10,000 bkg samples\n",
    "testdata_sig = np.load('data/jetImages_signal_test.npz')\n",
    "testdata_bkg = np.load('data/jetImages_bkg_test.npz')\n",
    "testimages = np.concatenate((testdata_sig['jetImages'], testdata_bkg['jetImages']),axis=0)\n",
    "testlabels = np.concatenate((testdata_sig['labels'], testdata_bkg['labels']),axis=0)\n",
    "\n",
    "n_test = len(testlabels)\n",
    "n_train = len(trainlabels)\n",
    "trainimages = trainimages.reshape(n_train, grid, grid, 1)\n",
    "testimages = testimages.reshape(n_test, grid, grid, 1)"
   ]
  },
  {
   "cell_type": "code",
   "execution_count": 5,
   "metadata": {},
   "outputs": [
    {
     "data": {
      "image/png": "[encoded data removed]",
      "text/plain": [
       "<Figure size 432x288 with 2 Axes>"
      ]
     },
     "metadata": {
      "needs_background": "light"
     },
     "output_type": "display_data"
    }
   ],
   "source": [
    "#plot input signal and background\n",
    "sig_trainimages = np.zeros_like(trainimages[1])\n",
    "bkg_trainimages = np.zeros_like(trainimages[1])\n",
    "for i in range(len(trainimages)):\n",
    "    if testlabels[i] == 1:\n",
    "        sig_trainimages += trainimages[i]\n",
    "    else:\n",
    "        bkg_trainimages += trainimages[i]\n",
    "#signal\n",
    "display_sig = sig_trainimages.reshape(grid,grid)\n",
    "plt.grid(False)\n",
    "plt.imshow(display_sig, interpolation='nearest', origin='low', cmap = 'jet', norm=LogNorm())\n",
    "plt.colorbar()\n",
    "plt.show()"
   ]
  },
  {
   "cell_type": "code",
   "execution_count": 6,
   "metadata": {},
   "outputs": [
    {
     "data": {
      "image/png": "[encoded data removed]",
      "text/plain": [
       "<Figure size 432x288 with 2 Axes>"
      ]
     },
     "metadata": {
      "needs_background": "light"
     },
     "output_type": "display_data"
    }
   ],
   "source": [
    "#background\n",
    "display_bkg = bkg_trainimages.reshape(grid,grid)\n",
    "plt.grid(False)\n",
    "plt.imshow(display_bkg, interpolation='nearest', origin='low', cmap = 'jet', norm=LogNorm())\n",
    "plt.colorbar()\n",
    "plt.show()"
   ]
  },
  {
   "cell_type": "code",
   "execution_count": null,
   "metadata": {},
   "outputs": [
    {
     "name": "stdout",
     "output_type": "stream",
     "text": [
      "WARNING:tensorflow:From /usr/local/jupyter/lib/python3.6/site-packages/tensorflow/python/framework/op_def_library.py:263: colocate_with (from tensorflow.python.framework.ops) is deprecated and will be removed in a future version.\n",
      "Instructions for updating:\n",
      "Colocations handled automatically by placer.\n",
      "WARNING:tensorflow:From /usr/local/jupyter/lib/python3.6/site-packages/tensorflow/python/ops/math_ops.py:3066: to_int32 (from tensorflow.python.ops.math_ops) is deprecated and will be removed in a future version.\n",
      "Instructions for updating:\n",
      "Use tf.cast instead.\n",
      "_________________________________________________________________\n",
      "Layer (type)                 Output Shape              Param #   \n",
      "=================================================================\n",
      "conv2d_1 (Conv2D)            (None, 22, 22, 32)        3904      \n",
      "_________________________________________________________________\n",
      "conv2d_2 (Conv2D)            (None, 20, 20, 32)        9248      \n",
      "_________________________________________________________________\n",
      "max_pooling2d_1 (MaxPooling2 (None, 10, 10, 32)        0         \n",
      "_________________________________________________________________\n",
      "conv2d_3 (Conv2D)            (None, 8, 8, 32)          9248      \n",
      "_________________________________________________________________\n",
      "conv2d_4 (Conv2D)            (None, 6, 6, 32)          9248      \n",
      "_________________________________________________________________\n",
      "max_pooling2d_2 (MaxPooling2 (None, 3, 3, 32)          0         \n",
      "_________________________________________________________________\n",
      "flatten_1 (Flatten)          (None, 288)               0         \n",
      "_________________________________________________________________\n",
      "dense_1 (Dense)              (None, 64)                18496     \n",
      "_________________________________________________________________\n",
      "dense_2 (Dense)              (None, 64)                4160      \n",
      "_________________________________________________________________\n",
      "dense_3 (Dense)              (None, 1)                 65        \n",
      "=================================================================\n",
      "Total params: 54,369\n",
      "Trainable params: 54,369\n",
      "Non-trainable params: 0\n",
      "_________________________________________________________________\n",
      "16864/20000 [========================>.....] - ETA: 1s"
     ]
    }
   ],
   "source": [
    "# !ls training\n",
    "best_model = keras.models.load_model('model/CNN_sparce_cat.h5')\n",
    "best_model.summary()\n",
    "results = best_model.evaluate(testimages, testlabels)\n",
    "print(results)"
   ]
  },
  {
   "cell_type": "code",
   "execution_count": null,
   "metadata": {
    "scrolled": true
   },
   "outputs": [],
   "source": [
    "# Plot ROC\n",
    "predict = best_model.predict(testimages)\n",
    "print(testlabels.shape, predict.shape)\n",
    "from sklearn.metrics import roc_curve, auc\n",
    "fpr, tpr, thresholds = roc_curve(testlabels, predict)\n",
    "roc_auc = auc(fpr, tpr)\n",
    "plt.plot(fpr, tpr, lw=2, color='blue', label='auc = %.3f' % (roc_auc))\n",
    "plt.plot([0, 1], [0, 1], linestyle='--', lw=2, color='k', label='random chance')\n",
    "plt.xlim([0, 1.0])\n",
    "plt.ylim([0, 1.0])\n",
    "plt.xlabel('false positive rate')\n",
    "plt.ylabel('true positive rate')\n",
    "plt.title('receiver operating curve')\n",
    "plt.legend(loc=\"lower right\")\n",
    "plt.show()"
   ]
  },
  {
   "cell_type": "code",
   "execution_count": 7,
   "metadata": {},
   "outputs": [],
   "source": [
    "import innvestigate\n",
    "import innvestigate.utils as iutils"
   ]
  },
  {
   "cell_type": "code",
   "execution_count": 8,
   "metadata": {},
   "outputs": [
    {
     "name": "stdout",
     "output_type": "stream",
     "text": [
      "WARNING:tensorflow:From /usr/local/jupyter/lib/python3.6/site-packages/tensorflow/python/ops/math_grad.py:102: div (from tensorflow.python.ops.math_ops) is deprecated and will be removed in a future version.\n",
      "Instructions for updating:\n",
      "Deprecated in favor of operator or tf.math.divide.\n"
     ]
    },
    {
     "data": {
      "image/png": "[encoded data removed]",
      "text/plain": [
       "<Figure size 432x288 with 2 Axes>"
      ]
     },
     "metadata": {
      "needs_background": "light"
     },
     "output_type": "display_data"
    }
   ],
   "source": [
    "# Creating an analyzer\n",
    "lrp_analyzer = innvestigate.create_analyzer(\"lrp.z\", best_model)\n",
    "\n",
    "# Applying the analyzer\n",
    "display = trainimages[1].reshape(1,grid,grid,1) #the reshape is this way is because the input is expected to be 4 dimensions\n",
    "analysis = lrp_analyzer.analyze(display)\n",
    "\n",
    "# Displaying one result\n",
    "plt.imshow(analysis.reshape(grid, grid), cmap='RdBu', origin = 'low', interpolation='nearest')\n",
    "plt.colorbar()\n",
    "plt.clim(-0.6, 0.6)\n",
    "plt.show()"
   ]
  },
  {
   "cell_type": "code",
   "execution_count": 9,
   "metadata": {},
   "outputs": [
    {
     "data": {
      "image/png": "[encoded data removed]",
      "text/plain": [
       "<Figure size 432x288 with 1 Axes>"
      ]
     },
     "metadata": {
      "needs_background": "light"
     },
     "output_type": "display_data"
    }
   ],
   "source": [
    "plt.hist([predict[:int(len(predict)/2)].flatten(), predict[int(len(predict)/2):-1].flatten()] ,\n",
    "         color = ['blue', 'red'], histtype = 'step', label = ['signal', 'background'])\n",
    "plt.yscale('log')\n",
    "plt.legend()\n",
    "plt.show()"
   ]
  },
  {
   "cell_type": "code",
   "execution_count": 10,
   "metadata": {},
   "outputs": [
    {
     "name": "stdout",
     "output_type": "stream",
     "text": [
      "\n",
      " time = \n",
      " 63.48545026779175\n"
     ]
    }
   ],
   "source": [
    "#plot output signal and background\n",
    "sig_analysis_true = np.zeros_like(analysis)\n",
    "bkg_analysis_true = np.zeros_like(analysis)\n",
    "sig_analysis_pred = np.zeros_like(analysis)\n",
    "bkg_analysis_pred = np.zeros_like(analysis)\n",
    "sig_inefficiency = np.zeros_like(analysis)\n",
    "bkg_inefficiency = np.zeros_like(analysis)\n",
    "\n",
    "toc = time.time()\n",
    "\n",
    "display = trainimages.reshape(len(trainimages), 1, grid, grid, 1) \n",
    "analysis = [lrp_analyzer.analyze(display[i]) for i in range(len(trainimages))]\n",
    "\n",
    "tic = time.time()\n",
    "\n",
    "print('\\n time = \\n', tic-toc)\n"
   ]
  },
  {
   "cell_type": "code",
   "execution_count": 17,
   "metadata": {},
   "outputs": [
    {
     "name": "stdout",
     "output_type": "stream",
     "text": [
      "signal inefficiency =  176 \n",
      "background inefficiency =  65\n",
      "\n",
      "time =\n",
      " 0.18496131896972656\n"
     ]
    }
   ],
   "source": [
    "toc = time.time()\n",
    "\n",
    "for i in range(len(trainimages)):\n",
    "    if trainlabels[i] == 1:\n",
    "        sig_analysis_true += analysis[i]  \n",
    "        \n",
    "    else:\n",
    "        bkg_analysis_true += analysis[i]\n",
    "\n",
    "sig_analysis_true /= len(trainimages)/2\n",
    "bkg_analysis_true /= len(trainimages)/2\n",
    "        \n",
    "sig_anal_num = 0   \n",
    "sig_inef_num = 0\n",
    "bkg_anal_num = 0\n",
    "bkg_inef_num = 0\n",
    "weird = 0\n",
    "\n",
    "for i in range(len(trainimages)):\n",
    "    if i < int(len(predict)/2) and predict[i] > 0.50:\n",
    "        sig_analysis_pred += analysis[i]\n",
    "        sig_anal_num += 1\n",
    "    elif i < int(len(predict)/2) and predict[i] < 0.50:\n",
    "        sig_inefficiency += analysis[i]\n",
    "        sig_inef_num += 1\n",
    "    elif i >= int(len(predict)/2) and predict[i] < 0.50:\n",
    "        bkg_analysis_pred += analysis[i]\n",
    "        bkg_anal_num += 1\n",
    "    elif i >= int(len(predict)/2) and predict[i] > 0.50:\n",
    "        bkg_inefficiency += analysis[i]\n",
    "        bkg_inef_num += 1\n",
    "        \n",
    "#normalizing relevance scores\n",
    "sig_analysis_pred /= sig_anal_num\n",
    "sig_inefficiency /= sig_inef_num\n",
    "bkg_analysis_pred /= bkg_anal_num\n",
    "bkg_inefficiency /= bkg_inef_num\n",
    "\n",
    "tic = time.time()\n",
    "print('signal inefficiency = ', sig_inef_num, '\\nbackground inefficiency = ', bkg_inef_num)\n",
    "print('\\ntime =\\n', tic-toc)\n"
   ]
  },
  {
   "cell_type": "code",
   "execution_count": 12,
   "metadata": {},
   "outputs": [
    {
     "data": {
      "image/png": "[encoded data removed]",
      "text/plain": [
       "<Figure size 1080x1080 with 6 Axes>"
      ]
     },
     "metadata": {
      "needs_background": "light"
     },
     "output_type": "display_data"
    }
   ],
   "source": [
    "# Displaying the signal results\n",
    "ax = plt.figure(figsize = (15,15))\n",
    "ax.add_subplot(131)\n",
    "im = plt.imshow(np.absolute(sig_analysis_true.reshape(grid,grid)), origin = 'low',cmap='RdBu', interpolation='nearest')\n",
    "plt.colorbar(im,fraction=0.046, pad=0.04)\n",
    "plt.clim(-0.6, 0.6)\n",
    "plt.title('Signal heatmap for true vals')\n",
    "ax.add_subplot(132)\n",
    "im = plt.imshow(sig_analysis_pred.reshape(grid,grid), origin = 'low', cmap='RdBu', interpolation='nearest')\n",
    "plt.colorbar(im,fraction=0.046, pad=0.04)\n",
    "plt.clim(-0.6, 0.6)\n",
    "plt.title('Signal heatmap for predicted vals')\n",
    "ax.add_subplot(133)\n",
    "im = plt.imshow(sig_inefficiency.reshape(grid,grid), origin = 'low', cmap='RdBu', interpolation='nearest')\n",
    "plt.colorbar(im,fraction=0.046, pad=0.04)\n",
    "plt.clim(-0.6, 0.6)\n",
    "plt.title('Signal inefficiency for predicted vals')\n",
    "plt.show()\n"
   ]
  },
  {
   "cell_type": "code",
   "execution_count": 13,
   "metadata": {},
   "outputs": [
    {
     "data": {
      "image/png": "[encoded data removed]",
      "text/plain": [
       "<Figure size 1080x1080 with 6 Axes>"
      ]
     },
     "metadata": {
      "needs_background": "light"
     },
     "output_type": "display_data"
    }
   ],
   "source": [
    "# Displaying the background results\n",
    "ax = plt.figure(figsize = (15,15))\n",
    "ax.add_subplot(131)\n",
    "im_ = plt.imshow(np.absolute(bkg_analysis_true.reshape(grid,grid)), origin = 'low',cmap='RdBu', interpolation='nearest')\n",
    "plt.colorbar(im_,fraction=0.046, pad=0.04)\n",
    "plt.clim(-0.10, 0.10)\n",
    "plt.title('Bkg heatmap for true vals')\n",
    "ax.add_subplot(132)\n",
    "im_ = plt.imshow(bkg_analysis_pred.reshape(grid,grid), origin = 'low',cmap='RdBu', interpolation='nearest')\n",
    "plt.colorbar(im_,fraction=0.046, pad=0.04)\n",
    "plt.clim(-0.10, 0.10)\n",
    "plt.title('Bkg heatmap for predicted vals')\n",
    "ax.add_subplot(133)\n",
    "im = plt.imshow(bkg_inefficiency.reshape(grid,grid), origin = 'low', cmap='RdBu', interpolation='nearest')\n",
    "plt.colorbar(im,fraction=0.046, pad=0.04)\n",
    "plt.clim(-0.10, 0.10)\n",
    "plt.title('Bkg ineff. heatmap for predicted vals')\n",
    "plt.show()"
   ]
  },
  {
   "cell_type": "code",
   "execution_count": null,
   "metadata": {},
   "outputs": [],
   "source": []
  },
  {
   "cell_type": "code",
   "execution_count": null,
   "metadata": {},
   "outputs": [],
   "source": []
  }
 ],
 "metadata": {
  "kernelspec": {
   "display_name": "Python 3",
   "language": "python",
   "name": "python3"
  },
  "language_info": {
   "codemirror_mode": {
    "name": "ipython",
    "version": 3
   },
   "file_extension": ".py",
   "mimetype": "text/x-python",
   "name": "python",
   "nbconvert_exporter": "python",
   "pygments_lexer": "ipython3",
   "version": "3.6.8"
  }
 },
 "nbformat": 4,
 "nbformat_minor": 2
}
