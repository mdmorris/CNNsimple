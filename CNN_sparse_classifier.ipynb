{
 "cells": [
  {
   "cell_type": "code",
   "execution_count": 1,
   "metadata": {},
   "outputs": [
    {
     "name": "stdout",
     "output_type": "stream",
     "text": [
      "2.0.0-alpha0\n"
     ]
    }
   ],
   "source": [
    "# TensorFlow and tf.keras\n",
    "\n",
    "import tensorflow as tf\n",
    "from tensorflow import keras\n",
    "from tensorflow.keras import Model\n",
    "from tensorflow.keras.layers import Input, Conv2D, MaxPool2D, Flatten, Dense, BatchNormalization, Dropout\n",
    "from tensorflow.keras.regularizers import l2\n",
    "import pandas as pd\n",
    "\n",
    "print(tf.__version__)\n",
    "\n",
    "# Helper libraries\n",
    "import numpy as np\n",
    "import matplotlib.pyplot as plt\n",
    "import math\n",
    "import time\n",
    "import h5py\n",
    "import sklearn\n",
    "from sklearn.utils import shuffle"
   ]
  },
  {
   "cell_type": "markdown",
   "metadata": {},
   "source": [
    "Import data:"
   ]
  },
  {
   "cell_type": "code",
   "execution_count": 2,
   "metadata": {},
   "outputs": [],
   "source": [
    "grid = 32\n",
    "traindata = np.load('train_data.npz')\n",
    "testdata = np.load('test_data.npz')\n",
    "trainimages = traindata['circles']\n",
    "testimages = testdata['circles']\n",
    "trainlabels = traindata['labels']\n",
    "testlabels = testdata['labels']\n",
    "toshuffletrain = np.hstack((trainimages, trainlabels))\n",
    "np.random.shuffle(toshuffletrain)\n",
    "n_test = len(testlabels)\n",
    "n_train = len(trainlabels)\n",
    "trainimages = toshuffletrain[:,:-1].reshape(n_train, grid, grid, 1)\n",
    "trainlabels = toshuffletrain[:,-1:]\n",
    "toshuffletest = np.hstack((testimages, testlabels))\n",
    "testimages = toshuffletest[:,:-1].reshape(n_test, grid, grid, 1)\n",
    "testlabels = toshuffletest[:,-1:]"
   ]
  },
  {
   "cell_type": "markdown",
   "metadata": {},
   "source": [
    "Print a plot of data to see what it looks like!"
   ]
  },
  {
   "cell_type": "markdown",
   "metadata": {},
   "source": [
    "Preprocessing -> spit data into training and testing; take 80% for training and 20% for testing.\n",
    "\n",
    "If using CNN, uncomment \".reshape(n_data, grid, grid, 1)\"."
   ]
  },
  {
   "cell_type": "code",
   "execution_count": 3,
   "metadata": {},
   "outputs": [
    {
     "name": "stdout",
     "output_type": "stream",
     "text": [
      "1 == signal, 0 == bg \n",
      "[1.]\n"
     ]
    },
    {
     "data": {
      "text/plain": [
       "<matplotlib.colorbar.Colorbar at 0x140e8d6d8>"
      ]
     },
     "execution_count": 3,
     "metadata": {},
     "output_type": "execute_result"
    },
    {
     "data": {
      "image/png": "[encoded data removed]",
      "text/plain": [
       "<Figure size 432x288 with 2 Axes>"
      ]
     },
     "metadata": {
      "needs_background": "light"
     },
     "output_type": "display_data"
    }
   ],
   "source": [
    "display = testimages[60].reshape(grid,grid)\n",
    "plt.grid(False)\n",
    "plt.imshow(display, cmap = 'jet')\n",
    "print(\"1 == signal, 0 == bg \")\n",
    "print(testlabels[60])\n",
    "plt.colorbar()"
   ]
  },
  {
   "cell_type": "markdown",
   "metadata": {},
   "source": [
    "Build DNN:"
   ]
  },
  {
   "cell_type": "code",
   "execution_count": 4,
   "metadata": {},
   "outputs": [],
   "source": [
    "def build_model():\n",
    "    model = keras.Sequential([\n",
    "        Conv2D(32, (11, 11), activation='relu',\n",
    "               input_shape=(grid, grid, 1)),\n",
    "        Conv2D(32, (3, 3), activation='relu'\n",
    "              ),\n",
    "        MaxPool2D((2, 2)),\n",
    "#         Dropout(0.2),\n",
    "        Conv2D(32, (3, 3), activation='relu'\n",
    "              ),\n",
    "        Conv2D(32, (3, 3), activation='relu'\n",
    "              ),\n",
    "        MaxPool2D((2, 2)),\n",
    "#         Dropout(0.2),\n",
    "        Flatten(),\n",
    "        Dense(64, activation=tf.nn.relu),\n",
    "        Dense(64, activation=tf.nn.relu),\n",
    "#         Dropout(0.2),\n",
    "        Dense(1, activation=tf.nn.sigmoid)\n",
    "      ])\n",
    "\n",
    "    model.compile(loss='binary_crossentropy',\n",
    "                optimizer='adam',\n",
    "                metrics=['mean_squared_error', 'binary_crossentropy', 'accuracy'])\n",
    "    return model"
   ]
  },
  {
   "cell_type": "markdown",
   "metadata": {},
   "source": [
    "Initialize model:"
   ]
  },
  {
   "cell_type": "code",
   "execution_count": 5,
   "metadata": {},
   "outputs": [],
   "source": [
    "circleCNN = build_model()"
   ]
  },
  {
   "cell_type": "markdown",
   "metadata": {},
   "source": [
    "Test model's prediction $before$ training:"
   ]
  },
  {
   "cell_type": "code",
   "execution_count": 6,
   "metadata": {},
   "outputs": [
    {
     "name": "stdout",
     "output_type": "stream",
     "text": [
      "\r",
      "10/10 [==============================] - 0s 7ms/sample - loss: 0.6934 - mean_squared_error: 0.2501 - binary_crossentropy: 0.6934 - accuracy: 0.3000\n"
     ]
    },
    {
     "data": {
      "text/plain": [
       "array([[0.4997302 ],\n",
       "       [0.499853  ],\n",
       "       [0.5000796 ],\n",
       "       [0.4999754 ],\n",
       "       [0.5002974 ],\n",
       "       [0.49982947],\n",
       "       [0.50032234],\n",
       "       [0.50007343],\n",
       "       [0.4997947 ],\n",
       "       [0.5003739 ]], dtype=float32)"
      ]
     },
     "execution_count": 6,
     "metadata": {},
     "output_type": "execute_result"
    }
   ],
   "source": [
    "example_batch = trainimages[:10]\n",
    "example_labels = trainlabels[:10]\n",
    "example_result = circleCNN.predict(example_batch)\n",
    "results = circleCNN.evaluate(example_batch, example_labels)\n",
    "example_result"
   ]
  },
  {
   "cell_type": "markdown",
   "metadata": {},
   "source": [
    "Now train! (warning: if building CNN, computer tends to get loud)"
   ]
  },
  {
   "cell_type": "code",
   "execution_count": 7,
   "metadata": {},
   "outputs": [
    {
     "name": "stdout",
     "output_type": "stream",
     "text": [
      "\n",
      "Epoch 00001: val_loss improved from inf to 0.41453, saving model to training/CNN_sparce_cat.h5\n",
      "\n",
      "Epoch 00002: val_loss improved from 0.41453 to 0.37155, saving model to training/CNN_sparce_cat.h5\n",
      "\n",
      "Epoch 00003: val_loss improved from 0.37155 to 0.33352, saving model to training/CNN_sparce_cat.h5\n",
      "\n",
      "Epoch 00004: val_loss improved from 0.33352 to 0.33265, saving model to training/CNN_sparce_cat.h5\n",
      "\n",
      "Epoch 00005: val_loss improved from 0.33265 to 0.30470, saving model to training/CNN_sparce_cat.h5\n",
      "\n",
      "Epoch 00006: val_loss improved from 0.30470 to 0.29617, saving model to training/CNN_sparce_cat.h5\n",
      "\n",
      "Epoch 00007: val_loss did not improve from 0.29617\n",
      "\n",
      "Epoch 00008: val_loss did not improve from 0.29617\n",
      "\n",
      "Epoch 00009: val_loss did not improve from 0.29617\n",
      "\n",
      "Epoch 00010: val_loss did not improve from 0.29617\n",
      "\n",
      "Epoch 00011: val_loss did not improve from 0.29617\n",
      "\n",
      "Epoch 00012: val_loss did not improve from 0.29617\n",
      "\n",
      "Epoch 00013: val_loss did not improve from 0.29617\n",
      "\n",
      "Epoch 00014: val_loss did not improve from 0.29617\n",
      "\n",
      "Epoch 00015: val_loss did not improve from 0.29617\n",
      "\n",
      "Epoch 00016: val_loss did not improve from 0.29617\n"
     ]
    }
   ],
   "source": [
    " class PrintDot(keras.callbacks.Callback):\n",
    "   def on_epoch_end(self, epoch, logs):\n",
    "     if epoch % 100 == 0: \n",
    "         print('')\n",
    "     print('.', end='')\n",
    "    \n",
    "checkpoint_path = \"training/CNN_sparce_cat.h5\"\n",
    "\n",
    "\n",
    "# Create checkpoint callback\n",
    "# cp_callback = tf.keras.callbacks.ModelCheckpoint(checkpoint_path, \n",
    "#                                                  save_best_only=True,\n",
    "#                                                  verbose=1)\n",
    "model_checkpoint = tf.keras.callbacks.ModelCheckpoint(checkpoint_path, monitor='val_loss', \n",
    "                                   verbose=1, save_best_only=True, \n",
    "                                   save_weights_only=False, mode='auto', \n",
    "                                   period=1)    \n",
    " EPOCHS = 1000\n",
    " early_stop = keras.callbacks.EarlyStopping(monitor='val_loss', patience=10)\n",
    " history = circleCNN.fit(\n",
    "   trainimages, trainlabels,\n",
    "   epochs=EPOCHS, validation_split = 0.2, verbose = 0,\n",
    "   callbacks=[early_stop, model_checkpoint])"
   ]
  },
  {
   "cell_type": "markdown",
   "metadata": {},
   "source": [
    "Now make a plot that shows the pregression of accuracy through each training epoch."
   ]
  },
  {
   "cell_type": "code",
   "execution_count": 10,
   "metadata": {},
   "outputs": [
    {
     "data": {
      "image/png": "[encoded data removed]",
      "text/plain": [
       "<Figure size 432x288 with 1 Axes>"
      ]
     },
     "metadata": {
      "needs_background": "light"
     },
     "output_type": "display_data"
    }
   ],
   "source": [
    "def plot_history(history):\n",
    "  hist = pd.DataFrame(history.history)\n",
    "  hist['epoch'] = history.epoch\n",
    "  \n",
    "  plt.figure()\n",
    "  plt.xlabel('Epoch')\n",
    "  plt.ylabel('Mean Square Error')\n",
    "  plt.plot(hist['epoch'], hist['mean_squared_error'],\n",
    "           label='Train Error')\n",
    "  plt.plot(hist['epoch'], hist['val_mean_squared_error'],\n",
    "           label = 'Val Error')\n",
    "  plt.ylim([0,100])\n",
    "  plt.legend()\n",
    "  plt.show()\n",
    "\n",
    "plot_history(history)"
   ]
  },
  {
   "cell_type": "markdown",
   "metadata": {},
   "source": [
    "Load best weights."
   ]
  },
  {
   "cell_type": "code",
   "execution_count": 11,
   "metadata": {},
   "outputs": [
    {
     "name": "stdout",
     "output_type": "stream",
     "text": [
      "CNN_sparce_cat.h5\n",
      "Model: \"sequential\"\n",
      "_________________________________________________________________\n",
      "Layer (type)                 Output Shape              Param #   \n",
      "=================================================================\n",
      "conv2d (Conv2D)              (None, 22, 22, 32)        3904      \n",
      "_________________________________________________________________\n",
      "conv2d_1 (Conv2D)            (None, 20, 20, 32)        9248      \n",
      "_________________________________________________________________\n",
      "max_pooling2d (MaxPooling2D) (None, 10, 10, 32)        0         \n",
      "_________________________________________________________________\n",
      "conv2d_2 (Conv2D)            (None, 8, 8, 32)          9248      \n",
      "_________________________________________________________________\n",
      "conv2d_3 (Conv2D)            (None, 6, 6, 32)          9248      \n",
      "_________________________________________________________________\n",
      "max_pooling2d_1 (MaxPooling2 (None, 3, 3, 32)          0         \n",
      "_________________________________________________________________\n",
      "flatten (Flatten)            (None, 288)               0         \n",
      "_________________________________________________________________\n",
      "dense (Dense)                (None, 64)                18496     \n",
      "_________________________________________________________________\n",
      "dense_1 (Dense)              (None, 64)                4160      \n",
      "_________________________________________________________________\n",
      "dense_2 (Dense)              (None, 1)                 65        \n",
      "=================================================================\n",
      "Total params: 54,369\n",
      "Trainable params: 54,369\n",
      "Non-trainable params: 0\n",
      "_________________________________________________________________\n",
      "10000/10000 [==============================] - 1s 135us/sample - loss: 0.5943 - mean_squared_error: 0.2075 - binary_crossentropy: 0.5943 - accuracy: 0.6713\n"
     ]
    }
   ],
   "source": [
    "!ls training\n",
    "best_model = tf.keras.models.load_model('training/CNN_sparce_cat.h5')\n",
    "best_model.summary()\n",
    "results = best_model.evaluate(testimages, testlabels)"
   ]
  },
  {
   "cell_type": "markdown",
   "metadata": {},
   "source": [
    "Evaluate the performance of our DNN! Plot predictions vs. true values (the line is predictions vs. predicitons)."
   ]
  },
  {
   "cell_type": "code",
   "execution_count": 22,
   "metadata": {},
   "outputs": [
    {
     "data": {
      "image/png": "[encoded data removed]",
      "text/plain": [
       "<Figure size 432x288 with 1 Axes>"
      ]
     },
     "metadata": {
      "needs_background": "light"
     },
     "output_type": "display_data"
    }
   ],
   "source": [
    "# Plot ROC\n",
    "Y_predict = circleCNN.predict(testimages)\n",
    "from sklearn.metrics import roc_curve, auc\n",
    "fpr, tpr, thresholds = roc_curve(testlabels, Y_predict)\n",
    "roc_auc = auc(fpr, tpr)\n",
    "plt.plot(fpr, tpr, lw=2, color='cyan', label='auc = %.3f' % (roc_auc))\n",
    "plt.plot([0, 1], [0, 1], linestyle='--', lw=2, color='k', label='random chance')\n",
    "plt.xlim([0, 1.0])\n",
    "plt.ylim([0, 1.0])\n",
    "plt.xlabel('false positive rate')\n",
    "plt.ylabel('true positive rate')\n",
    "plt.title('receiver operating curve')\n",
    "plt.legend(loc=\"lower right\")\n",
    "plt.show()"
   ]
  },
  {
   "cell_type": "code",
   "execution_count": null,
   "metadata": {},
   "outputs": [],
   "source": []
  },
  {
   "cell_type": "code",
   "execution_count": null,
   "metadata": {},
   "outputs": [],
   "source": []
  },
  {
   "cell_type": "code",
   "execution_count": null,
   "metadata": {},
   "outputs": [],
   "source": []
  }
 ],
 "metadata": {
  "kernelspec": {
   "display_name": "Python 3",
   "language": "python",
   "name": "python3"
  },
  "language_info": {
   "codemirror_mode": {
    "name": "ipython",
    "version": 3
   },
   "file_extension": ".py",
   "mimetype": "text/x-python",
   "name": "python",
   "nbconvert_exporter": "python",
   "pygments_lexer": "ipython3",
   "version": "3.7.3"
  }
 },
 "nbformat": 4,
 "nbformat_minor": 2
}
