{
 "cells": [
  {
   "cell_type": "code",
   "execution_count": 1,
   "metadata": {},
   "outputs": [
    {
     "name": "stderr",
     "output_type": "stream",
     "text": [
      "/opt/conda/lib/python3.7/site-packages/tensorflow/python/framework/dtypes.py:526: FutureWarning: Passing (type, 1) or '1type' as a synonym of type is deprecated; in a future version of numpy, it will be understood as (type, (1,)) / '(1,)type'.\n",
      "  _np_qint8 = np.dtype([(\"qint8\", np.int8, 1)])\n",
      "/opt/conda/lib/python3.7/site-packages/tensorflow/python/framework/dtypes.py:527: FutureWarning: Passing (type, 1) or '1type' as a synonym of type is deprecated; in a future version of numpy, it will be understood as (type, (1,)) / '(1,)type'.\n",
      "  _np_quint8 = np.dtype([(\"quint8\", np.uint8, 1)])\n",
      "/opt/conda/lib/python3.7/site-packages/tensorflow/python/framework/dtypes.py:528: FutureWarning: Passing (type, 1) or '1type' as a synonym of type is deprecated; in a future version of numpy, it will be understood as (type, (1,)) / '(1,)type'.\n",
      "  _np_qint16 = np.dtype([(\"qint16\", np.int16, 1)])\n",
      "/opt/conda/lib/python3.7/site-packages/tensorflow/python/framework/dtypes.py:529: FutureWarning: Passing (type, 1) or '1type' as a synonym of type is deprecated; in a future version of numpy, it will be understood as (type, (1,)) / '(1,)type'.\n",
      "  _np_quint16 = np.dtype([(\"quint16\", np.uint16, 1)])\n",
      "/opt/conda/lib/python3.7/site-packages/tensorflow/python/framework/dtypes.py:530: FutureWarning: Passing (type, 1) or '1type' as a synonym of type is deprecated; in a future version of numpy, it will be understood as (type, (1,)) / '(1,)type'.\n",
      "  _np_qint32 = np.dtype([(\"qint32\", np.int32, 1)])\n",
      "/opt/conda/lib/python3.7/site-packages/tensorflow/python/framework/dtypes.py:535: FutureWarning: Passing (type, 1) or '1type' as a synonym of type is deprecated; in a future version of numpy, it will be understood as (type, (1,)) / '(1,)type'.\n",
      "  np_resource = np.dtype([(\"resource\", np.ubyte, 1)])\n",
      "Using TensorFlow backend.\n"
     ]
    },
    {
     "name": "stdout",
     "output_type": "stream",
     "text": [
      "1.13.1\n"
     ]
    }
   ],
   "source": [
    "# TensorFlow and tf.keras\n",
    "import tensorflow as tf\n",
    "#tf.enable_eager_execution()\n",
    "\n",
    "from tensorflow import keras\n",
    "from tensorflow.keras import layers\n",
    "import pandas as pd\n",
    "\n",
    "import keras\n",
    "import keras.backend\n",
    "from keras import layers\n",
    "from keras import models\n",
    "import keras.utils\n",
    "\n",
    "print(tf.__version__)\n",
    "\n",
    "# Helper libraries\n",
    "import numpy as np\n",
    "import matplotlib.pyplot as plt\n",
    "from matplotlib.colors import LogNorm\n",
    "import math\n",
    "import time\n",
    "import h5py\n",
    "import sklearn\n",
    "from sklearn.utils import shuffle\n",
    "\n",
    "import os\n",
    "\n"
   ]
  },
  {
   "cell_type": "markdown",
   "metadata": {},
   "source": [
    "## Import data:\n",
    "Using jetImages_signal.npz and jetImages_bkg.npz to train the neural network and using jetImages_signal_test.npz and jetImages_bkg_test.npz for testing."
   ]
  },
  {
   "cell_type": "code",
   "execution_count": 2,
   "metadata": {},
   "outputs": [],
   "source": [
    "# #list_ds = tf.data.Dataset.list_files('data/jetImages*.npz')\n",
    "# list_ds = tf.data.Dataset.list_files('/mnt/data/ml/ShowJetsData.npz')\n",
    "\n",
    "# l_jetImages = []\n",
    "# l_labels = []\n",
    "# n = 5 #take number of files\n",
    "# n_images = 0 #number of images in one file\n",
    "# for f1 in list_ds.take(n):\n",
    "#     print(f1.numpy())\n",
    "#     with np.load(f1.numpy()) as data:\n",
    "\n",
    "#         jetImages  = np.array(data['jetImages'])\n",
    "#         n_images += len(jetImages)\n",
    "#         l_jetImages.append(jetImages)\n",
    "#         labels  = data['labels']\n",
    "#         l_labels.append(labels)\n",
    "#         print(labels.shape)\n",
    "#         print(jetImages.shape)\n",
    "\n",
    "\n",
    "# l_jetImages = np.array(l_jetImages).reshape(n_images,16,16,1)\n",
    "# l_labels = np.array(l_labels).reshape(n_images,4)\n"
   ]
  },
  {
   "cell_type": "code",
   "execution_count": 3,
   "metadata": {},
   "outputs": [
    {
     "name": "stdout",
     "output_type": "stream",
     "text": [
      "(336227,)\n",
      "(62025, 16, 16, 1)\n",
      "(62025, 2)\n",
      "(62025, 1)\n",
      "(62025, 1)\n",
      "\n",
      "(12405, 16, 16, 1)\n",
      "(12405, 2)\n",
      "(12405,)\n",
      "(12405,)\n",
      "\n",
      "(24810, 16, 16, 1)\n",
      "(24810, 2)\n",
      "(24810,)\n",
      "(24810,)\n"
     ]
    }
   ],
   "source": [
    "data = np.load('/mnt/data/ml/ShowJetsDataTest.npz')\n",
    "# !ls /mnt/data/ml/\n",
    "images = data['jetImages']\n",
    "labels = data['labels']\n",
    "tau21 = data['tau21']\n",
    "chMult = data['chMult']\n",
    "\n",
    "## data = stack all of them, then split them up after\n",
    "\n",
    "print(chMult.shape)\n",
    "\n",
    "grid = np.size(images, 1)\n",
    "#ensure same number of signal vs. background and even split of z events\n",
    "qcd_im = images[np.where(labels[:,0] == 1)]\n",
    "qcd_tau = tau21[np.where(labels[:,0] == 1)]\n",
    "qcd_mult = chMult[np.where(labels[:,0] == 1)]\n",
    "\n",
    "if len(qcd_im) % 3 != 0:\n",
    "    qcd_im = qcd_im[:len(qcd_im)-(len(qcd_im) % 3)]\n",
    "    qcd_tau = qcd_tau[:len(qcd_im)-(len(qcd_im) % 3)]\n",
    "    qcd_mult = qcd_mult[:len(qcd_im)-(len(qcd_im) % 3)]\n",
    "\n",
    "z1_im = images[np.where(labels[:,1] == 1)]\n",
    "z1_im = z1_im[:int(len(qcd_im)/3)]\n",
    "z1_tau = tau21[np.where(labels[:,1] == 1)]\n",
    "z1_tau = z1_tau[:int(len(qcd_im)/3)]\n",
    "z1_mult = chMult[np.where(labels[:,1] == 1)]\n",
    "z1_mult = z1_mult[:int(len(qcd_im)/3)]\n",
    "\n",
    "z2_im = images[np.where(labels[:,2] == 1)]\n",
    "z2_im = z2_im[:int(len(qcd_im)/3)]\n",
    "z2_tau = tau21[np.where(labels[:,2] == 1)]\n",
    "z2_tau = z2_tau[:int(len(qcd_im)/3)]\n",
    "z2_mult = chMult[np.where(labels[:,2] == 1)]\n",
    "z2_mult = z1_mult[:int(len(qcd_im)/3)]\n",
    "\n",
    "z3_im = images[np.where(labels[:,3] == 1)]\n",
    "z3_im = z3_im[:int(len(qcd_im)/3)]\n",
    "z3_tau = tau21[np.where(labels[:,3] == 1)]\n",
    "z3_tau = z3_tau[:int(len(qcd_im)/3)]\n",
    "z3_mult = chMult[np.where(labels[:,3] == 1)]\n",
    "z3_mult = z1_mult[:int(len(qcd_im)/3)]\n",
    "\n",
    "qcd_lab = np.zeros([len(qcd_im), 2])\n",
    "qcd_lab[:,0] = 1\n",
    "z_lab = np.zeros([len(qcd_im), 2])\n",
    "z_lab[:,1] = 1\n",
    "images = np.vstack((qcd_im, z1_im, z2_im, z3_im))\n",
    "taus = np.hstack((qcd_tau, z1_tau, z2_tau, z3_tau))\n",
    "mults = np.hstack((qcd_mult, z1_mult, z2_mult, z3_mult))\n",
    "labels = np.vstack((qcd_lab, z_lab))\n",
    "n_data = len(images)\n",
    "images = images.reshape(n_data, grid, grid, 1)\n",
    "#split data into testing/training/validation\n",
    "testimages = images[::4]\n",
    "testlabels = labels[::4]\n",
    "testtaus = taus[::4]\n",
    "testmults = mults[::4]\n",
    "mask_im = np.ones(images.shape,dtype=bool)\n",
    "mask_im[::4] = 0\n",
    "mask_im[1::8] = 0\n",
    "mask_lab = np.ones(labels.shape,dtype=bool)\n",
    "mask_lab[::4] = 0\n",
    "mask_lab[1::8] = 0\n",
    "mask_tau = np.ones(taus.shape,dtype=bool)\n",
    "mask_tau[::4] = 0\n",
    "mask_tau[1::8] = 0\n",
    "mask_mult = np.ones(mults.shape,dtype=bool)\n",
    "mask_mult[::4] = 0\n",
    "mask_mult[1::8] = 0\n",
    "valimages = images[1::8]\n",
    "vallabels = labels[1::8]\n",
    "valtaus = taus[1::8]\n",
    "valmults = mults[1::8]\n",
    "trainimages = images[mask_im].reshape((n_data-len(testimages)-len(valimages)), grid, grid, 1)\n",
    "trainlabels = labels[mask_lab].reshape((n_data-len(testimages)-len(valimages)), 2)\n",
    "traintaus = taus[mask_tau].reshape((n_data-len(testimages)-len(valimages)), 1)\n",
    "trainmults = mults[mask_mult].reshape((n_data-len(testimages)-len(valimages)), 1)\n",
    "\n",
    "print(trainimages.shape)\n",
    "print(trainlabels.shape)\n",
    "print(traintaus.shape)\n",
    "print(trainmults.shape)\n",
    "print()\n",
    "print(valimages.shape)\n",
    "print(vallabels.shape)\n",
    "print(valtaus.shape)\n",
    "print(valmults.shape)\n",
    "print()\n",
    "print(testimages.shape)\n",
    "print(testlabels.shape)\n",
    "print(testtaus.shape)\n",
    "print(testmults.shape)"
   ]
  },
  {
   "cell_type": "code",
   "execution_count": 4,
   "metadata": {
    "scrolled": false
   },
   "outputs": [],
   "source": [
    "# import list of files\n",
    "\n",
    "# filelist = tf.data.Dataset.list_files(str('data/jetImages*.npz'))\n",
    "# initialize new array and concatenate / append array to initialized array [DOES NOT WORK] trying zip\n",
    "\n",
    "\n",
    "# for f1 in filelist_sig.take(1):\n",
    "#     with np.load(f1.numpy()) as data:\n",
    "#         jetImages = data['jetImages']\n",
    "#         labels = data['labels']\n",
    "        \n",
    "# dataset = tf.data.Dataset.from_tensor_slices((l_jetImages, l_labels))\n",
    "# batched_dataset = dataset.batch(4)\n",
    "\n",
    "\n",
    "#for batch in batched_dataset.take(1):\n",
    "#    print([arr.numpy() for arr in batch])\n"
   ]
  },
  {
   "cell_type": "code",
   "execution_count": 5,
   "metadata": {},
   "outputs": [],
   "source": [
    "# grid = 16\n",
    "\n",
    "# trainimages = l_jetImages[10:]\n",
    "# trainlabels = l_labels[10:]\n",
    "\n",
    "# testimages = l_jetImages[:10]\n",
    "# testlables = l_labels[:10]\n",
    "\n",
    "# print(trainimages.shape)\n",
    "# print(trainlabels.shape)"
   ]
  },
  {
   "cell_type": "code",
   "execution_count": 6,
   "metadata": {},
   "outputs": [],
   "source": [
    "# grid = 16\n",
    "# # training data : 10,000 signal samples and 10,000 bkg samples\n",
    "# #traindata_sig = np.load('data/jetImages_signal.npz')\n",
    "# #traindata_bkg = np.load('data/jetImages_bkg.npz')\n",
    "# trainimages = np.concatenate((traindata_sig['jetImages'], traindata_bkg['jetImages']),axis=0)\n",
    "# trainlabels = np.concatenate((traindata_sig['labels'],traindata_bkg['labels']),axis=0)\n",
    "# # testing data : 10,000 signal samples and 10,000 bkg samples\n",
    "# testdata_sig = np.load('data/jetImages_signal_test.npz')\n",
    "# testdata_bkg = np.load('data/jetImages_bkg_test.npz')\n",
    "# testimages = np.concatenate((testdata_sig['jetImages'], testdata_bkg['jetImages']),axis=0)\n",
    "# testlabels = np.concatenate((testdata_sig['labels'], testdata_bkg['labels']),axis=0)\n",
    "\n",
    "# n_test = len(testlabels)\n",
    "# n_train = len(trainlabels)\n",
    "# trainimages = trainimages.reshape(n_train, grid, grid, 1)\n",
    "# testimages = testimages.reshape(n_test, grid, grid, 1)\n",
    "# print(trainimages.shape)\n",
    "# print(trainlabels.shape)"
   ]
  },
  {
   "cell_type": "code",
   "execution_count": 7,
   "metadata": {},
   "outputs": [],
   "source": [
    "# dataset = tf.data.Dataset.from_tensor_slices((l_jetImages, l_labels))\n",
    "# test_dataset = tf.data.Dataset.from_tensor_slices((testimages, testlabels))\n",
    "\n",
    "# batched_test_dataset = test_dataset.batch(4)\n",
    "\n",
    "#for batch in batched_dataset.take(4):\n",
    "#  print([arr.numpy() for arr in batch])\n"
   ]
  },
  {
   "cell_type": "markdown",
   "metadata": {},
   "source": [
    "Print a plot of data to see what it looks like!"
   ]
  },
  {
   "cell_type": "markdown",
   "metadata": {},
   "source": [
    "Preprocessing -> spit data into training and testing; take 80% for training and 20% for testing.\n",
    "\n",
    "If using CNN, uncomment \".reshape(n_data, grid, grid, 1)\"."
   ]
  },
  {
   "cell_type": "code",
   "execution_count": 4,
   "metadata": {},
   "outputs": [
    {
     "data": {
      "image/png": "[encoded data removed]",
      "text/plain": [
       "<Figure size 432x288 with 2 Axes>"
      ]
     },
     "metadata": {
      "needs_background": "light"
     },
     "output_type": "display_data"
    }
   ],
   "source": [
    "#plot input signal and background\n",
    "sig_trainimages = np.zeros_like(trainimages[1])\n",
    "bkg_trainimages = np.zeros_like(trainimages[1])\n",
    "for i in range(len(trainimages)):\n",
    "    if trainlabels[i,0] == 1:\n",
    "        sig_trainimages += trainimages[i]\n",
    "    else:\n",
    "        bkg_trainimages += trainimages[i]\n",
    "#signal\n",
    "display_sig = sig_trainimages.reshape(grid,grid)\n",
    "plt.grid(False)\n",
    "plt.imshow(display_sig, interpolation='nearest', origin='low', cmap = 'jet', norm=LogNorm())\n",
    "plt.colorbar()\n",
    "plt.show()"
   ]
  },
  {
   "cell_type": "markdown",
   "metadata": {},
   "source": [
    "Build DNN:"
   ]
  },
  {
   "cell_type": "code",
   "execution_count": 5,
   "metadata": {},
   "outputs": [
    {
     "data": {
      "image/png": "[encoded data removed]",
      "text/plain": [
       "<Figure size 432x288 with 2 Axes>"
      ]
     },
     "metadata": {
      "needs_background": "light"
     },
     "output_type": "display_data"
    }
   ],
   "source": [
    "#background\n",
    "display_bkg = bkg_trainimages.reshape(grid,grid)\n",
    "plt.grid(False)\n",
    "plt.imshow(display_bkg, interpolation='nearest', origin='low', cmap = 'jet', norm=LogNorm())\n",
    "plt.colorbar()\n",
    "plt.show()"
   ]
  },
  {
   "cell_type": "code",
   "execution_count": 10,
   "metadata": {},
   "outputs": [],
   "source": [
    "# def build_model():\n",
    "#     model = keras.Sequential([\n",
    "#         Conv2D(32, (11, 11), activation='relu',\n",
    "#                input_shape=(grid, grid, 1)),\n",
    "#         Conv2D(32, (3, 3), activation='relu'),\n",
    "#         MaxPool2D((2, 2)),\n",
    "# #         Dropout(0.2),\n",
    "#         Conv2D(32, (3, 3), activation='relu'),\n",
    "#         Conv2D(32, (3, 3), activation='relu'),\n",
    "#         MaxPool2D((2, 2)),\n",
    "# #         Dropout(0.2),\n",
    "#         Flatten(),\n",
    "#         #custom input layer\n",
    "#         Dense(64, activation=tf.nn.relu),\n",
    "#         Dense(64, activation=tf.nn.relu),\n",
    "# #         Dropout(0.2),\n",
    "#         Dense(1, activation=tf.nn.sigmoid)])\n",
    "\n",
    "#     model.compile(loss='binary_crossentropy',\n",
    "#                 optimizer='adam',\n",
    "#                 metrics=['mean_squared_error', 'binary_crossentropy', 'accuracy'])\n",
    "#     return model"
   ]
  },
  {
   "cell_type": "code",
   "execution_count": 11,
   "metadata": {},
   "outputs": [],
   "source": [
    "import tensorflow as tf\n",
    "\n",
    "def build_model():\n",
    "    input1 = layers.Input(shape = (grid, grid, 1))\n",
    "    x = layers.Conv2D(64, (12, 12), activation='relu', padding = 'same')(input1)\n",
    "    x = layers.Conv2D(64, (6, 6), activation='relu', padding = 'same')(x)\n",
    "    x = layers.Conv2D(64, (4, 4), activation='relu', padding = 'same')(x)\n",
    "    x = layers.MaxPool2D((2, 2))(x)\n",
    "    x1 = layers.Flatten()(x)\n",
    "    input2 = layers.Input(shape=(1,))\n",
    "    #input3 = layers.Input(shape=(1,))\n",
    "    #input4 = layers.Input(shape=(1,))\n",
    "    x = layers.concatenate(inputs = [x1, input2],axis=-1)\n",
    "    x = layers.Dense(256, activation=tf.nn.relu)(x)\n",
    "    output = layers.Dense(2, activation=tf.nn.sigmoid)(x)\n",
    "    model = models.Model(inputs=[input1, input2], outputs=output)\n",
    "    model.compile(loss='categorical_crossentropy',\n",
    "                optimizer='adam',\n",
    "                metrics=['categorical_crossentropy', 'accuracy'])\n",
    "    return model"
   ]
  },
  {
   "cell_type": "markdown",
   "metadata": {},
   "source": [
    "Initialize model:"
   ]
  },
  {
   "cell_type": "code",
   "execution_count": 12,
   "metadata": {},
   "outputs": [
    {
     "name": "stdout",
     "output_type": "stream",
     "text": [
      "WARNING:tensorflow:From /opt/conda/lib/python3.7/site-packages/tensorflow/python/framework/op_def_library.py:263: colocate_with (from tensorflow.python.framework.ops) is deprecated and will be removed in a future version.\n",
      "Instructions for updating:\n",
      "Colocations handled automatically by placer.\n"
     ]
    }
   ],
   "source": [
    "circleCNN = build_model()"
   ]
  },
  {
   "cell_type": "markdown",
   "metadata": {},
   "source": [
    "Test model's prediction $before$ training:"
   ]
  },
  {
   "cell_type": "code",
   "execution_count": 13,
   "metadata": {
    "scrolled": false
   },
   "outputs": [
    {
     "name": "stdout",
     "output_type": "stream",
     "text": [
      "(207, 1)\n",
      "(207, 16, 16, 1)\n",
      "(207, 1)\n",
      "207/207 [==============================] - 0s 2ms/step\n",
      "[[0.5025403  0.49960783]\n",
      " [0.5037716  0.49885908]\n",
      " [0.5045614  0.4982309 ]\n",
      " [0.5042055  0.49881977]\n",
      " [0.5056183  0.49802828]\n",
      " [0.50475615 0.49831176]\n",
      " [0.506357   0.49734217]\n",
      " [0.5058     0.49803948]\n",
      " [0.5038267  0.4987353 ]\n",
      " [0.5055017  0.4984029 ]\n",
      " [0.5034248  0.499143  ]\n",
      " [0.50505626 0.49818018]\n",
      " [0.50419474 0.4985114 ]\n",
      " [0.5030866  0.4991826 ]\n",
      " [0.5047773  0.4984386 ]\n",
      " [0.5063556  0.49796012]\n",
      " [0.5041134  0.49858603]\n",
      " [0.5043482  0.49859974]\n",
      " [0.5044526  0.4981297 ]\n",
      " [0.50524753 0.49819672]\n",
      " [0.507083   0.49741948]\n",
      " [0.5055952  0.49808055]\n",
      " [0.5063224  0.4974431 ]\n",
      " [0.50480604 0.49822834]\n",
      " [0.50579685 0.49761608]\n",
      " [0.50532883 0.4980293 ]\n",
      " [0.5042604  0.4986101 ]\n",
      " [0.5053842  0.49785152]\n",
      " [0.50579    0.4980713 ]\n",
      " [0.5065559  0.4980944 ]\n",
      " [0.5056213  0.49824575]\n",
      " [0.50601524 0.49774393]\n",
      " [0.50645643 0.49717927]\n",
      " [0.5056187  0.49777597]\n",
      " [0.5067769  0.4976396 ]\n",
      " [0.50537515 0.49773383]\n",
      " [0.5049838  0.49825102]\n",
      " [0.50472796 0.49819762]\n",
      " [0.5036496  0.49888352]\n",
      " [0.5029976  0.49952838]\n",
      " [0.50354517 0.49919087]\n",
      " [0.504385   0.49817637]\n",
      " [0.5062453  0.49808875]\n",
      " [0.5062887  0.4981021 ]\n",
      " [0.5062804  0.49742517]\n",
      " [0.50489974 0.49820396]\n",
      " [0.505205   0.49836946]\n",
      " [0.50534195 0.49771124]\n",
      " [0.50466466 0.49817482]\n",
      " [0.5041921  0.49881175]\n",
      " [0.50551283 0.49869835]\n",
      " [0.5029944  0.49962524]\n",
      " [0.5047784  0.4985847 ]\n",
      " [0.50531673 0.49836853]\n",
      " [0.50546485 0.4977812 ]\n",
      " [0.50545245 0.49788117]\n",
      " [0.5063051  0.49778125]\n",
      " [0.5054327  0.49886012]\n",
      " [0.50495017 0.4983384 ]\n",
      " [0.50637084 0.4976742 ]\n",
      " [0.5060542  0.49693745]\n",
      " [0.50494784 0.49837902]\n",
      " [0.5044309  0.49876195]\n",
      " [0.5060545  0.4981528 ]\n",
      " [0.5045212  0.4985004 ]\n",
      " [0.50608444 0.49749398]\n",
      " [0.505026   0.49876526]\n",
      " [0.50627255 0.49784383]\n",
      " [0.50577724 0.49796757]\n",
      " [0.50637054 0.49749157]\n",
      " [0.50578594 0.49790266]\n",
      " [0.5060759  0.4985933 ]\n",
      " [0.50324154 0.49943617]\n",
      " [0.5058518  0.49824306]\n",
      " [0.50323695 0.49897847]\n",
      " [0.5051379  0.4987058 ]\n",
      " [0.50583637 0.4979207 ]\n",
      " [0.504241   0.49883005]\n",
      " [0.50372773 0.49897248]\n",
      " [0.50475496 0.498975  ]\n",
      " [0.5052709  0.49814445]\n",
      " [0.50510204 0.49897516]\n",
      " [0.50504833 0.49809062]\n",
      " [0.50275177 0.49983743]\n",
      " [0.5048702  0.49809167]\n",
      " [0.50586677 0.4976026 ]\n",
      " [0.503275   0.5002263 ]\n",
      " [0.50622153 0.49791482]\n",
      " [0.5057897  0.4981492 ]\n",
      " [0.5057182  0.49765417]\n",
      " [0.50506777 0.49812886]\n",
      " [0.50366807 0.49907   ]\n",
      " [0.50595206 0.49806148]\n",
      " [0.5021196  0.49974373]\n",
      " [0.50571656 0.49786428]\n",
      " [0.5022993  0.49937758]\n",
      " [0.50438243 0.4988096 ]\n",
      " [0.5034017  0.4991314 ]\n",
      " [0.5048661  0.4983765 ]\n",
      " [0.50140345 0.4996424 ]\n",
      " [0.50279266 0.49940622]\n",
      " [0.5059488  0.4984589 ]\n",
      " [0.50556344 0.49816838]\n",
      " [0.5032983  0.49903855]\n",
      " [0.5064572  0.498041  ]\n",
      " [0.50318754 0.49923134]\n",
      " [0.5061585  0.49808758]\n",
      " [0.5023257  0.49986818]\n",
      " [0.50287545 0.4990547 ]\n",
      " [0.5014224  0.50012815]\n",
      " [0.50181425 0.5003537 ]\n",
      " [0.5014107  0.50011903]\n",
      " [0.50373    0.49989077]\n",
      " [0.5021581  0.4993965 ]\n",
      " [0.50187576 0.49980333]\n",
      " [0.5022365  0.49970675]\n",
      " [0.5049502  0.49848425]\n",
      " [0.50606215 0.49798524]\n",
      " [0.50613886 0.49787012]\n",
      " [0.50190353 0.50060636]\n",
      " [0.50596744 0.49762192]\n",
      " [0.50623536 0.49802005]\n",
      " [0.5026654  0.49955285]\n",
      " [0.50606346 0.49756962]\n",
      " [0.5029984  0.4996179 ]\n",
      " [0.50434744 0.49847415]\n",
      " [0.50661904 0.49802607]\n",
      " [0.5051381  0.49876022]\n",
      " [0.5055876  0.49837905]\n",
      " [0.5055365  0.4982073 ]\n",
      " [0.5021833  0.499559  ]\n",
      " [0.502198   0.49950674]\n",
      " [0.5038109  0.49919453]\n",
      " [0.503723   0.4988181 ]\n",
      " [0.504637   0.49900526]\n",
      " [0.5065144  0.4976114 ]\n",
      " [0.50352174 0.49888888]\n",
      " [0.5016076  0.50006866]\n",
      " [0.5024222  0.49979958]\n",
      " [0.5020982  0.5001367 ]\n",
      " [0.5022085  0.4997598 ]\n",
      " [0.5022346  0.49946302]\n",
      " [0.50415343 0.49853376]\n",
      " [0.50402534 0.4990458 ]\n",
      " [0.50363326 0.49934655]\n",
      " [0.5060169  0.4982301 ]\n",
      " [0.5057783  0.49762207]\n",
      " [0.50180763 0.49964765]\n",
      " [0.50382566 0.49911734]\n",
      " [0.50306416 0.49966893]\n",
      " [0.5012755  0.5002206 ]\n",
      " [0.5019035  0.4999903 ]\n",
      " [0.5023214  0.4991637 ]\n",
      " [0.502394   0.49979338]\n",
      " [0.50181174 0.4996004 ]\n",
      " [0.5066494  0.49746937]\n",
      " [0.50314015 0.49991724]\n",
      " [0.50149167 0.50043654]\n",
      " [0.50249374 0.49980754]\n",
      " [0.5016091  0.49993274]\n",
      " [0.5034629  0.49887824]\n",
      " [0.50307447 0.49951047]\n",
      " [0.504237   0.49851814]\n",
      " [0.502876   0.49855104]\n",
      " [0.50263226 0.49969137]\n",
      " [0.50231785 0.50002784]\n",
      " [0.50303745 0.4994366 ]\n",
      " [0.50167125 0.50044674]\n",
      " [0.5025833  0.4997245 ]\n",
      " [0.5032139  0.4996655 ]\n",
      " [0.5020337  0.5000046 ]\n",
      " [0.5026131  0.49953833]\n",
      " [0.5032736  0.49927366]\n",
      " [0.5049887  0.4988644 ]\n",
      " [0.50187254 0.5000152 ]\n",
      " [0.5043245  0.49846718]\n",
      " [0.50158453 0.5002907 ]\n",
      " [0.50439775 0.49923235]\n",
      " [0.5009518  0.5004148 ]\n",
      " [0.50343883 0.49912256]\n",
      " [0.5039895  0.49912   ]\n",
      " [0.5034586  0.49925977]\n",
      " [0.50272673 0.50020206]\n",
      " [0.5027178  0.49937385]\n",
      " [0.50335044 0.49937946]\n",
      " [0.50166726 0.49985364]\n",
      " [0.5032759  0.49987206]\n",
      " [0.5025875  0.4996658 ]\n",
      " [0.5021487  0.4994593 ]\n",
      " [0.5028458  0.49954382]\n",
      " [0.5030822  0.4989423 ]\n",
      " [0.5016754  0.49970055]\n",
      " [0.5032301  0.4993908 ]\n",
      " [0.50568366 0.49832967]\n",
      " [0.5020383  0.5002564 ]\n",
      " [0.505395   0.49804515]\n",
      " [0.5029282  0.49941432]\n",
      " [0.5020714  0.49992952]\n",
      " [0.5028058  0.4997649 ]\n",
      " [0.5014861  0.49990344]\n",
      " [0.502209   0.49978518]\n",
      " [0.50326616 0.49965826]\n",
      " [0.50477445 0.49795157]\n",
      " [0.504082   0.49858394]\n",
      " [0.5037429  0.499005  ]\n",
      " [0.5031231  0.49976417]\n",
      " [0.5040934  0.49870375]]\n",
      "[0.6918877579163814, 0.6918877579163814, 0.5024154589371981]\n"
     ]
    }
   ],
   "source": [
    "example_batch = trainimages[::300]\n",
    "example_labels = trainlabels[::300]\n",
    "example_taus = traintaus[::300]\n",
    "example_mults = trainmults[::300]\n",
    "print(example_taus.shape)\n",
    "print(example_batch.shape)\n",
    "print(example_mults.shape)\n",
    "\n",
    "\n",
    "example_result = circleCNN.predict(x = [example_batch, example_taus])\n",
    "results = circleCNN.evaluate(x = [example_batch, example_taus], y = example_labels)\n",
    "print(example_result)\n",
    "# print(results)"
   ]
  },
  {
   "cell_type": "code",
   "execution_count": 14,
   "metadata": {},
   "outputs": [],
   "source": [
    "# example_batch = trainimages[:10]\n",
    "# example_labels = trainlabels[:10]\n",
    "# example_result = circleCNN.predict(example_batch)\n",
    "# results = circleCNN.evaluate(example_batch, example_labels)\n",
    "# print(example_result)\n",
    "# print(results)"
   ]
  },
  {
   "cell_type": "markdown",
   "metadata": {},
   "source": [
    "Now train! (warning: if building CNN, computer tends to get loud)"
   ]
  },
  {
   "cell_type": "code",
   "execution_count": null,
   "metadata": {},
   "outputs": [
    {
     "name": "stdout",
     "output_type": "stream",
     "text": [
      "WARNING:tensorflow:From /opt/conda/lib/python3.7/site-packages/tensorflow/python/ops/math_ops.py:3066: to_int32 (from tensorflow.python.ops.math_ops) is deprecated and will be removed in a future version.\n",
      "Instructions for updating:\n",
      "Use tf.cast instead.\n",
      "\n",
      "Epoch 00001: val_loss improved from inf to 0.67610, saving model to model/CNN_cat_multi_input.h5\n",
      "\n",
      "Epoch 00002: val_loss improved from 0.67610 to 0.63296, saving model to model/CNN_cat_multi_input.h5\n",
      "\n",
      "Epoch 00003: val_loss improved from 0.63296 to 0.58685, saving model to model/CNN_cat_multi_input.h5\n",
      "\n",
      "Epoch 00004: val_loss did not improve from 0.58685\n",
      "\n",
      "Epoch 00005: val_loss did not improve from 0.58685\n",
      "\n",
      "Epoch 00006: val_loss did not improve from 0.58685\n",
      "\n",
      "Epoch 00007: val_loss did not improve from 0.58685\n",
      "\n",
      "Epoch 00008: val_loss did not improve from 0.58685\n",
      "\n",
      "Epoch 00009: val_loss did not improve from 0.58685\n"
     ]
    }
   ],
   "source": [
    "class PrintDot(keras.callbacks.Callback):\n",
    "    def on_epoch_end(self, epoch, logs):\n",
    "        if epoch % 100 == 0:\n",
    "            print('')\n",
    "        print('.', end='')\n",
    "    \n",
    "checkpoint_path = \"model/CNN_cat_multi_input.h5\"\n",
    "if not os.path.exists(\"model\"):\n",
    "    os.mkdir(\"model\")\n",
    "\n",
    "# Create checkpoint callback\n",
    "# cp_callback = tf.keras.callbacks.ModelCheckpoint(checkpoint_path, \n",
    "#                                                  save_best_only=True,\n",
    "#                                                  verbose=1)\n",
    "model_checkpoint = keras.callbacks.ModelCheckpoint(checkpoint_path, monitor='val_loss', \n",
    "                                   verbose=1, save_best_only=True, \n",
    "                                   save_weights_only=False, mode='auto', \n",
    "                                   period=1)    \n",
    "EPOCHS = 50\n",
    "early_stop = keras.callbacks.EarlyStopping(monitor='val_loss', patience=10)\n",
    "history = circleCNN.fit(\n",
    "  #[trainimages, traintaus, trainmults], trainlabels,\n",
    "  [trainimages, traintaus], trainlabels,\n",
    "  epochs=EPOCHS, validation_split = 0.2, verbose = 0,\n",
    "  callbacks=[early_stop, model_checkpoint])"
   ]
  },
  {
   "cell_type": "code",
   "execution_count": 16,
   "metadata": {},
   "outputs": [],
   "source": [
    "#dataset_shuffled = dataset.shuffle(buffer_size=1024).batch(16)"
   ]
  },
  {
   "cell_type": "code",
   "execution_count": null,
   "metadata": {},
   "outputs": [],
   "source": [
    "# # WITH BATCHING AND SHUFFLING\n",
    "\n",
    "\n",
    "\n",
    "# EPOCHS = 1\n",
    "# early_stop = keras.callbacks.EarlyStopping(monitor='val_loss', patience=10)\n",
    "# history = circleCNN.fit(\n",
    "#   dataset_shuffled,\n",
    "#   epochs=EPOCHS)"
   ]
  },
  {
   "cell_type": "markdown",
   "metadata": {},
   "source": [
    "Now make a plot that shows the pregression of accuracy through each training epoch."
   ]
  },
  {
   "cell_type": "code",
   "execution_count": null,
   "metadata": {},
   "outputs": [],
   "source": []
  },
  {
   "cell_type": "code",
   "execution_count": null,
   "metadata": {},
   "outputs": [],
   "source": [
    "# def plot_history(history):\n",
    "#     hist = pd.DataFrame(history.history)\n",
    "#     hist['epoch'] = history.epoch\n",
    "    \n",
    "#     plt.figure()\n",
    "#     plt.xlabel('Epoch')\n",
    "#     plt.ylabel('Mean Square Error')\n",
    "#     plt.plot(hist['epoch'], hist['mean_squared_error'],\n",
    "#              label='Train Error')\n",
    "#     plt.plot(hist['epoch'], hist['val_mean_squared_error'],\n",
    "#              label = 'Val Error')\n",
    "#     plt.ylim([0,100])\n",
    "#     plt.legend()\n",
    "#     plt.show()\n",
    "\n",
    "# plot_history(history)"
   ]
  },
  {
   "cell_type": "markdown",
   "metadata": {},
   "source": [
    "Load best weights."
   ]
  },
  {
   "cell_type": "code",
   "execution_count": 8,
   "metadata": {
    "scrolled": false
   },
   "outputs": [
    {
     "name": "stdout",
     "output_type": "stream",
     "text": [
      "CNN_cat_multi_input_3inputs.h5\tCNN_cat_multi_input.h5\t     CNN_sparce_cat.h5\n",
      "CNN_cat_multi_input_5E.h5\tCNN_cat_multi_input_taus.h5  RNN.h5\n",
      "WARNING:tensorflow:From /opt/conda/lib/python3.7/site-packages/tensorflow/python/framework/op_def_library.py:263: colocate_with (from tensorflow.python.framework.ops) is deprecated and will be removed in a future version.\n",
      "Instructions for updating:\n",
      "Colocations handled automatically by placer.\n",
      "WARNING:tensorflow:From /opt/conda/lib/python3.7/site-packages/tensorflow/python/ops/math_ops.py:3066: to_int32 (from tensorflow.python.ops.math_ops) is deprecated and will be removed in a future version.\n",
      "Instructions for updating:\n",
      "Use tf.cast instead.\n",
      "__________________________________________________________________________________________________\n",
      "Layer (type)                    Output Shape         Param #     Connected to                     \n",
      "==================================================================================================\n",
      "input_1 (InputLayer)            (None, 16, 16, 1)    0                                            \n",
      "__________________________________________________________________________________________________\n",
      "conv2d_1 (Conv2D)               (None, 16, 16, 64)   9280        input_1[0][0]                    \n",
      "__________________________________________________________________________________________________\n",
      "conv2d_2 (Conv2D)               (None, 16, 16, 64)   147520      conv2d_1[0][0]                   \n",
      "__________________________________________________________________________________________________\n",
      "conv2d_3 (Conv2D)               (None, 16, 16, 64)   65600       conv2d_2[0][0]                   \n",
      "__________________________________________________________________________________________________\n",
      "max_pooling2d_1 (MaxPooling2D)  (None, 8, 8, 64)     0           conv2d_3[0][0]                   \n",
      "__________________________________________________________________________________________________\n",
      "flatten_1 (Flatten)             (None, 4096)         0           max_pooling2d_1[0][0]            \n",
      "__________________________________________________________________________________________________\n",
      "input_2 (InputLayer)            (None, 1)            0                                            \n",
      "__________________________________________________________________________________________________\n",
      "concatenate_1 (Concatenate)     (None, 4097)         0           flatten_1[0][0]                  \n",
      "                                                                 input_2[0][0]                    \n",
      "__________________________________________________________________________________________________\n",
      "dense_1 (Dense)                 (None, 256)          1049088     concatenate_1[0][0]              \n",
      "__________________________________________________________________________________________________\n",
      "dense_2 (Dense)                 (None, 2)            514         dense_1[0][0]                    \n",
      "==================================================================================================\n",
      "Total params: 1,272,002\n",
      "Trainable params: 1,272,002\n",
      "Non-trainable params: 0\n",
      "__________________________________________________________________________________________________\n",
      "24810/24810 [==============================] - 45s 2ms/step\n",
      "[0.4854704086312552, 0.4854704086312552, 0.7769850866634103]\n"
     ]
    }
   ],
   "source": [
    "!ls model\n",
    "best_model = keras.models.load_model('model/CNN_cat_multi_input_taus.h5')\n",
    "best_model.summary()\n",
    "#results = best_model.evaluate([testimages, testtaus, testmults], testlabels)\n",
    "results = best_model.evaluate([testimages, testtaus], testlabels)\n",
    "print(results)"
   ]
  },
  {
   "cell_type": "markdown",
   "metadata": {},
   "source": [
    "Evaluate the performance of our DNN! Plot predictions vs. true values (the line is predictions vs. predicitons)."
   ]
  },
  {
   "cell_type": "code",
   "execution_count": 9,
   "metadata": {
    "scrolled": false
   },
   "outputs": [
    {
     "name": "stdout",
     "output_type": "stream",
     "text": [
      "(24810,)\n",
      "(24810, 16, 16, 1)\n",
      "(24810, 2)\n"
     ]
    },
    {
     "data": {
      "image/png": "[encoded data removed]",
      "text/plain": [
       "<Figure size 432x288 with 1 Axes>"
      ]
     },
     "metadata": {
      "needs_background": "light"
     },
     "output_type": "display_data"
    }
   ],
   "source": [
    "# Plot ROC\n",
    "\n",
    "print(testtaus.shape)\n",
    "print(testimages.shape)\n",
    "print(testlabels.shape)\n",
    "\n",
    "#predict = best_model.predict([testimages, testtaus, testmults])\n",
    "predict = best_model.predict([testimages, testtaus])\n",
    "from sklearn.metrics import roc_curve, auc\n",
    "fpr, tpr, thresholds = roc_curve(testlabels[:,0], predict[:,0])\n",
    "roc_auc = auc(fpr, tpr)\n",
    "plt.plot(fpr, tpr, lw=2, color='b', label='auc = %.3f' % (roc_auc))\n",
    "plt.plot([0, 1], [0, 1], linestyle='--', lw=2, color='k', label='random chance')\n",
    "plt.xlim([0, 1.0])\n",
    "plt.ylim([0, 1.0])\n",
    "plt.xlabel('false positive rate')\n",
    "plt.ylabel('true positive rate')\n",
    "plt.title('receiver operating curve')\n",
    "plt.legend(loc=\"lower right\")\n",
    "plt.show()"
   ]
  },
  {
   "cell_type": "code",
   "execution_count": 10,
   "metadata": {},
   "outputs": [
    {
     "data": {
      "image/png": "[encoded data removed]",
      "text/plain": [
       "<Figure size 432x288 with 1 Axes>"
      ]
     },
     "metadata": {
      "needs_background": "light"
     },
     "output_type": "display_data"
    }
   ],
   "source": [
    "indqcd = np.argwhere(testlabels[:,1] == 0)\n",
    "ind1  = np.where(testlabels[:,1] == 1) \n",
    "# ind2  = np.where(testlabels[:,2] == 1)\n",
    "# ind3  = np.where(testlabels[:,3] == 1)\n",
    "hist_, bin_edges_ = np.histogram(predict[indqcd])\n",
    "plt.hist([predict[indqcd, 0].flatten(),predict[ind1, 1].flatten()] , histtype = 'step', label = ['qcd', 'ZZ'])\n",
    "plt.legend()\n",
    "plt.title('Predictions w/o normalized Pt')\n",
    "plt.yscale('log')\n",
    "plt.xlabel('Prediction (correct = 1)')\n",
    "plt.show()"
   ]
  },
  {
   "cell_type": "markdown",
   "metadata": {},
   "source": [
    "$$ \\textbf{LRP} $$"
   ]
  },
  {
   "cell_type": "code",
   "execution_count": null,
   "metadata": {},
   "outputs": [],
   "source": [
    "# import innvestigate\n",
    "# import innvestigate.utils as iutils"
   ]
  },
  {
   "cell_type": "code",
   "execution_count": null,
   "metadata": {},
   "outputs": [],
   "source": [
    "# # Creating an analyzer\n",
    "# lrp_analyzer = innvestigate.create_analyzer(\"lrp.z\", best_model)\n",
    "# #discoverered that innvestigate fails to run on a loaded model --> trying to find fix\n",
    "\n",
    "# # Applying the analyzer\n",
    "# display = trainimages[1].reshape(1,grid,grid,1) #the reshape is this way is because the input is expected to be 4 dimensions\n",
    "# analysis = lrp_analyzer.analyze(display)\n",
    "\n",
    "# # Displaying one result\n",
    "# plt.imshow(analysis.squeeze(), cmap='seismic', interpolation='nearest')\n",
    "# plt.colorbar()\n",
    "# plt.show()"
   ]
  },
  {
   "cell_type": "code",
   "execution_count": null,
   "metadata": {},
   "outputs": [],
   "source": [
    "# #fix - change to predicted labels\n",
    "# #plot output signal and background\n",
    "# sig_analysis_true = np.zeros_like(analysis)\n",
    "# bkg_analysis_true = np.zeros_like(analysis)\n",
    "# sig_analysis_pred = np.zeros_like(analysis)\n",
    "# bkg_analysis_pred = np.zeros_like(analysis)\n",
    "# # sig_mask = trainlabels == 1\n",
    "# # bkg_mask = trainlabels == 0\n",
    "# # pred_sig_mask = predict >= 0.50\n",
    "# # pred_bkg_mask = predict < 0.50\n",
    "\n",
    "# toc = time.time()\n",
    "\n",
    "# for i in range(len(trainimages)):\n",
    "#     display = trainimages[i].reshape(1,grid,grid,1)\n",
    "#     analysis = lrp_analyzer.analyze(display)\n",
    "#     if trainlabels[i] == 1:\n",
    "#         sig_analysis_true += analysis  \n",
    "#     else:\n",
    "#         bkg_analysis_true += analysis\n",
    "\n",
    "# for i in range(len(trainimages)):\n",
    "#     display = trainimages[i].reshape(1,grid,grid,1)\n",
    "#     analysis = lrp_analyzer.analyze(display)\n",
    "#     if trainlabels[i] >= 0.50:\n",
    "#         sig_analysis_pred += analysis  \n",
    "#     else:\n",
    "#         bkg_analysis_pred += analysis\n",
    "\n",
    "# tic = time.time()\n",
    "\n",
    "# print('/n time = /n', tic-toc)\n"
   ]
  },
  {
   "cell_type": "code",
   "execution_count": null,
   "metadata": {},
   "outputs": [],
   "source": [
    "# Displaying the signal result\n",
    "# ax = plt.figure(figsize = (10,10))\n",
    "# ax.add_subplot(121)\n",
    "# im = plt.imshow(sig_analysis_true.squeeze(), cmap='seismic', interpolation='nearest')\n",
    "# plt.colorbar(im,fraction=0.046, pad=0.04)\n",
    "# ax.add_subplot(122)\n",
    "# im_ = plt.imshow(sig_analysis_pred.squeeze(), cmap='seismic', interpolation='nearest')\n",
    "# plt.colorbar(im_,fraction=0.046, pad=0.04)"
   ]
  },
  {
   "cell_type": "code",
   "execution_count": null,
   "metadata": {},
   "outputs": [],
   "source": [
    "# # Displaying the signal result\n",
    "# ax = plt.figure(figsize = (10,10))\n",
    "# plt.subplot(121)\n",
    "# im_ = plt.imshow(bkg_analysis_true.squeeze(), cmap='seismic', interpolation='nearest')\n",
    "# plt.colorbar(im_,fraction=0.046, pad=0.04)\n",
    "# plt.subplot(122)\n",
    "# im = plt.imshow(bkg_analysis_pred.squeeze(), cmap='seismic', interpolation='nearest')\n",
    "# plt.colorbar(im,fraction=0.046, pad=0.04)"
   ]
  }
 ],
 "metadata": {
  "kernelspec": {
   "display_name": "Python 3",
   "language": "python",
   "name": "python3"
  },
  "language_info": {
   "codemirror_mode": {
    "name": "ipython",
    "version": 3
   },
   "file_extension": ".py",
   "mimetype": "text/x-python",
   "name": "python",
   "nbconvert_exporter": "python",
   "pygments_lexer": "ipython3",
   "version": "3.7.3"
  }
 },
 "nbformat": 4,
 "nbformat_minor": 2
}
