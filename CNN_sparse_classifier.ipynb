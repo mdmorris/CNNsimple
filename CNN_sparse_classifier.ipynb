{
 "cells": [
  {
   "cell_type": "code",
   "execution_count": 1,
   "metadata": {},
   "outputs": [
    {
     "name": "stderr",
     "output_type": "stream",
     "text": [
      "/opt/conda/lib/python3.7/site-packages/tensorflow/python/framework/dtypes.py:526: FutureWarning: Passing (type, 1) or '1type' as a synonym of type is deprecated; in a future version of numpy, it will be understood as (type, (1,)) / '(1,)type'.\n",
      "  _np_qint8 = np.dtype([(\"qint8\", np.int8, 1)])\n",
      "/opt/conda/lib/python3.7/site-packages/tensorflow/python/framework/dtypes.py:527: FutureWarning: Passing (type, 1) or '1type' as a synonym of type is deprecated; in a future version of numpy, it will be understood as (type, (1,)) / '(1,)type'.\n",
      "  _np_quint8 = np.dtype([(\"quint8\", np.uint8, 1)])\n",
      "/opt/conda/lib/python3.7/site-packages/tensorflow/python/framework/dtypes.py:528: FutureWarning: Passing (type, 1) or '1type' as a synonym of type is deprecated; in a future version of numpy, it will be understood as (type, (1,)) / '(1,)type'.\n",
      "  _np_qint16 = np.dtype([(\"qint16\", np.int16, 1)])\n",
      "/opt/conda/lib/python3.7/site-packages/tensorflow/python/framework/dtypes.py:529: FutureWarning: Passing (type, 1) or '1type' as a synonym of type is deprecated; in a future version of numpy, it will be understood as (type, (1,)) / '(1,)type'.\n",
      "  _np_quint16 = np.dtype([(\"quint16\", np.uint16, 1)])\n",
      "/opt/conda/lib/python3.7/site-packages/tensorflow/python/framework/dtypes.py:530: FutureWarning: Passing (type, 1) or '1type' as a synonym of type is deprecated; in a future version of numpy, it will be understood as (type, (1,)) / '(1,)type'.\n",
      "  _np_qint32 = np.dtype([(\"qint32\", np.int32, 1)])\n",
      "/opt/conda/lib/python3.7/site-packages/tensorflow/python/framework/dtypes.py:535: FutureWarning: Passing (type, 1) or '1type' as a synonym of type is deprecated; in a future version of numpy, it will be understood as (type, (1,)) / '(1,)type'.\n",
      "  np_resource = np.dtype([(\"resource\", np.ubyte, 1)])\n",
      "Using TensorFlow backend.\n"
     ]
    },
    {
     "name": "stdout",
     "output_type": "stream",
     "text": [
      "1.13.1\n"
     ]
    }
   ],
   "source": [
    "# TensorFlow and tf.keras\n",
    "import tensorflow as tf\n",
    "#tf.enable_eager_execution()\n",
    "\n",
    "from tensorflow import keras\n",
    "from tensorflow.keras import layers\n",
    "import pandas as pd\n",
    "\n",
    "import keras\n",
    "import keras.backend\n",
    "from keras import layers\n",
    "from keras import models\n",
    "import keras.utils\n",
    "\n",
    "print(tf.__version__)\n",
    "\n",
    "# Helper libraries\n",
    "import numpy as np\n",
    "import matplotlib.pyplot as plt\n",
    "from matplotlib.colors import LogNorm\n",
    "import math\n",
    "import time\n",
    "import h5py\n",
    "import sklearn\n",
    "from sklearn.utils import shuffle\n",
    "\n",
    "import os\n",
    "\n"
   ]
  },
  {
   "cell_type": "markdown",
   "metadata": {},
   "source": [
    "## Import data:\n",
    "Using jetImages_signal.npz and jetImages_bkg.npz to train the neural network and using jetImages_signal_test.npz and jetImages_bkg_test.npz for testing."
   ]
  },
  {
   "cell_type": "code",
   "execution_count": 2,
   "metadata": {},
   "outputs": [
    {
     "name": "stdout",
     "output_type": "stream",
     "text": [
      "(336227, 4)\n",
      "(62025, 16, 16, 1)\n",
      "(62025, 2)\n",
      "(62025, 1)\n",
      "(62025, 1)\n",
      "(62025, 1)\n",
      "\n",
      "(12405, 16, 16, 1)\n",
      "(12405, 2)\n",
      "(12405,)\n",
      "(12405,)\n",
      "(12405,)\n",
      "\n",
      "(24810, 16, 16, 1)\n",
      "(24810, 2)\n",
      "(24810,)\n",
      "(24810,)\n",
      "(24810,)\n"
     ]
    }
   ],
   "source": [
    "data = np.load('/mnt/data/ml/ShowJetsDataLabels.npz')\n",
    "# !ls /mnt/data/ml/\n",
    "images = data['jetImages']\n",
    "labels = data['labels']\n",
    "\n",
    "\n",
    "nVar = len(data) - 5 # excluding pt, eta, phi, images, and labels\n",
    "\n",
    "tau21 = data['tau21']\n",
    "chMult = data['chMult']\n",
    "neutMult = data['neutMult']\n",
    "phoMult = data['phoMult']\n",
    "eleMult = data['eleMult']\n",
    "muMult = data['muMult']\n",
    "\n",
    "## data = stack all of them, then split them up after\n",
    "\n",
    "grid = np.size(images, 1)\n",
    "qcd_im = images[np.where(labels[:,0] == 1)]\n",
    "qcd_tau = tau21[np.where(labels[:,0] == 1)]\n",
    "qcd_mult = chMult[np.where(labels[:,0] == 1)]\n",
    "qcd_phoMult = phoMult[np.where(labels[:,0] == 1)]\n",
    "\n",
    "#ensure same number of signal vs. background and even split of z events\n",
    "if len(qcd_im) % 3 != 0:\n",
    "    qcd_im = qcd_im[:len(qcd_im)-(len(qcd_im) % 3)]\n",
    "    qcd_tau = qcd_tau[:len(qcd_im)-(len(qcd_im) % 3)]\n",
    "    qcd_mult = qcd_mult[:len(qcd_im)-(len(qcd_im) % 3)]\n",
    "    qcd_phoMult = qcd_phoMult[:len(qcd_im)-(len(qcd_im) % 3)]\n",
    "    \n",
    "z1_im = images[np.where(labels[:,1] == 1)]\n",
    "z1_im = z1_im[:int(len(qcd_im)/3)]\n",
    "z1_tau = tau21[np.where(labels[:,1] == 1)]\n",
    "z1_tau = z1_tau[:int(len(qcd_im)/3)]\n",
    "z1_mult = chMult[np.where(labels[:,1] == 1)]\n",
    "z1_mult = z1_mult[:int(len(qcd_im)/3)]\n",
    "z1_phoMult = phoMult[np.where(labels[:,1] == 1)]\n",
    "z1_phoMult = z1_phoMult[:int(len(qcd_im)/3)]\n",
    "\n",
    "z2_im = images[np.where(labels[:,2] == 1)]\n",
    "z2_im = z2_im[:int(len(qcd_im)/3)]\n",
    "z2_tau = tau21[np.where(labels[:,2] == 1)]\n",
    "z2_tau = z2_tau[:int(len(qcd_im)/3)]\n",
    "z2_mult = chMult[np.where(labels[:,2] == 1)]\n",
    "z2_mult = z2_mult[:int(len(qcd_im)/3)]\n",
    "z2_phoMult = phoMult[np.where(labels[:,2] == 1)]\n",
    "z2_phoMult = z2_phoMult[:int(len(qcd_im)/3)]\n",
    "\n",
    "z3_im = images[np.where(labels[:,3] == 1)]\n",
    "z3_im = z3_im[:int(len(qcd_im)/3)]\n",
    "z3_tau = tau21[np.where(labels[:,3] == 1)]\n",
    "z3_tau = z3_tau[:int(len(qcd_im)/3)]\n",
    "z3_mult = chMult[np.where(labels[:,3] == 1)]\n",
    "z3_mult = z3_mult[:int(len(qcd_im)/3)]\n",
    "z3_phoMult = phoMult[np.where(labels[:,3] == 1)]\n",
    "z3_phoMult = z3_phoMult[:int(len(qcd_im)/3)]\n",
    "\n",
    "qcd_lab = np.zeros([len(qcd_im), 2])\n",
    "qcd_lab[:,0] = 1\n",
    "z_lab = np.zeros([len(qcd_im), 2])\n",
    "z_lab[:,1] = 1\n",
    "\n",
    "images = np.vstack((qcd_im, z1_im, z2_im, z3_im))\n",
    "taus = np.hstack((qcd_tau, z1_tau, z2_tau, z3_tau))\n",
    "mults = np.hstack((qcd_mult, z1_mult, z2_mult, z3_mult))\n",
    "phoMults = np.hstack((qcd_phoMult, z1_phoMult, z2_phoMult, z3_phoMult))\n",
    "print(labels.shape)\n",
    "\n",
    "labels = np.vstack((qcd_lab, z_lab))\n",
    "n_data = len(images)\n",
    "images = images.reshape(n_data, grid, grid, 1)\n",
    "\n",
    "#split data into testing/training/validation\n",
    "\n",
    "testimages = images[::4]\n",
    "testlabels = labels[::4]\n",
    "testtaus = taus[::4]\n",
    "testmults = mults[::4]\n",
    "testphoMults = phoMults[::4]\n",
    "\n",
    "mask_im = np.ones(images.shape,dtype=bool)\n",
    "mask_im[::4] = 0\n",
    "mask_im[1::8] = 0\n",
    "mask_lab = np.ones(labels.shape,dtype=bool)\n",
    "mask_lab[::4] = 0\n",
    "mask_lab[1::8] = 0\n",
    "\n",
    "mask_tau = np.ones(taus.shape,dtype=bool)\n",
    "mask_tau[::4] = 0\n",
    "mask_tau[1::8] = 0\n",
    "mask_mult = np.ones(mults.shape,dtype=bool)\n",
    "mask_mult[::4] = 0\n",
    "mask_mult[1::8] = 0\n",
    "mask_phoMult = np.ones(phoMults.shape,dtype=bool)\n",
    "mask_phoMult[::4] = 0\n",
    "mask_phoMult[1::8] = 0\n",
    "\n",
    "valimages = images[1::8]\n",
    "vallabels = labels[1::8]\n",
    "valtaus = taus[1::8]\n",
    "valmults = mults[1::8]\n",
    "valphoMults = phoMults[1::8]\n",
    "\n",
    "trainimages = images[mask_im].reshape((n_data-len(testimages)-len(valimages)), grid, grid, 1)\n",
    "trainlabels = labels[mask_lab].reshape((n_data-len(testimages)-len(valimages)), 2)\n",
    "traintaus = taus[mask_tau].reshape((n_data-len(testimages)-len(valimages)), 1)\n",
    "trainmults = mults[mask_mult].reshape((n_data-len(testimages)-len(valimages)), 1)\n",
    "trainphoMults = phoMults[mask_phoMult].reshape((n_data-len(testimages)-len(valimages)), 1)\n",
    "\n",
    "print(trainimages.shape)\n",
    "print(trainlabels.shape)\n",
    "print(traintaus.shape)\n",
    "print(trainmults.shape)\n",
    "print(trainphoMults.shape)\n",
    "print()\n",
    "print(valimages.shape)\n",
    "print(vallabels.shape)\n",
    "print(valtaus.shape)\n",
    "print(valmults.shape)\n",
    "print(valphoMults.shape)\n",
    "print()\n",
    "print(testimages.shape)\n",
    "print(testlabels.shape)\n",
    "print(testtaus.shape)\n",
    "print(testmults.shape)\n",
    "print(testphoMults.shape)\n"
   ]
  },
  {
   "cell_type": "code",
   "execution_count": 3,
   "metadata": {},
   "outputs": [
    {
     "name": "stdout",
     "output_type": "stream",
     "text": [
      "(99240, 2)\n"
     ]
    }
   ],
   "source": [
    "print(labels.shape)"
   ]
  },
  {
   "cell_type": "code",
   "execution_count": 4,
   "metadata": {},
   "outputs": [],
   "source": [
    "# nVar = 5\n",
    "# variables= []\n",
    "# print(variables)\n",
    "# for i in data:\n",
    "#     temp = {\"name\":str(i),\n",
    "#            \"data\":data[str(i)]}\n",
    "#     variables.append(temp)\n",
    "\n",
    "# #print(variables.get('tau21')\n",
    "\n",
    "    "
   ]
  },
  {
   "cell_type": "code",
   "execution_count": 5,
   "metadata": {},
   "outputs": [],
   "source": [
    "### trying to make adding variable easier ###\n",
    "\n",
    "# data = np.load('/mnt/data/ml/ShowJetsDataTest.npz')\n",
    "# varlist = ['tau21', 'chMult']\n",
    "# nVar = len(varlist)\n",
    "# temp = np.zeros((nVar, labels.shape[0]))\n",
    "# for n in range(nVar):\n",
    "#     temp[n] = data[varlist[n]]\n",
    "    \n",
    "\n",
    "# var = np.vstack((temp))\n",
    "# qcd_var = var[:, np.where(labels[:,0] == 1)]\n",
    "\n",
    "# #print(np.where(labels[:,0] == 1))\n",
    "# arg = np.where(labels[:,0] == 1)\n",
    "# print(arg)\n",
    "# print(qcd_tau)\n",
    "# print(var[:,286606])\n",
    "# print(var.shape)\n",
    "# print(labels.shape)\n"
   ]
  },
  {
   "cell_type": "markdown",
   "metadata": {},
   "source": [
    "Print a plot of data to see what it looks like!"
   ]
  },
  {
   "cell_type": "markdown",
   "metadata": {},
   "source": [
    "Preprocessing -> spit data into training and testing; take 80% for training and 20% for testing.\n",
    "\n",
    "If using CNN, uncomment \".reshape(n_data, grid, grid, 1)\"."
   ]
  },
  {
   "cell_type": "code",
   "execution_count": 6,
   "metadata": {},
   "outputs": [
    {
     "data": {
      "image/png": "[encoded data removed]",
      "text/plain": [
       "<Figure size 432x288 with 2 Axes>"
      ]
     },
     "metadata": {
      "needs_background": "light"
     },
     "output_type": "display_data"
    }
   ],
   "source": [
    "#plot input signal and background\n",
    "sig_trainimages = np.zeros_like(trainimages[1])\n",
    "bkg_trainimages = np.zeros_like(trainimages[1])\n",
    "for i in range(len(trainimages)):\n",
    "    if trainlabels[i,0] == 1:\n",
    "        sig_trainimages += trainimages[i]\n",
    "    else:\n",
    "        bkg_trainimages += trainimages[i]\n",
    "#signal\n",
    "display_sig = sig_trainimages.reshape(grid,grid)\n",
    "plt.grid(False)\n",
    "plt.imshow(display_sig, interpolation='nearest', origin='low', cmap = 'jet', norm=LogNorm())\n",
    "plt.colorbar()\n",
    "plt.show()"
   ]
  },
  {
   "cell_type": "markdown",
   "metadata": {},
   "source": [
    "Build DNN:"
   ]
  },
  {
   "cell_type": "code",
   "execution_count": 7,
   "metadata": {},
   "outputs": [
    {
     "data": {
      "image/png": "[encoded data removed]",
      "text/plain": [
       "<Figure size 432x288 with 2 Axes>"
      ]
     },
     "metadata": {
      "needs_background": "light"
     },
     "output_type": "display_data"
    }
   ],
   "source": [
    "#background\n",
    "display_bkg = bkg_trainimages.reshape(grid,grid)\n",
    "plt.grid(False)\n",
    "plt.imshow(display_bkg, interpolation='nearest', origin='low', cmap = 'jet', norm=LogNorm())\n",
    "plt.colorbar()\n",
    "plt.show()"
   ]
  },
  {
   "cell_type": "code",
   "execution_count": 8,
   "metadata": {},
   "outputs": [],
   "source": [
    "import tensorflow as tf\n",
    "\n",
    "def build_model(n):\n",
    "    input1 = layers.Input(shape = (grid, grid, 1))\n",
    "    x = layers.Conv2D(64, (12, 12), activation='relu', padding = 'same')(input1)\n",
    "    x = layers.Conv2D(64, (6, 6), activation='relu', padding = 'same')(x)\n",
    "    x = layers.Conv2D(64, (4, 4), activation='relu', padding = 'same')(x)\n",
    "    x = layers.MaxPool2D((2, 2))(x)\n",
    "    x1 = layers.Flatten()(x)\n",
    "    inpts = []\n",
    "    for i in range(n):\n",
    "        inpt = layers.Input(shape=(1,))\n",
    "        inpts.append(inpt)\n",
    "    x = layers.concatenate(inputs = [x1]+inpts, axis=-1)\n",
    "    x = layers.Dense(256, activation=tf.nn.relu)(x)\n",
    "    output = layers.Dense(2, activation=tf.nn.sigmoid)(x)\n",
    "    model = models.Model(inputs=[input1]+inpts, outputs=output)\n",
    "    model.compile(loss='categorical_crossentropy',\n",
    "                optimizer='adam',\n",
    "                metrics=['categorical_crossentropy', 'accuracy'])\n",
    "    return model"
   ]
  },
  {
   "cell_type": "markdown",
   "metadata": {},
   "source": [
    "Initialize model:"
   ]
  },
  {
   "cell_type": "code",
   "execution_count": 9,
   "metadata": {},
   "outputs": [],
   "source": [
    "#circleCNN = build_model()"
   ]
  },
  {
   "cell_type": "markdown",
   "metadata": {},
   "source": [
    "Test model's prediction $before$ training:"
   ]
  },
  {
   "cell_type": "code",
   "execution_count": 10,
   "metadata": {},
   "outputs": [
    {
     "name": "stdout",
     "output_type": "stream",
     "text": [
      "(207, 16, 16, 1)\n",
      "(207, 1)\n"
     ]
    }
   ],
   "source": [
    "example_batch = trainimages[::300]\n",
    "example_labels = trainlabels[::300]\n",
    "example_taus = traintaus[::300]\n",
    "example_mults = trainmults[::300]\n",
    "example_phoMults = trainphoMults[::300]\n",
    "\n",
    "print(example_batch.shape)\n",
    "print(example_mults.shape)\n",
    "\n",
    "example_variables = [example_batch, \n",
    "                     example_taus,\n",
    "                     example_mults,\n",
    "                     #example_neutMults,\n",
    "                     example_phoMults,\n",
    "                     #example_eleMults,\n",
    "                     #example_muMults\n",
    "                    ]\n",
    "                             \n",
    "train_variables = [trainimages,\n",
    "                   traintaus,\n",
    "                   trainmults,\n",
    "                   #trainNeutMults,\n",
    "                   trainphoMults,\n",
    "                   #trainEleMults,\n",
    "                   #trainMuMults\n",
    "                  ]\n",
    "\n",
    "test_variables = [testimages, \n",
    "                   testtaus,\n",
    "                   testmults,\n",
    "                   #testNeutMults,\n",
    "                   testphoMults,\n",
    "                   #testEleMults,\n",
    "                   #testMuMults\n",
    "                  ]\n",
    "\n",
    "\n"
   ]
  },
  {
   "cell_type": "code",
   "execution_count": 11,
   "metadata": {},
   "outputs": [
    {
     "name": "stdout",
     "output_type": "stream",
     "text": [
      "WARNING:tensorflow:From /opt/conda/lib/python3.7/site-packages/tensorflow/python/framework/op_def_library.py:263: colocate_with (from tensorflow.python.framework.ops) is deprecated and will be removed in a future version.\n",
      "Instructions for updating:\n",
      "Colocations handled automatically by placer.\n"
     ]
    }
   ],
   "source": [
    "circleCNN = build_model( len(example_variables)-1 )"
   ]
  },
  {
   "cell_type": "code",
   "execution_count": 12,
   "metadata": {},
   "outputs": [
    {
     "name": "stdout",
     "output_type": "stream",
     "text": [
      "207/207 [==============================] - 0s 2ms/step\n",
      "[[0.44560313 0.3718795 ]\n",
      " [0.47958586 0.4383938 ]\n",
      " [0.4596685  0.37970847]\n",
      " [0.4727233  0.40351242]\n",
      " [0.49219075 0.46370137]\n",
      " [0.44352594 0.30927628]\n",
      " [0.4708218  0.39330488]\n",
      " [0.46806476 0.39644474]\n",
      " [0.45571378 0.37204224]\n",
      " [0.40313047 0.27869844]\n",
      " [0.4242698  0.34968442]\n",
      " [0.46264786 0.4043302 ]\n",
      " [0.45321742 0.3581766 ]\n",
      " [0.43602675 0.35066926]\n",
      " [0.45563433 0.39597857]\n",
      " [0.47478038 0.41375703]\n",
      " [0.48442137 0.40509862]\n",
      " [0.46618238 0.38074374]\n",
      " [0.46975932 0.38834718]\n",
      " [0.4482125  0.41381243]\n",
      " [0.43695217 0.2983932 ]\n",
      " [0.4711566  0.3881803 ]\n",
      " [0.46491516 0.38139927]\n",
      " [0.45321676 0.3522541 ]\n",
      " [0.47064334 0.39887768]\n",
      " [0.41695166 0.2692457 ]\n",
      " [0.47022453 0.41674176]\n",
      " [0.4468     0.32588467]\n",
      " [0.41947174 0.36700165]\n",
      " [0.47303087 0.44751915]\n",
      " [0.49588418 0.4340474 ]\n",
      " [0.4801859  0.42424703]\n",
      " [0.4831109  0.29492244]\n",
      " [0.3883512  0.31569177]\n",
      " [0.41057923 0.30430874]\n",
      " [0.4234246  0.28339252]\n",
      " [0.48860812 0.45586056]\n",
      " [0.37402785 0.24936286]\n",
      " [0.4017044  0.2512504 ]\n",
      " [0.44123828 0.37183672]\n",
      " [0.457566   0.3660236 ]\n",
      " [0.40670452 0.33973548]\n",
      " [0.47425917 0.43406048]\n",
      " [0.506683   0.41975862]\n",
      " [0.42988393 0.34701025]\n",
      " [0.40396303 0.2719357 ]\n",
      " [0.48123977 0.3748108 ]\n",
      " [0.44913745 0.3799157 ]\n",
      " [0.44794303 0.34023398]\n",
      " [0.4218143  0.28839248]\n",
      " [0.47620422 0.45720977]\n",
      " [0.47112104 0.40405682]\n",
      " [0.46819785 0.44016287]\n",
      " [0.43597478 0.33382273]\n",
      " [0.42673895 0.3639212 ]\n",
      " [0.44397897 0.35886517]\n",
      " [0.4666605  0.37964475]\n",
      " [0.45213962 0.3388896 ]\n",
      " [0.48159087 0.3909732 ]\n",
      " [0.4906736  0.3106555 ]\n",
      " [0.48365924 0.32852668]\n",
      " [0.43805763 0.36412686]\n",
      " [0.42178416 0.35492775]\n",
      " [0.5326684  0.32767868]\n",
      " [0.38142708 0.2756019 ]\n",
      " [0.47184902 0.44998288]\n",
      " [0.47598898 0.45221284]\n",
      " [0.44836044 0.31656167]\n",
      " [0.47028774 0.39363784]\n",
      " [0.44887155 0.41405207]\n",
      " [0.48335487 0.38945055]\n",
      " [0.48981997 0.47112107]\n",
      " [0.4311158  0.3464215 ]\n",
      " [0.4887803  0.4769071 ]\n",
      " [0.44002706 0.39967167]\n",
      " [0.49980175 0.49679485]\n",
      " [0.47398365 0.40199286]\n",
      " [0.47780365 0.34182954]\n",
      " [0.4627514  0.3674737 ]\n",
      " [0.45232105 0.36397395]\n",
      " [0.48972526 0.43347684]\n",
      " [0.47232467 0.45284787]\n",
      " [0.44883636 0.31144425]\n",
      " [0.46997318 0.38512507]\n",
      " [0.4918569  0.38369718]\n",
      " [0.45081148 0.40469074]\n",
      " [0.4153602  0.22295383]\n",
      " [0.4335264  0.36096382]\n",
      " [0.40298867 0.21506214]\n",
      " [0.4454292  0.35834315]\n",
      " [0.47726858 0.45703346]\n",
      " [0.4495326  0.38407567]\n",
      " [0.48523146 0.45298567]\n",
      " [0.4043423  0.26077664]\n",
      " [0.45647287 0.3063951 ]\n",
      " [0.47971517 0.4653171 ]\n",
      " [0.5041828  0.48744896]\n",
      " [0.47911537 0.4433105 ]\n",
      " [0.43317407 0.30109665]\n",
      " [0.47381777 0.33062536]\n",
      " [0.48297125 0.38514107]\n",
      " [0.49848476 0.47137934]\n",
      " [0.45785603 0.36602053]\n",
      " [0.47594178 0.422942  ]\n",
      " [0.5032614  0.39084613]\n",
      " [0.43321466 0.32444638]\n",
      " [0.49213958 0.4641387 ]\n",
      " [0.43175322 0.36047423]\n",
      " [0.48346794 0.27422443]\n",
      " [0.5132859  0.35764027]\n",
      " [0.48812625 0.4094943 ]\n",
      " [0.4578937  0.3956324 ]\n",
      " [0.45447904 0.3850592 ]\n",
      " [0.48513892 0.28718227]\n",
      " [0.47854456 0.3222155 ]\n",
      " [0.47899663 0.3557494 ]\n",
      " [0.4772865  0.42669034]\n",
      " [0.48549974 0.37914783]\n",
      " [0.4870744  0.4615997 ]\n",
      " [0.39816287 0.2654223 ]\n",
      " [0.45398116 0.42476544]\n",
      " [0.4931011  0.41670796]\n",
      " [0.47514263 0.36464965]\n",
      " [0.46118346 0.38945866]\n",
      " [0.4439817  0.3950404 ]\n",
      " [0.464366   0.38717893]\n",
      " [0.52867055 0.37438852]\n",
      " [0.4683676  0.4265283 ]\n",
      " [0.48155904 0.4426043 ]\n",
      " [0.49905232 0.3969104 ]\n",
      " [0.42122912 0.37285012]\n",
      " [0.44106567 0.31095633]\n",
      " [0.45961758 0.4007954 ]\n",
      " [0.4703833  0.36148492]\n",
      " [0.47099954 0.40345263]\n",
      " [0.47252667 0.43592778]\n",
      " [0.43704864 0.3317796 ]\n",
      " [0.48487598 0.36007667]\n",
      " [0.5048268  0.30148086]\n",
      " [0.4546351  0.39647952]\n",
      " [0.44089755 0.3859904 ]\n",
      " [0.49003345 0.36614788]\n",
      " [0.46471828 0.32065493]\n",
      " [0.4610765  0.39039135]\n",
      " [0.46097323 0.37866744]\n",
      " [0.49328446 0.44149595]\n",
      " [0.50887144 0.39080095]\n",
      " [0.49157074 0.28756106]\n",
      " [0.46305418 0.38377452]\n",
      " [0.4467619  0.35610852]\n",
      " [0.4412113  0.3543812 ]\n",
      " [0.48893344 0.31353158]\n",
      " [0.46959308 0.36277056]\n",
      " [0.5088788  0.39097154]\n",
      " [0.42126852 0.33603188]\n",
      " [0.4817964  0.4178171 ]\n",
      " [0.43535212 0.34357738]\n",
      " [0.45771742 0.42461014]\n",
      " [0.4487248  0.37574404]\n",
      " [0.44007564 0.38581064]\n",
      " [0.40115294 0.27888685]\n",
      " [0.46927187 0.3433985 ]\n",
      " [0.48031953 0.43801636]\n",
      " [0.47936517 0.37751096]\n",
      " [0.5008376  0.31406814]\n",
      " [0.45514932 0.4281052 ]\n",
      " [0.4627428  0.41429895]\n",
      " [0.4914897  0.3812294 ]\n",
      " [0.46401682 0.38196543]\n",
      " [0.4679653  0.40110165]\n",
      " [0.4537032  0.42475623]\n",
      " [0.46349007 0.40466934]\n",
      " [0.43797046 0.31729382]\n",
      " [0.5086602  0.35215923]\n",
      " [0.48185265 0.40783525]\n",
      " [0.40831414 0.23887253]\n",
      " [0.47956675 0.45290148]\n",
      " [0.41926482 0.25119656]\n",
      " [0.4743918  0.40738827]\n",
      " [0.4330641  0.33910835]\n",
      " [0.4423661  0.32964253]\n",
      " [0.44110233 0.27469063]\n",
      " [0.3974445  0.21027982]\n",
      " [0.4400561  0.32482937]\n",
      " [0.4561455  0.34670746]\n",
      " [0.41482562 0.33733743]\n",
      " [0.41521853 0.36282676]\n",
      " [0.4886198  0.35197923]\n",
      " [0.45229787 0.38829908]\n",
      " [0.44643918 0.3138647 ]\n",
      " [0.4837382  0.38442215]\n",
      " [0.48113024 0.33161992]\n",
      " [0.46273312 0.36808074]\n",
      " [0.4464386  0.35847485]\n",
      " [0.4754816  0.36504018]\n",
      " [0.4465709  0.34696335]\n",
      " [0.44727495 0.29403323]\n",
      " [0.5141502  0.35692352]\n",
      " [0.506636   0.3546276 ]\n",
      " [0.43739903 0.37716365]\n",
      " [0.44988897 0.36003143]\n",
      " [0.43175536 0.26370096]\n",
      " [0.49456567 0.33636785]\n",
      " [0.4804105  0.35590655]\n",
      " [0.43755883 0.364201  ]\n",
      " [0.50067925 0.3744749 ]\n",
      " [0.51309806 0.30016142]]\n"
     ]
    }
   ],
   "source": [
    "example_result = circleCNN.predict(x = example_variables)\n",
    "results = circleCNN.evaluate(x = example_variables, y = example_labels)\n",
    "print(example_result)\n",
    "#print(results)"
   ]
  },
  {
   "cell_type": "markdown",
   "metadata": {},
   "source": [
    "Now train! (warning: if building CNN, computer tends to get loud)"
   ]
  },
  {
   "cell_type": "code",
   "execution_count": 13,
   "metadata": {},
   "outputs": [
    {
     "name": "stdout",
     "output_type": "stream",
     "text": [
      "WARNING:tensorflow:From /opt/conda/lib/python3.7/site-packages/tensorflow/python/ops/math_ops.py:3066: to_int32 (from tensorflow.python.ops.math_ops) is deprecated and will be removed in a future version.\n",
      "Instructions for updating:\n",
      "Use tf.cast instead.\n",
      "\n",
      "Epoch 00001: val_loss improved from inf to 0.44972, saving model to model/CNN_cat_multi_input_tau_chmult_phomult.h5\n",
      "\n",
      "Epoch 00002: val_loss did not improve from 0.44972\n",
      "\n",
      "Epoch 00003: val_loss did not improve from 0.44972\n",
      "\n",
      "Epoch 00004: val_loss did not improve from 0.44972\n",
      "\n",
      "Epoch 00005: val_loss did not improve from 0.44972\n",
      "\n",
      "Epoch 00006: val_loss did not improve from 0.44972\n",
      "\n",
      "Epoch 00007: val_loss improved from 0.44972 to 0.40676, saving model to model/CNN_cat_multi_input_tau_chmult_phomult.h5\n",
      "\n",
      "Epoch 00008: val_loss did not improve from 0.40676\n",
      "\n",
      "Epoch 00009: val_loss did not improve from 0.40676\n",
      "\n",
      "Epoch 00010: val_loss did not improve from 0.40676\n",
      "\n",
      "Epoch 00011: val_loss did not improve from 0.40676\n",
      "\n",
      "Epoch 00012: val_loss did not improve from 0.40676\n",
      "\n",
      "Epoch 00013: val_loss did not improve from 0.40676\n",
      "\n",
      "Epoch 00014: val_loss did not improve from 0.40676\n",
      "\n",
      "Epoch 00015: val_loss did not improve from 0.40676\n",
      "\n",
      "Epoch 00016: val_loss did not improve from 0.40676\n",
      "\n",
      "Epoch 00017: val_loss did not improve from 0.40676\n"
     ]
    }
   ],
   "source": [
    "class PrintDot(keras.callbacks.Callback):\n",
    "    def on_epoch_end(self, epoch, logs):\n",
    "        if epoch % 100 == 0:\n",
    "            print('')\n",
    "        print('.', end='')\n",
    "    \n",
    "checkpoint_path = \"model/CNN_cat_multi_input_tau_chmult_phomult2.h5\"\n",
    "if not os.path.exists(\"model\"):\n",
    "    os.mkdir(\"model\")\n",
    "\n",
    "# Create checkpoint callback\n",
    "# cp_callback = tf.keras.callbacks.ModelCheckpoint(checkpoint_path, \n",
    "#                                                  save_best_only=True,\n",
    "#                                                  verbose=1)\n",
    "model_checkpoint = keras.callbacks.ModelCheckpoint(checkpoint_path, monitor='val_loss', \n",
    "                                   verbose=1, save_best_only=True, \n",
    "                                   save_weights_only=False, mode='auto', \n",
    "                                   period=1)    \n",
    "EPOCHS = 50\n",
    "early_stop = keras.callbacks.EarlyStopping(monitor='val_loss', patience=10)\n",
    "history = circleCNN.fit(\n",
    "  train_variables, trainlabels,\n",
    "  epochs=EPOCHS, validation_split = 0.2, verbose = 0,\n",
    "  callbacks=[early_stop, model_checkpoint])"
   ]
  },
  {
   "cell_type": "code",
   "execution_count": 14,
   "metadata": {},
   "outputs": [],
   "source": [
    "#dataset_shuffled = dataset.shuffle(buffer_size=1024).batch(16)"
   ]
  },
  {
   "cell_type": "code",
   "execution_count": 15,
   "metadata": {},
   "outputs": [],
   "source": [
    "# # WITH BATCHING AND SHUFFLING\n",
    "\n",
    "\n",
    "\n",
    "# EPOCHS = 1\n",
    "# early_stop = keras.callbacks.EarlyStopping(monitor='val_loss', patience=10)\n",
    "# history = circleCNN.fit(\n",
    "#   dataset_shuffled,\n",
    "#   epochs=EPOCHS)"
   ]
  },
  {
   "cell_type": "markdown",
   "metadata": {},
   "source": [
    "Now make a plot that shows the pregression of accuracy through each training epoch."
   ]
  },
  {
   "cell_type": "code",
   "execution_count": null,
   "metadata": {},
   "outputs": [],
   "source": []
  },
  {
   "cell_type": "code",
   "execution_count": 16,
   "metadata": {},
   "outputs": [],
   "source": [
    "# def plot_history(history):\n",
    "#     hist = pd.DataFrame(history.history)\n",
    "#     hist['epoch'] = history.epoch\n",
    "    \n",
    "#     plt.figure()\n",
    "#     plt.xlabel('Epoch')\n",
    "#     plt.ylabel('Mean Square Error')\n",
    "#     plt.plot(hist['epoch'], hist['mean_squared_error'],\n",
    "#              label='Train Error')\n",
    "#     plt.plot(hist['epoch'], hist['val_mean_squared_error'],\n",
    "#              label = 'Val Error')\n",
    "#     plt.ylim([0,100])\n",
    "#     plt.legend()\n",
    "#     plt.show()\n",
    "\n",
    "# plot_history(history)"
   ]
  },
  {
   "cell_type": "markdown",
   "metadata": {},
   "source": [
    "Load best weights."
   ]
  },
  {
   "cell_type": "code",
   "execution_count": 14,
   "metadata": {
    "scrolled": false
   },
   "outputs": [
    {
     "name": "stdout",
     "output_type": "stream",
     "text": [
      "CNN_cat_multi_7inputs.h5\n",
      "CNN_cat_multi_input_3inputs.h5\n",
      "CNN_cat_multi_input_4inputs.h5\n",
      "CNN_cat_multi_input_5E.h5\n",
      "CNN_cat_multi_input.h5\n",
      "CNN_cat_multi_input_tau_chmult_5epochs.h5\n",
      "CNN_cat_multi_input_tau_chmult_phomult_5epochs.h5\n",
      "CNN_cat_multi_input_tau_chmult_phomult.h5\n",
      "CNN_cat_multi_input_taus.h5\n",
      "CNN_sparce_cat.h5\n",
      "RNN.h5\n",
      "__________________________________________________________________________________________________\n",
      "Layer (type)                    Output Shape         Param #     Connected to                     \n",
      "==================================================================================================\n",
      "input_1 (InputLayer)            (None, 16, 16, 1)    0                                            \n",
      "__________________________________________________________________________________________________\n",
      "conv2d_1 (Conv2D)               (None, 16, 16, 64)   9280        input_1[0][0]                    \n",
      "__________________________________________________________________________________________________\n",
      "conv2d_2 (Conv2D)               (None, 16, 16, 64)   147520      conv2d_1[0][0]                   \n",
      "__________________________________________________________________________________________________\n",
      "conv2d_3 (Conv2D)               (None, 16, 16, 64)   65600       conv2d_2[0][0]                   \n",
      "__________________________________________________________________________________________________\n",
      "max_pooling2d_1 (MaxPooling2D)  (None, 8, 8, 64)     0           conv2d_3[0][0]                   \n",
      "__________________________________________________________________________________________________\n",
      "flatten_1 (Flatten)             (None, 4096)         0           max_pooling2d_1[0][0]            \n",
      "__________________________________________________________________________________________________\n",
      "input_2 (InputLayer)            (None, 1)            0                                            \n",
      "__________________________________________________________________________________________________\n",
      "input_3 (InputLayer)            (None, 1)            0                                            \n",
      "__________________________________________________________________________________________________\n",
      "input_4 (InputLayer)            (None, 1)            0                                            \n",
      "__________________________________________________________________________________________________\n",
      "concatenate_1 (Concatenate)     (None, 4099)         0           flatten_1[0][0]                  \n",
      "                                                                 input_2[0][0]                    \n",
      "                                                                 input_3[0][0]                    \n",
      "                                                                 input_4[0][0]                    \n",
      "__________________________________________________________________________________________________\n",
      "dense_1 (Dense)                 (None, 256)          1049600     concatenate_1[0][0]              \n",
      "__________________________________________________________________________________________________\n",
      "dense_2 (Dense)                 (None, 2)            514         dense_1[0][0]                    \n",
      "==================================================================================================\n",
      "Total params: 1,272,514\n",
      "Trainable params: 1,272,514\n",
      "Non-trainable params: 0\n",
      "__________________________________________________________________________________________________\n",
      "24810/24810 [==============================] - 45s 2ms/step\n",
      "[0.46725058565212807, 0.46725058565212807, 0.7865376864119625]\n"
     ]
    }
   ],
   "source": [
    "!ls model\n",
    "best_model = keras.models.load_model('model/CNN_cat_multi_input_tau_chmult_phomult.h5')\n",
    "best_model.summary()\n",
    "results = best_model.evaluate(test_variables, testlabels)\n",
    "print(results)"
   ]
  },
  {
   "cell_type": "markdown",
   "metadata": {},
   "source": [
    "Evaluate the performance of our DNN! Plot predictions vs. true values (the line is predictions vs. predicitons)."
   ]
  },
  {
   "cell_type": "code",
   "execution_count": 15,
   "metadata": {
    "scrolled": false
   },
   "outputs": [
    {
     "name": "stdout",
     "output_type": "stream",
     "text": [
      "(24810,)\n",
      "(24810, 16, 16, 1)\n",
      "(24810, 2)\n"
     ]
    },
    {
     "data": {
      "image/png": "[encoded data removed]",
      "text/plain": [
       "<Figure size 432x288 with 1 Axes>"
      ]
     },
     "metadata": {
      "needs_background": "light"
     },
     "output_type": "display_data"
    }
   ],
   "source": [
    "# Plot ROC\n",
    "\n",
    "print(testtaus.shape)\n",
    "print(testimages.shape)\n",
    "print(testlabels.shape)\n",
    "\n",
    "#predict = best_model.predict([testimages, testtaus, testmults])\n",
    "predict = best_model.predict(test_variables)\n",
    "from sklearn.metrics import roc_curve, auc\n",
    "fpr, tpr, thresholds = roc_curve(testlabels[:,0], predict[:,0])\n",
    "roc_auc = auc(fpr, tpr)\n",
    "plt.plot(fpr, tpr, lw=2, color='b', label='auc = %.3f' % (roc_auc))\n",
    "plt.plot([0, 1], [0, 1], linestyle='--', lw=2, color='k', label='random chance')\n",
    "plt.xlim([0, 1.0])\n",
    "plt.ylim([0, 1.0])\n",
    "plt.xlabel('false positive rate')\n",
    "plt.ylabel('true positive rate')\n",
    "plt.title('receiver operating curve')\n",
    "plt.legend(loc=\"lower right\")\n",
    "plt.show()"
   ]
  },
  {
   "cell_type": "code",
   "execution_count": 16,
   "metadata": {},
   "outputs": [
    {
     "data": {
      "image/png": "[encoded data removed]",
      "text/plain": [
       "<Figure size 432x288 with 1 Axes>"
      ]
     },
     "metadata": {
      "needs_background": "light"
     },
     "output_type": "display_data"
    }
   ],
   "source": [
    "indqcd = np.argwhere(testlabels[:,1] == 0)\n",
    "ind1  = np.where(testlabels[:,1] == 1) \n",
    "#ind2  = np.where(testlabels[:,2] == 1)\n",
    "#ind3  = np.where(testlabels[:,3] == 1)\n",
    "hist_, bin_edges_ = np.histogram(predict[indqcd])\n",
    "plt.hist([predict[indqcd, 0].flatten(),predict[ind1, 1].flatten()] , histtype = 'step', label = ['qcd', 'ZZ'])\n",
    "plt.legend()\n",
    "plt.title('Predictions w/o normalized Pt')\n",
    "plt.yscale('log')\n",
    "plt.xlabel('Prediction (correct = 1)')\n",
    "plt.show()"
   ]
  },
  {
   "cell_type": "markdown",
   "metadata": {},
   "source": [
    "$$ \\textbf{LRP} $$"
   ]
  },
  {
   "cell_type": "code",
   "execution_count": null,
   "metadata": {},
   "outputs": [],
   "source": [
    "# import innvestigate\n",
    "# import innvestigate.utils as iutils"
   ]
  },
  {
   "cell_type": "code",
   "execution_count": null,
   "metadata": {},
   "outputs": [],
   "source": [
    "# # Creating an analyzer\n",
    "# lrp_analyzer = innvestigate.create_analyzer(\"lrp.z\", best_model)\n",
    "# #discoverered that innvestigate fails to run on a loaded model --> trying to find fix\n",
    "\n",
    "# # Applying the analyzer\n",
    "# display = trainimages[1].reshape(1,grid,grid,1) #the reshape is this way is because the input is expected to be 4 dimensions\n",
    "# analysis = lrp_analyzer.analyze(display)\n",
    "\n",
    "# # Displaying one result\n",
    "# plt.imshow(analysis.squeeze(), cmap='seismic', interpolation='nearest')\n",
    "# plt.colorbar()\n",
    "# plt.show()"
   ]
  },
  {
   "cell_type": "code",
   "execution_count": null,
   "metadata": {},
   "outputs": [],
   "source": [
    "# #fix - change to predicted labels\n",
    "# #plot output signal and background\n",
    "# sig_analysis_true = np.zeros_like(analysis)\n",
    "# bkg_analysis_true = np.zeros_like(analysis)\n",
    "# sig_analysis_pred = np.zeros_like(analysis)\n",
    "# bkg_analysis_pred = np.zeros_like(analysis)\n",
    "# # sig_mask = trainlabels == 1\n",
    "# # bkg_mask = trainlabels == 0\n",
    "# # pred_sig_mask = predict >= 0.50\n",
    "# # pred_bkg_mask = predict < 0.50\n",
    "\n",
    "# toc = time.time()\n",
    "\n",
    "# for i in range(len(trainimages)):\n",
    "#     display = trainimages[i].reshape(1,grid,grid,1)\n",
    "#     analysis = lrp_analyzer.analyze(display)\n",
    "#     if trainlabels[i] == 1:\n",
    "#         sig_analysis_true += analysis  \n",
    "#     else:\n",
    "#         bkg_analysis_true += analysis\n",
    "\n",
    "# for i in range(len(trainimages)):\n",
    "#     display = trainimages[i].reshape(1,grid,grid,1)\n",
    "#     analysis = lrp_analyzer.analyze(display)\n",
    "#     if trainlabels[i] >= 0.50:\n",
    "#         sig_analysis_pred += analysis  \n",
    "#     else:\n",
    "#         bkg_analysis_pred += analysis\n",
    "\n",
    "# tic = time.time()\n",
    "\n",
    "# print('/n time = /n', tic-toc)\n"
   ]
  },
  {
   "cell_type": "code",
   "execution_count": null,
   "metadata": {},
   "outputs": [],
   "source": [
    "# Displaying the signal result\n",
    "# ax = plt.figure(figsize = (10,10))\n",
    "# ax.add_subplot(121)\n",
    "# im = plt.imshow(sig_analysis_true.squeeze(), cmap='seismic', interpolation='nearest')\n",
    "# plt.colorbar(im,fraction=0.046, pad=0.04)\n",
    "# ax.add_subplot(122)\n",
    "# im_ = plt.imshow(sig_analysis_pred.squeeze(), cmap='seismic', interpolation='nearest')\n",
    "# plt.colorbar(im_,fraction=0.046, pad=0.04)"
   ]
  },
  {
   "cell_type": "code",
   "execution_count": null,
   "metadata": {},
   "outputs": [],
   "source": [
    "# # Displaying the signal result\n",
    "# ax = plt.figure(figsize = (10,10))\n",
    "# plt.subplot(121)\n",
    "# im_ = plt.imshow(bkg_analysis_true.squeeze(), cmap='seismic', interpolation='nearest')\n",
    "# plt.colorbar(im_,fraction=0.046, pad=0.04)\n",
    "# plt.subplot(122)\n",
    "# im = plt.imshow(bkg_analysis_pred.squeeze(), cmap='seismic', interpolation='nearest')\n",
    "# plt.colorbar(im,fraction=0.046, pad=0.04)"
   ]
  }
 ],
 "metadata": {
  "kernelspec": {
   "display_name": "Python 3",
   "language": "python",
   "name": "python3"
  },
  "language_info": {
   "codemirror_mode": {
    "name": "ipython",
    "version": 3
   },
   "file_extension": ".py",
   "mimetype": "text/x-python",
   "name": "python",
   "nbconvert_exporter": "python",
   "pygments_lexer": "ipython3",
   "version": "3.7.3"
  }
 },
 "nbformat": 4,
 "nbformat_minor": 2
}
