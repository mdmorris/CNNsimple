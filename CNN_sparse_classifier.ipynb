{
 "cells": [
  {
   "cell_type": "code",
   "execution_count": 1,
   "metadata": {},
   "outputs": [
    {
     "name": "stderr",
     "output_type": "stream",
     "text": [
      "/opt/conda/lib/python3.7/site-packages/tensorflow/python/framework/dtypes.py:526: FutureWarning: Passing (type, 1) or '1type' as a synonym of type is deprecated; in a future version of numpy, it will be understood as (type, (1,)) / '(1,)type'.\n",
      "  _np_qint8 = np.dtype([(\"qint8\", np.int8, 1)])\n",
      "/opt/conda/lib/python3.7/site-packages/tensorflow/python/framework/dtypes.py:527: FutureWarning: Passing (type, 1) or '1type' as a synonym of type is deprecated; in a future version of numpy, it will be understood as (type, (1,)) / '(1,)type'.\n",
      "  _np_quint8 = np.dtype([(\"quint8\", np.uint8, 1)])\n",
      "/opt/conda/lib/python3.7/site-packages/tensorflow/python/framework/dtypes.py:528: FutureWarning: Passing (type, 1) or '1type' as a synonym of type is deprecated; in a future version of numpy, it will be understood as (type, (1,)) / '(1,)type'.\n",
      "  _np_qint16 = np.dtype([(\"qint16\", np.int16, 1)])\n",
      "/opt/conda/lib/python3.7/site-packages/tensorflow/python/framework/dtypes.py:529: FutureWarning: Passing (type, 1) or '1type' as a synonym of type is deprecated; in a future version of numpy, it will be understood as (type, (1,)) / '(1,)type'.\n",
      "  _np_quint16 = np.dtype([(\"quint16\", np.uint16, 1)])\n",
      "/opt/conda/lib/python3.7/site-packages/tensorflow/python/framework/dtypes.py:530: FutureWarning: Passing (type, 1) or '1type' as a synonym of type is deprecated; in a future version of numpy, it will be understood as (type, (1,)) / '(1,)type'.\n",
      "  _np_qint32 = np.dtype([(\"qint32\", np.int32, 1)])\n",
      "/opt/conda/lib/python3.7/site-packages/tensorflow/python/framework/dtypes.py:535: FutureWarning: Passing (type, 1) or '1type' as a synonym of type is deprecated; in a future version of numpy, it will be understood as (type, (1,)) / '(1,)type'.\n",
      "  np_resource = np.dtype([(\"resource\", np.ubyte, 1)])\n",
      "Using TensorFlow backend.\n"
     ]
    },
    {
     "name": "stdout",
     "output_type": "stream",
     "text": [
      "1.13.1\n"
     ]
    }
   ],
   "source": [
    "# TensorFlow and tf.keras\n",
    "import tensorflow as tf\n",
    "#tf.enable_eager_execution()\n",
    "\n",
    "from tensorflow import keras\n",
    "from tensorflow.keras import layers\n",
    "import pandas as pd\n",
    "\n",
    "import keras\n",
    "import keras.backend\n",
    "from keras import layers\n",
    "from keras import models\n",
    "import keras.utils\n",
    "\n",
    "print(tf.__version__)\n",
    "\n",
    "# Helper libraries\n",
    "import numpy as np\n",
    "import matplotlib.pyplot as plt\n",
    "from matplotlib.colors import LogNorm\n",
    "import math\n",
    "import time\n",
    "import h5py\n",
    "import sklearn\n",
    "from sklearn.utils import shuffle\n",
    "\n",
    "import os\n",
    "\n"
   ]
  },
  {
   "cell_type": "markdown",
   "metadata": {},
   "source": [
    "## Import data:\n",
    "Using jetImages_signal.npz and jetImages_bkg.npz to train the neural network and using jetImages_signal_test.npz and jetImages_bkg_test.npz for testing."
   ]
  },
  {
   "cell_type": "code",
   "execution_count": 2,
   "metadata": {},
   "outputs": [],
   "source": [
    "# #list_ds = tf.data.Dataset.list_files('data/jetImages*.npz')\n",
    "# list_ds = tf.data.Dataset.list_files('/mnt/data/ml/ShowJetsData.npz')\n",
    "\n",
    "# l_jetImages = []\n",
    "# l_labels = []\n",
    "# n = 5 #take number of files\n",
    "# n_images = 0 #number of images in one file\n",
    "# for f1 in list_ds.take(n):\n",
    "#     print(f1.numpy())\n",
    "#     with np.load(f1.numpy()) as data:\n",
    "\n",
    "#         jetImages  = np.array(data['jetImages'])\n",
    "#         n_images += len(jetImages)\n",
    "#         l_jetImages.append(jetImages)\n",
    "#         labels  = data['labels']\n",
    "#         l_labels.append(labels)\n",
    "#         print(labels.shape)\n",
    "#         print(jetImages.shape)\n",
    "\n",
    "\n",
    "# l_jetImages = np.array(l_jetImages).reshape(n_images,16,16,1)\n",
    "# l_labels = np.array(l_labels).reshape(n_images,4)\n"
   ]
  },
  {
   "cell_type": "code",
   "execution_count": 3,
   "metadata": {},
   "outputs": [
    {
     "name": "stdout",
     "output_type": "stream",
     "text": [
      "(336227,)\n",
      "(62025, 16, 16, 1)\n",
      "(62025, 2)\n",
      "(62025, 1)\n",
      "(62025, 1)\n",
      "\n",
      "(12405, 16, 16, 1)\n",
      "(12405, 2)\n",
      "(12405,)\n",
      "(12405,)\n",
      "\n",
      "(24810, 16, 16, 1)\n",
      "(24810, 2)\n",
      "(24810,)\n",
      "(24810,)\n"
     ]
    }
   ],
   "source": [
    "data = np.load('/mnt/data/ml/ShowJetsDataTest.npz')\n",
    "# !ls /mnt/data/ml/\n",
    "images = data['jetImages']\n",
    "labels = data['labels']\n",
    "tau21 = data['tau21']\n",
    "chMult = data['chMult']\n",
    "print(chMult.shape)\n",
    "\n",
    "grid = np.size(images, 1)\n",
    "#ensure same number of signal vs. background and even split of z events\n",
    "qcd_im = images[np.where(labels[:,0] == 1)]\n",
    "qcd_tau = tau21[np.where(labels[:,0] == 1)]\n",
    "qcd_mult = chMult[np.where(labels[:,0] == 1)]\n",
    "\n",
    "if len(qcd_im) % 3 != 0:\n",
    "    qcd_im = qcd_im[:len(qcd_im)-(len(qcd_im) % 3)]\n",
    "    qcd_tau = qcd_tau[:len(qcd_im)-(len(qcd_im) % 3)]\n",
    "    qcd_mult = qcd_mult[:len(qcd_im)-(len(qcd_im) % 3)]\n",
    "\n",
    "z1_im = images[np.where(labels[:,1] == 1)]\n",
    "z1_im = z1_im[:int(len(qcd_im)/3)]\n",
    "z1_tau = tau21[np.where(labels[:,1] == 1)]\n",
    "z1_tau = z1_tau[:int(len(qcd_im)/3)]\n",
    "z1_mult = chMult[np.where(labels[:,1] == 1)]\n",
    "z1_mult = z1_mult[:int(len(qcd_im)/3)]\n",
    "\n",
    "z2_im = images[np.where(labels[:,2] == 1)]\n",
    "z2_im = z2_im[:int(len(qcd_im)/3)]\n",
    "z2_tau = tau21[np.where(labels[:,2] == 1)]\n",
    "z2_tau = z2_tau[:int(len(qcd_im)/3)]\n",
    "z2_mult = chMult[np.where(labels[:,2] == 1)]\n",
    "z2_mult = z1_mult[:int(len(qcd_im)/3)]\n",
    "\n",
    "z3_im = images[np.where(labels[:,3] == 1)]\n",
    "z3_im = z3_im[:int(len(qcd_im)/3)]\n",
    "z3_tau = tau21[np.where(labels[:,3] == 1)]\n",
    "z3_tau = z3_tau[:int(len(qcd_im)/3)]\n",
    "z3_mult = chMult[np.where(labels[:,3] == 1)]\n",
    "z3_mult = z1_mult[:int(len(qcd_im)/3)]\n",
    "\n",
    "qcd_lab = np.zeros([len(qcd_im), 2])\n",
    "qcd_lab[:,0] = 1\n",
    "z_lab = np.zeros([len(qcd_im), 2])\n",
    "z_lab[:,1] = 1\n",
    "images = np.vstack((qcd_im, z1_im, z2_im, z3_im))\n",
    "taus = np.hstack((qcd_tau, z1_tau, z2_tau, z3_tau))\n",
    "mults = np.hstack((qcd_mult, z1_mult, z2_mult, z3_mult))\n",
    "labels = np.vstack((qcd_lab, z_lab))\n",
    "n_data = len(images)\n",
    "images = images.reshape(n_data, grid, grid, 1)\n",
    "#split data into testing/training/validation\n",
    "testimages = images[::4]\n",
    "testlabels = labels[::4]\n",
    "testtaus = taus[::4]\n",
    "testmults = mults[::4]\n",
    "mask_im = np.ones(images.shape,dtype=bool)\n",
    "mask_im[::4] = 0\n",
    "mask_im[1::8] = 0\n",
    "mask_lab = np.ones(labels.shape,dtype=bool)\n",
    "mask_lab[::4] = 0\n",
    "mask_lab[1::8] = 0\n",
    "mask_tau = np.ones(taus.shape,dtype=bool)\n",
    "mask_tau[::4] = 0\n",
    "mask_tau[1::8] = 0\n",
    "mask_mult = np.ones(mults.shape,dtype=bool)\n",
    "mask_mult[::4] = 0\n",
    "mask_mult[1::8] = 0\n",
    "valimages = images[1::8]\n",
    "vallabels = labels[1::8]\n",
    "valtaus = taus[1::8]\n",
    "valmults = mults[1::8]\n",
    "trainimages = images[mask_im].reshape((n_data-len(testimages)-len(valimages)), grid, grid, 1)\n",
    "trainlabels = labels[mask_lab].reshape((n_data-len(testimages)-len(valimages)), 2)\n",
    "traintaus = taus[mask_tau].reshape((n_data-len(testimages)-len(valimages)), 1)\n",
    "trainmults = mults[mask_mult].reshape((n_data-len(testimages)-len(valimages)), 1)\n",
    "\n",
    "print(trainimages.shape)\n",
    "print(trainlabels.shape)\n",
    "print(traintaus.shape)\n",
    "print(trainmults.shape)\n",
    "print()\n",
    "print(valimages.shape)\n",
    "print(vallabels.shape)\n",
    "print(valtaus.shape)\n",
    "print(valmults.shape)\n",
    "print()\n",
    "print(testimages.shape)\n",
    "print(testlabels.shape)\n",
    "print(testtaus.shape)\n",
    "print(testmults.shape)"
   ]
  },
  {
   "cell_type": "code",
   "execution_count": 4,
   "metadata": {
    "scrolled": false
   },
   "outputs": [],
   "source": [
    "# import list of files\n",
    "\n",
    "# filelist = tf.data.Dataset.list_files(str('data/jetImages*.npz'))\n",
    "# initialize new array and concatenate / append array to initialized array [DOES NOT WORK] trying zip\n",
    "\n",
    "\n",
    "# for f1 in filelist_sig.take(1):\n",
    "#     with np.load(f1.numpy()) as data:\n",
    "#         jetImages = data['jetImages']\n",
    "#         labels = data['labels']\n",
    "        \n",
    "# dataset = tf.data.Dataset.from_tensor_slices((l_jetImages, l_labels))\n",
    "# batched_dataset = dataset.batch(4)\n",
    "\n",
    "\n",
    "#for batch in batched_dataset.take(1):\n",
    "#    print([arr.numpy() for arr in batch])\n"
   ]
  },
  {
   "cell_type": "code",
   "execution_count": 5,
   "metadata": {},
   "outputs": [],
   "source": [
    "# grid = 16\n",
    "\n",
    "# trainimages = l_jetImages[10:]\n",
    "# trainlabels = l_labels[10:]\n",
    "\n",
    "# testimages = l_jetImages[:10]\n",
    "# testlables = l_labels[:10]\n",
    "\n",
    "# print(trainimages.shape)\n",
    "# print(trainlabels.shape)"
   ]
  },
  {
   "cell_type": "code",
   "execution_count": 6,
   "metadata": {},
   "outputs": [],
   "source": [
    "# grid = 16\n",
    "# # training data : 10,000 signal samples and 10,000 bkg samples\n",
    "# #traindata_sig = np.load('data/jetImages_signal.npz')\n",
    "# #traindata_bkg = np.load('data/jetImages_bkg.npz')\n",
    "# trainimages = np.concatenate((traindata_sig['jetImages'], traindata_bkg['jetImages']),axis=0)\n",
    "# trainlabels = np.concatenate((traindata_sig['labels'],traindata_bkg['labels']),axis=0)\n",
    "# # testing data : 10,000 signal samples and 10,000 bkg samples\n",
    "# testdata_sig = np.load('data/jetImages_signal_test.npz')\n",
    "# testdata_bkg = np.load('data/jetImages_bkg_test.npz')\n",
    "# testimages = np.concatenate((testdata_sig['jetImages'], testdata_bkg['jetImages']),axis=0)\n",
    "# testlabels = np.concatenate((testdata_sig['labels'], testdata_bkg['labels']),axis=0)\n",
    "\n",
    "# n_test = len(testlabels)\n",
    "# n_train = len(trainlabels)\n",
    "# trainimages = trainimages.reshape(n_train, grid, grid, 1)\n",
    "# testimages = testimages.reshape(n_test, grid, grid, 1)\n",
    "# print(trainimages.shape)\n",
    "# print(trainlabels.shape)"
   ]
  },
  {
   "cell_type": "code",
   "execution_count": 7,
   "metadata": {},
   "outputs": [],
   "source": [
    "# dataset = tf.data.Dataset.from_tensor_slices((l_jetImages, l_labels))\n",
    "# test_dataset = tf.data.Dataset.from_tensor_slices((testimages, testlabels))\n",
    "\n",
    "# batched_test_dataset = test_dataset.batch(4)\n",
    "\n",
    "#for batch in batched_dataset.take(4):\n",
    "#  print([arr.numpy() for arr in batch])\n"
   ]
  },
  {
   "cell_type": "markdown",
   "metadata": {},
   "source": [
    "Print a plot of data to see what it looks like!"
   ]
  },
  {
   "cell_type": "markdown",
   "metadata": {},
   "source": [
    "Preprocessing -> spit data into training and testing; take 80% for training and 20% for testing.\n",
    "\n",
    "If using CNN, uncomment \".reshape(n_data, grid, grid, 1)\"."
   ]
  },
  {
   "cell_type": "code",
   "execution_count": 8,
   "metadata": {},
   "outputs": [
    {
     "data": {
      "image/png": "[encoded data removed]",
      "text/plain": [
       "<Figure size 432x288 with 2 Axes>"
      ]
     },
     "metadata": {
      "needs_background": "light"
     },
     "output_type": "display_data"
    }
   ],
   "source": [
    "#plot input signal and background\n",
    "sig_trainimages = np.zeros_like(trainimages[1])\n",
    "bkg_trainimages = np.zeros_like(trainimages[1])\n",
    "for i in range(len(trainimages)):\n",
    "    if trainlabels[i,0] == 1:\n",
    "        sig_trainimages += trainimages[i]\n",
    "    else:\n",
    "        bkg_trainimages += trainimages[i]\n",
    "#signal\n",
    "display_sig = sig_trainimages.reshape(grid,grid)\n",
    "plt.grid(False)\n",
    "plt.imshow(display_sig, interpolation='nearest', origin='low', cmap = 'jet', norm=LogNorm())\n",
    "plt.colorbar()\n",
    "plt.show()"
   ]
  },
  {
   "cell_type": "markdown",
   "metadata": {},
   "source": [
    "Build DNN:"
   ]
  },
  {
   "cell_type": "code",
   "execution_count": 9,
   "metadata": {},
   "outputs": [
    {
     "data": {
      "image/png": "[encoded data removed]",
      "text/plain": [
       "<Figure size 432x288 with 2 Axes>"
      ]
     },
     "metadata": {
      "needs_background": "light"
     },
     "output_type": "display_data"
    }
   ],
   "source": [
    "#background\n",
    "display_bkg = bkg_trainimages.reshape(grid,grid)\n",
    "plt.grid(False)\n",
    "plt.imshow(display_bkg, interpolation='nearest', origin='low', cmap = 'jet', norm=LogNorm())\n",
    "plt.colorbar()\n",
    "plt.show()"
   ]
  },
  {
   "cell_type": "code",
   "execution_count": 10,
   "metadata": {},
   "outputs": [],
   "source": [
    "# def build_model():\n",
    "#     model = keras.Sequential([\n",
    "#         Conv2D(32, (11, 11), activation='relu',\n",
    "#                input_shape=(grid, grid, 1)),\n",
    "#         Conv2D(32, (3, 3), activation='relu'),\n",
    "#         MaxPool2D((2, 2)),\n",
    "# #         Dropout(0.2),\n",
    "#         Conv2D(32, (3, 3), activation='relu'),\n",
    "#         Conv2D(32, (3, 3), activation='relu'),\n",
    "#         MaxPool2D((2, 2)),\n",
    "# #         Dropout(0.2),\n",
    "#         Flatten(),\n",
    "#         #custom input layer\n",
    "#         Dense(64, activation=tf.nn.relu),\n",
    "#         Dense(64, activation=tf.nn.relu),\n",
    "# #         Dropout(0.2),\n",
    "#         Dense(1, activation=tf.nn.sigmoid)])\n",
    "\n",
    "#     model.compile(loss='binary_crossentropy',\n",
    "#                 optimizer='adam',\n",
    "#                 metrics=['mean_squared_error', 'binary_crossentropy', 'accuracy'])\n",
    "#     return model"
   ]
  },
  {
   "cell_type": "code",
   "execution_count": 25,
   "metadata": {},
   "outputs": [],
   "source": [
    "import tensorflow as tf\n",
    "\n",
    "def build_model():\n",
    "    input1 = layers.Input(shape = (grid, grid, 1))\n",
    "    x = layers.Conv2D(64, (12, 12), activation='relu', padding = 'same')(input1)\n",
    "    x = layers.Conv2D(64, (6, 6), activation='relu', padding = 'same')(x)\n",
    "    x = layers.Conv2D(64, (4, 4), activation='relu', padding = 'same')(x)\n",
    "    x = layers.MaxPool2D((2, 2))(x)\n",
    "    x1 = layers.Flatten()(x)\n",
    "    input2 = layers.Input(shape=(1,))\n",
    "    input3 = layers.Input(shape=(1,))\n",
    "    #input4 = layers.Input(shape=(1,))\n",
    "    x = layers.concatenate(inputs = [x1, input2, input3],axis=-1)\n",
    "    x = layers.Dense(256, activation=tf.nn.relu)(x)\n",
    "    output = layers.Dense(2, activation=tf.nn.sigmoid)(x)\n",
    "    model = models.Model(inputs=[input1, input2, input3], outputs=output)\n",
    "    model.compile(loss='categorical_crossentropy',\n",
    "                optimizer='adam',\n",
    "                metrics=['categorical_crossentropy', 'accuracy'])\n",
    "    return model"
   ]
  },
  {
   "cell_type": "markdown",
   "metadata": {},
   "source": [
    "Initialize model:"
   ]
  },
  {
   "cell_type": "code",
   "execution_count": 26,
   "metadata": {},
   "outputs": [],
   "source": [
    "circleCNN = build_model()"
   ]
  },
  {
   "cell_type": "markdown",
   "metadata": {},
   "source": [
    "Test model's prediction $before$ training:"
   ]
  },
  {
   "cell_type": "code",
   "execution_count": 27,
   "metadata": {
    "scrolled": false
   },
   "outputs": [
    {
     "name": "stdout",
     "output_type": "stream",
     "text": [
      "(207, 1)\n",
      "(207, 16, 16, 1)\n",
      "(207, 1)\n",
      "207/207 [==============================] - 0s 2ms/step\n",
      "[[0.511708   0.36214697]\n",
      " [0.50460094 0.43908617]\n",
      " [0.50982934 0.38738894]\n",
      " [0.50615937 0.42184094]\n",
      " [0.50153023 0.46578842]\n",
      " [0.51336795 0.3461587 ]\n",
      " [0.50683296 0.4133423 ]\n",
      " [0.5075811  0.4045018 ]\n",
      " [0.5101872  0.3788458 ]\n",
      " [0.52145344 0.26366112]\n",
      " [0.51570535 0.3223285 ]\n",
      " [0.50861216 0.39578694]\n",
      " [0.51121855 0.37037367]\n",
      " [0.5143399  0.33806568]\n",
      " [0.515974   0.322304  ]\n",
      " [0.5056567  0.42154488]\n",
      " [0.5044726  0.43879294]\n",
      " [0.508016   0.40411764]\n",
      " [0.5071472  0.41281348]\n",
      " [0.51084405 0.3708922 ]\n",
      " [0.51451707 0.33031797]\n",
      " [0.5067707  0.412933  ]\n",
      " [0.50878793 0.3957094 ]\n",
      " [0.5112257  0.37063906]\n",
      " [0.50667495 0.41288742]\n",
      " [0.5196764  0.2847913 ]\n",
      " [0.50675964 0.41305518]\n",
      " [0.51265    0.3542777 ]\n",
      " [0.51635814 0.3148893 ]\n",
      " [0.50467396 0.43078303]\n",
      " [0.5016543  0.465986  ]\n",
      " [0.5043038  0.43912208]\n",
      " [0.5091267  0.3874672 ]\n",
      " [0.5136818  0.34619877]\n",
      " [0.5030708  0.4480845 ]\n",
      " [0.50714993 0.4131552 ]\n",
      " [0.5047142  0.43886042]\n",
      " [0.5119532  0.36233371]\n",
      " [0.5180722  0.29920766]\n",
      " [0.5033882  0.45670485]\n",
      " [0.5203723  0.2776808 ]\n",
      " [0.51735693 0.30679968]\n",
      " [0.5043199  0.4393767 ]\n",
      " [0.5056942  0.4218926 ]\n",
      " [0.50522906 0.43005198]\n",
      " [0.51821345 0.29958728]\n",
      " [0.5074681  0.4043193 ]\n",
      " [0.51021963 0.37920484]\n",
      " [0.5238816  0.24357152]\n",
      " [0.51807934 0.2992252 ]\n",
      " [0.50439423 0.43926406]\n",
      " [0.5067678  0.42179108]\n",
      " [0.50763655 0.40433833]\n",
      " [0.5147504  0.3302372 ]\n",
      " [0.50935096 0.38747317]\n",
      " [0.52198905 0.26361883]\n",
      " [0.5031764  0.44776714]\n",
      " [0.50518507 0.43070406]\n",
      " [0.5319522  0.18399233]\n",
      " [0.5035147  0.44795275]\n",
      " [0.50198275 0.45695788]\n",
      " [0.5126727  0.35426956]\n",
      " [0.50758266 0.40437645]\n",
      " [0.50507134 0.4309256 ]\n",
      " [0.51808405 0.29947746]\n",
      " [0.5059091  0.4215775 ]\n",
      " [0.5061718  0.422051  ]\n",
      " [0.51235074 0.35454482]\n",
      " [0.5067401  0.41327304]\n",
      " [0.5110955  0.3710689 ]\n",
      " [0.5051496  0.43015143]\n",
      " [0.5013487  0.46591696]\n",
      " [0.5153223  0.33021986]\n",
      " [0.5016084  0.4657777 ]\n",
      " [0.5118616  0.36205098]\n",
      " [0.500412   0.49962014]\n",
      " [0.5059474  0.4216727 ]\n",
      " [0.50757945 0.40427947]\n",
      " [0.5085642  0.39563   ]\n",
      " [0.51108736 0.37116596]\n",
      " [0.5025037  0.45700377]\n",
      " [0.50544775 0.43080541]\n",
      " [0.51264226 0.3540494 ]\n",
      " [0.5073258  0.4130301 ]\n",
      " [0.50450724 0.43912053]\n",
      " [0.5100989  0.37918252]\n",
      " [0.5205027  0.27788517]\n",
      " [0.50224805 0.45683908]\n",
      " [0.51023227 0.37928718]\n",
      " [0.5036214  0.44773886]\n",
      " [0.51436937 0.33832216]\n",
      " [0.5043562  0.44763553]\n",
      " [0.50687337 0.41301927]\n",
      " [0.5129999  0.35365683]\n",
      " [0.5084763  0.3957334 ]\n",
      " [0.5190366  0.29202124]\n",
      " [0.50762254 0.40456063]\n",
      " [0.5046427  0.4388016 ]\n",
      " [0.5158731  0.3224046 ]\n",
      " [0.5089818  0.3955418 ]\n",
      " [0.5054859  0.42993134]\n",
      " [0.4988846  0.48448533]\n",
      " [0.51004285 0.37926996]\n",
      " [0.50525606 0.43028077]\n",
      " [0.5022544  0.45688987]\n",
      " [0.51532966 0.3299898 ]\n",
      " [0.5014471  0.4660673 ]\n",
      " [0.51415896 0.33791524]\n",
      " [0.51023376 0.3788856 ]\n",
      " [0.50339884 0.45653424]\n",
      " [0.5039756  0.44725075]\n",
      " [0.5085344  0.39528835]\n",
      " [0.5100532  0.37908477]\n",
      " [0.50181663 0.4739759 ]\n",
      " [0.5095854  0.38718063]\n",
      " [0.50825465 0.40428102]\n",
      " [0.5143585  0.33809465]\n",
      " [0.5054151  0.43053034]\n",
      " [0.51101303 0.37076253]\n",
      " [0.5041384  0.4476199 ]\n",
      " [0.506104   0.42152384]\n",
      " [0.50322956 0.4480958 ]\n",
      " [0.50440013 0.44785464]\n",
      " [0.5118226  0.36244276]\n",
      " [0.5088276  0.39545044]\n",
      " [0.5134219  0.346148  ]\n",
      " [0.5020025  0.4570225 ]\n",
      " [0.5159104  0.3227648 ]\n",
      " [0.5070053  0.41356412]\n",
      " [0.50525135 0.4304603 ]\n",
      " [0.51020575 0.37896314]\n",
      " [0.509304   0.3955753 ]\n",
      " [0.51052195 0.3790641 ]\n",
      " [0.5031981  0.45671862]\n",
      " [0.50770384 0.4046247 ]\n",
      " [0.50756395 0.40436167]\n",
      " [0.51909083 0.29229316]\n",
      " [0.5082815  0.4040756 ]\n",
      " [0.5075085  0.41275817]\n",
      " [0.50553113 0.4300423 ]\n",
      " [0.5075447  0.41308668]\n",
      " [0.50427663 0.44765732]\n",
      " [0.51174337 0.36255682]\n",
      " [0.50301015 0.45665658]\n",
      " [0.511142   0.3709458 ]\n",
      " [0.5121938  0.3542551 ]\n",
      " [0.508703   0.3962359 ]\n",
      " [0.51060677 0.3785401 ]\n",
      " [0.5056562  0.4303137 ]\n",
      " [0.5088065  0.39587975]\n",
      " [0.5080937  0.40381727]\n",
      " [0.52526224 0.23691508]\n",
      " [0.51049125 0.3786114 ]\n",
      " [0.51823884 0.29941997]\n",
      " [0.50974834 0.38691667]\n",
      " [0.50812584 0.3962398 ]\n",
      " [0.5086734  0.395682  ]\n",
      " [0.5104214  0.37838   ]\n",
      " [0.5149055  0.32992834]\n",
      " [0.5104374  0.37884068]\n",
      " [0.51521975 0.3300321 ]\n",
      " [0.50556487 0.43020374]\n",
      " [0.5127431  0.35410193]\n",
      " [0.50424886 0.4475352 ]\n",
      " [0.50768894 0.40409645]\n",
      " [0.51055056 0.37888262]\n",
      " [0.50958705 0.38734132]\n",
      " [0.5082039  0.40411133]\n",
      " [0.5079773  0.4039757 ]\n",
      " [0.505309   0.4299408 ]\n",
      " [0.5193728  0.2847476 ]\n",
      " [0.5039072  0.44773775]\n",
      " [0.50503445 0.43897256]\n",
      " [0.5062508  0.42228466]\n",
      " [0.51707375 0.30691493]\n",
      " [0.51272947 0.3540855 ]\n",
      " [0.50582045 0.4298345 ]\n",
      " [0.50951207 0.38755566]\n",
      " [0.5059787  0.43005174]\n",
      " [0.50022584 0.48330945]\n",
      " [0.5134926  0.3463552 ]\n",
      " [0.5072639  0.4129846 ]\n",
      " [0.5111465  0.3708366 ]\n",
      " [0.51850843 0.29927415]\n",
      " [0.50885314 0.39591196]\n",
      " [0.5129769  0.35382438]\n",
      " [0.50476605 0.43904692]\n",
      " [0.5073694  0.41326562]\n",
      " [0.51036483 0.3782498 ]\n",
      " [0.5077297  0.40394738]\n",
      " [0.5130407  0.35417277]\n",
      " [0.5070465  0.41267926]\n",
      " [0.506279   0.42158687]\n",
      " [0.51160926 0.36291587]\n",
      " [0.51889235 0.2920565 ]\n",
      " [0.5141313  0.33822754]\n",
      " [0.5143029  0.338041  ]\n",
      " [0.51814157 0.29943556]\n",
      " [0.5151429  0.33008608]\n",
      " [0.50258154 0.46517476]\n",
      " [0.5136024  0.34598166]\n",
      " [0.5098249  0.3875656 ]\n",
      " [0.5080588  0.40454584]\n",
      " [0.5118379  0.362471  ]\n",
      " [0.50780934 0.40445027]\n",
      " [0.501509   0.47455615]\n",
      " [0.5103903  0.37892658]]\n",
      "[0.7023265183259899, 0.7023265183259899, 0.5024154589371981]\n"
     ]
    }
   ],
   "source": [
    "example_batch = trainimages[::300]\n",
    "example_labels = trainlabels[::300]\n",
    "example_taus = traintaus[::300]\n",
    "example_mults = trainmults[::300]\n",
    "print(example_taus.shape)\n",
    "print(example_batch.shape)\n",
    "print(example_mults.shape)\n",
    "\n",
    "\n",
    "example_result = circleCNN.predict(x = [example_batch, example_taus, example_mults])\n",
    "results = circleCNN.evaluate(x = [example_batch, example_taus, example_mults], y = example_labels)\n",
    "print(example_result)\n",
    "print(results)"
   ]
  },
  {
   "cell_type": "code",
   "execution_count": 20,
   "metadata": {},
   "outputs": [],
   "source": [
    "# example_batch = trainimages[:10]\n",
    "# example_labels = trainlabels[:10]\n",
    "# example_result = circleCNN.predict(example_batch)\n",
    "# results = circleCNN.evaluate(example_batch, example_labels)\n",
    "# print(example_result)\n",
    "# print(results)"
   ]
  },
  {
   "cell_type": "markdown",
   "metadata": {},
   "source": [
    "Now train! (warning: if building CNN, computer tends to get loud)"
   ]
  },
  {
   "cell_type": "code",
   "execution_count": 29,
   "metadata": {},
   "outputs": [
    {
     "name": "stdout",
     "output_type": "stream",
     "text": [
      "WARNING:tensorflow:From /opt/conda/lib/python3.7/site-packages/tensorflow/python/ops/math_ops.py:3066: to_int32 (from tensorflow.python.ops.math_ops) is deprecated and will be removed in a future version.\n",
      "Instructions for updating:\n",
      "Use tf.cast instead.\n",
      "\n",
      "Epoch 00001: val_loss improved from inf to 0.51234, saving model to model/CNN_cat_multi_input.h5\n",
      "\n",
      "Epoch 00002: val_loss improved from 0.51234 to 0.50776, saving model to model/CNN_cat_multi_input.h5\n",
      "\n",
      "Epoch 00003: val_loss did not improve from 0.50776\n",
      "\n",
      "Epoch 00004: val_loss did not improve from 0.50776\n",
      "\n",
      "Epoch 00005: val_loss improved from 0.50776 to 0.46236, saving model to model/CNN_cat_multi_input.h5\n"
     ]
    }
   ],
   "source": [
    "class PrintDot(keras.callbacks.Callback):\n",
    "    def on_epoch_end(self, epoch, logs):\n",
    "        if epoch % 100 == 0:\n",
    "            print('')\n",
    "        print('.', end='')\n",
    "    \n",
    "checkpoint_path = \"model/CNN_cat_multi_input.h5\"\n",
    "if not os.path.exists(\"model\"):\n",
    "    os.mkdir(\"model\")\n",
    "\n",
    "# Create checkpoint callback\n",
    "# cp_callback = tf.keras.callbacks.ModelCheckpoint(checkpoint_path, \n",
    "#                                                  save_best_only=True,\n",
    "#                                                  verbose=1)\n",
    "model_checkpoint = keras.callbacks.ModelCheckpoint(checkpoint_path, monitor='val_loss', \n",
    "                                   verbose=1, save_best_only=True, \n",
    "                                   save_weights_only=False, mode='auto', \n",
    "                                   period=1)    \n",
    "EPOCHS = 5\n",
    "early_stop = keras.callbacks.EarlyStopping(monitor='val_loss', patience=10)\n",
    "history = circleCNN.fit(\n",
    "  [trainimages, traintaus, trainmults], trainlabels,\n",
    "  epochs=EPOCHS, validation_split = 0.2, verbose = 0,\n",
    "  callbacks=[early_stop, model_checkpoint])"
   ]
  },
  {
   "cell_type": "code",
   "execution_count": 16,
   "metadata": {},
   "outputs": [],
   "source": [
    "#dataset_shuffled = dataset.shuffle(buffer_size=1024).batch(16)"
   ]
  },
  {
   "cell_type": "code",
   "execution_count": null,
   "metadata": {},
   "outputs": [],
   "source": [
    "# # WITH BATCHING AND SHUFFLING\n",
    "\n",
    "\n",
    "\n",
    "# EPOCHS = 1\n",
    "# early_stop = keras.callbacks.EarlyStopping(monitor='val_loss', patience=10)\n",
    "# history = circleCNN.fit(\n",
    "#   dataset_shuffled,\n",
    "#   epochs=EPOCHS)"
   ]
  },
  {
   "cell_type": "markdown",
   "metadata": {},
   "source": [
    "Now make a plot that shows the pregression of accuracy through each training epoch."
   ]
  },
  {
   "cell_type": "code",
   "execution_count": null,
   "metadata": {},
   "outputs": [],
   "source": []
  },
  {
   "cell_type": "code",
   "execution_count": null,
   "metadata": {},
   "outputs": [],
   "source": [
    "# def plot_history(history):\n",
    "#     hist = pd.DataFrame(history.history)\n",
    "#     hist['epoch'] = history.epoch\n",
    "    \n",
    "#     plt.figure()\n",
    "#     plt.xlabel('Epoch')\n",
    "#     plt.ylabel('Mean Square Error')\n",
    "#     plt.plot(hist['epoch'], hist['mean_squared_error'],\n",
    "#              label='Train Error')\n",
    "#     plt.plot(hist['epoch'], hist['val_mean_squared_error'],\n",
    "#              label = 'Val Error')\n",
    "#     plt.ylim([0,100])\n",
    "#     plt.legend()\n",
    "#     plt.show()\n",
    "\n",
    "# plot_history(history)"
   ]
  },
  {
   "cell_type": "markdown",
   "metadata": {},
   "source": [
    "Load best weights."
   ]
  },
  {
   "cell_type": "code",
   "execution_count": 30,
   "metadata": {
    "scrolled": false
   },
   "outputs": [
    {
     "name": "stdout",
     "output_type": "stream",
     "text": [
      "CNN_cat_multi_input.h5\tCNN_cat_multi_input_taus.h5  CNN_sparce_cat.h5\tRNN.h5\n",
      "__________________________________________________________________________________________________\n",
      "Layer (type)                    Output Shape         Param #     Connected to                     \n",
      "==================================================================================================\n",
      "input_10 (InputLayer)           (None, 16, 16, 1)    0                                            \n",
      "__________________________________________________________________________________________________\n",
      "conv2d_10 (Conv2D)              (None, 16, 16, 64)   9280        input_10[0][0]                   \n",
      "__________________________________________________________________________________________________\n",
      "conv2d_11 (Conv2D)              (None, 16, 16, 64)   147520      conv2d_10[0][0]                  \n",
      "__________________________________________________________________________________________________\n",
      "conv2d_12 (Conv2D)              (None, 16, 16, 64)   65600       conv2d_11[0][0]                  \n",
      "__________________________________________________________________________________________________\n",
      "max_pooling2d_4 (MaxPooling2D)  (None, 8, 8, 64)     0           conv2d_12[0][0]                  \n",
      "__________________________________________________________________________________________________\n",
      "flatten_4 (Flatten)             (None, 4096)         0           max_pooling2d_4[0][0]            \n",
      "__________________________________________________________________________________________________\n",
      "input_11 (InputLayer)           (None, 1)            0                                            \n",
      "__________________________________________________________________________________________________\n",
      "input_12 (InputLayer)           (None, 1)            0                                            \n",
      "__________________________________________________________________________________________________\n",
      "concatenate_4 (Concatenate)     (None, 4098)         0           flatten_4[0][0]                  \n",
      "                                                                 input_11[0][0]                   \n",
      "                                                                 input_12[0][0]                   \n",
      "__________________________________________________________________________________________________\n",
      "dense_7 (Dense)                 (None, 256)          1049344     concatenate_4[0][0]              \n",
      "__________________________________________________________________________________________________\n",
      "dense_8 (Dense)                 (None, 2)            514         dense_7[0][0]                    \n",
      "==================================================================================================\n",
      "Total params: 1,272,258\n",
      "Trainable params: 1,272,258\n",
      "Non-trainable params: 0\n",
      "__________________________________________________________________________________________________\n",
      "24810/24810 [==============================] - 45s 2ms/step\n",
      "[0.477918292297946, 0.477918292297946, 0.7787585650851101]\n"
     ]
    }
   ],
   "source": [
    "!ls model\n",
    "best_model = keras.models.load_model('model/CNN_cat_multi_input.h5')\n",
    "best_model.summary()\n",
    "results = best_model.evaluate([testimages, testtaus, testmults], testlabels)\n",
    "print(results)"
   ]
  },
  {
   "cell_type": "markdown",
   "metadata": {},
   "source": [
    "Evaluate the performance of our DNN! Plot predictions vs. true values (the line is predictions vs. predicitons)."
   ]
  },
  {
   "cell_type": "code",
   "execution_count": 32,
   "metadata": {
    "scrolled": false
   },
   "outputs": [
    {
     "name": "stdout",
     "output_type": "stream",
     "text": [
      "(24810,)\n",
      "(24810, 16, 16, 1)\n",
      "(24810, 2)\n"
     ]
    },
    {
     "data": {
      "image/png": "[encoded data removed]",
      "text/plain": [
       "<Figure size 432x288 with 1 Axes>"
      ]
     },
     "metadata": {
      "needs_background": "light"
     },
     "output_type": "display_data"
    }
   ],
   "source": [
    "# Plot ROC\n",
    "\n",
    "print(testtaus.shape)\n",
    "print(testimages.shape)\n",
    "print(testlabels.shape)\n",
    "\n",
    "predict = best_model.predict([testimages, testtaus, testmults])\n",
    "from sklearn.metrics import roc_curve, auc\n",
    "fpr, tpr, thresholds = roc_curve(testlabels[:,0], predict[:,0])\n",
    "roc_auc = auc(fpr, tpr)\n",
    "plt.plot(fpr, tpr, lw=2, color='b', label='auc = %.3f' % (roc_auc))\n",
    "plt.plot([0, 1], [0, 1], linestyle='--', lw=2, color='k', label='random chance')\n",
    "plt.xlim([0, 1.0])\n",
    "plt.ylim([0, 1.0])\n",
    "plt.xlabel('false positive rate')\n",
    "plt.ylabel('true positive rate')\n",
    "plt.title('receiver operating curve')\n",
    "plt.legend(loc=\"lower right\")\n",
    "plt.show()"
   ]
  },
  {
   "cell_type": "code",
   "execution_count": 33,
   "metadata": {},
   "outputs": [
    {
     "data": {
      "image/png": "[encoded data removed]",
      "text/plain": [
       "<Figure size 432x288 with 1 Axes>"
      ]
     },
     "metadata": {
      "needs_background": "light"
     },
     "output_type": "display_data"
    }
   ],
   "source": [
    "hist, bin_edges = np.histogram(predict[:int(len(predict)/2)])\n",
    "hist_, bin_edges_ = np.histogram(predict[:-int(len((predict)-1)/2)])\n",
    "plt.hist([predict[:int(len(predict)/2)].flatten(), predict[int(len(predict)/2)-1:-1].flatten()] ,\n",
    "         color = ['blue', 'red'], histtype = 'step', label = ['signal', 'background'])\n",
    "plt.legend()\n",
    "plt.yscale('log')\n",
    "plt.show()"
   ]
  },
  {
   "cell_type": "markdown",
   "metadata": {},
   "source": [
    "$$ \\textbf{LRP} $$"
   ]
  },
  {
   "cell_type": "code",
   "execution_count": null,
   "metadata": {},
   "outputs": [],
   "source": [
    "# import innvestigate\n",
    "# import innvestigate.utils as iutils"
   ]
  },
  {
   "cell_type": "code",
   "execution_count": null,
   "metadata": {},
   "outputs": [],
   "source": [
    "# # Creating an analyzer\n",
    "# lrp_analyzer = innvestigate.create_analyzer(\"lrp.z\", best_model)\n",
    "# #discoverered that innvestigate fails to run on a loaded model --> trying to find fix\n",
    "\n",
    "# # Applying the analyzer\n",
    "# display = trainimages[1].reshape(1,grid,grid,1) #the reshape is this way is because the input is expected to be 4 dimensions\n",
    "# analysis = lrp_analyzer.analyze(display)\n",
    "\n",
    "# # Displaying one result\n",
    "# plt.imshow(analysis.squeeze(), cmap='seismic', interpolation='nearest')\n",
    "# plt.colorbar()\n",
    "# plt.show()"
   ]
  },
  {
   "cell_type": "code",
   "execution_count": null,
   "metadata": {},
   "outputs": [],
   "source": [
    "# #fix - change to predicted labels\n",
    "# #plot output signal and background\n",
    "# sig_analysis_true = np.zeros_like(analysis)\n",
    "# bkg_analysis_true = np.zeros_like(analysis)\n",
    "# sig_analysis_pred = np.zeros_like(analysis)\n",
    "# bkg_analysis_pred = np.zeros_like(analysis)\n",
    "# # sig_mask = trainlabels == 1\n",
    "# # bkg_mask = trainlabels == 0\n",
    "# # pred_sig_mask = predict >= 0.50\n",
    "# # pred_bkg_mask = predict < 0.50\n",
    "\n",
    "# toc = time.time()\n",
    "\n",
    "# for i in range(len(trainimages)):\n",
    "#     display = trainimages[i].reshape(1,grid,grid,1)\n",
    "#     analysis = lrp_analyzer.analyze(display)\n",
    "#     if trainlabels[i] == 1:\n",
    "#         sig_analysis_true += analysis  \n",
    "#     else:\n",
    "#         bkg_analysis_true += analysis\n",
    "\n",
    "# for i in range(len(trainimages)):\n",
    "#     display = trainimages[i].reshape(1,grid,grid,1)\n",
    "#     analysis = lrp_analyzer.analyze(display)\n",
    "#     if trainlabels[i] >= 0.50:\n",
    "#         sig_analysis_pred += analysis  \n",
    "#     else:\n",
    "#         bkg_analysis_pred += analysis\n",
    "\n",
    "# tic = time.time()\n",
    "\n",
    "# print('/n time = /n', tic-toc)\n"
   ]
  },
  {
   "cell_type": "code",
   "execution_count": null,
   "metadata": {},
   "outputs": [],
   "source": [
    "# Displaying the signal result\n",
    "# ax = plt.figure(figsize = (10,10))\n",
    "# ax.add_subplot(121)\n",
    "# im = plt.imshow(sig_analysis_true.squeeze(), cmap='seismic', interpolation='nearest')\n",
    "# plt.colorbar(im,fraction=0.046, pad=0.04)\n",
    "# ax.add_subplot(122)\n",
    "# im_ = plt.imshow(sig_analysis_pred.squeeze(), cmap='seismic', interpolation='nearest')\n",
    "# plt.colorbar(im_,fraction=0.046, pad=0.04)"
   ]
  },
  {
   "cell_type": "code",
   "execution_count": null,
   "metadata": {},
   "outputs": [],
   "source": [
    "# # Displaying the signal result\n",
    "# ax = plt.figure(figsize = (10,10))\n",
    "# plt.subplot(121)\n",
    "# im_ = plt.imshow(bkg_analysis_true.squeeze(), cmap='seismic', interpolation='nearest')\n",
    "# plt.colorbar(im_,fraction=0.046, pad=0.04)\n",
    "# plt.subplot(122)\n",
    "# im = plt.imshow(bkg_analysis_pred.squeeze(), cmap='seismic', interpolation='nearest')\n",
    "# plt.colorbar(im,fraction=0.046, pad=0.04)"
   ]
  }
 ],
 "metadata": {
  "kernelspec": {
   "display_name": "Python 3",
   "language": "python",
   "name": "python3"
  },
  "language_info": {
   "codemirror_mode": {
    "name": "ipython",
    "version": 3
   },
   "file_extension": ".py",
   "mimetype": "text/x-python",
   "name": "python",
   "nbconvert_exporter": "python",
   "pygments_lexer": "ipython3",
   "version": "3.7.3"
  }
 },
 "nbformat": 4,
 "nbformat_minor": 2
}
