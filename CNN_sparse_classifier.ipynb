{
 "cells": [
  {
   "cell_type": "code",
   "execution_count": 1,
   "metadata": {},
   "outputs": [
    {
     "name": "stderr",
     "output_type": "stream",
     "text": [
      "Using TensorFlow backend.\n"
     ]
    },
    {
     "name": "stdout",
     "output_type": "stream",
     "text": [
      "1.13.1\n"
     ]
    }
   ],
   "source": [
    "# TensorFlow and tf.keras\n",
    "import tensorflow as tf\n",
    "#from tensorflow import keras\n",
    "#from tensorflow.keras import layers\n",
    "import pandas as pd\n",
    "\n",
    "import keras\n",
    "from keras import layers\n",
    "import keras.backend\n",
    "from keras.layers import Input, Conv2D, MaxPool2D, Flatten, Dense, BatchNormalization, Dropout\n",
    "import keras.models\n",
    "import keras.utils\n",
    "\n",
    "print(tf.__version__)\n",
    "\n",
    "# Helper libraries\n",
    "import numpy as np\n",
    "import matplotlib.pyplot as plt\n",
    "from matplotlib.colors import LogNorm\n",
    "import math\n",
    "import time\n",
    "import h5py\n",
    "import sklearn\n",
    "from sklearn.utils import shuffle\n",
    "\n",
    "import os"
   ]
  },
  {
   "cell_type": "markdown",
   "metadata": {},
   "source": [
    "## Import data:\n",
    "Using jetImages_signal.npz and jetImages_bkg.npz to train the neural network and using jetImages_signal_test.npz and jetImages_bkg_test.npz for testing."
   ]
  },
  {
   "cell_type": "code",
   "execution_count": 2,
   "metadata": {},
   "outputs": [],
   "source": [
    "grid = 32\n",
    "# training data : 10,000 signal samples and 10,000 bkg samples\n",
    "traindata_sig = np.load('data/jetImages_signal.npz')\n",
    "traindata_bkg = np.load('data/jetImages_bkg.npz')\n",
    "trainimages = np.concatenate((traindata_sig['jetImages'], traindata_bkg['jetImages']),axis=0)\n",
    "trainlabels = np.concatenate((traindata_sig['labels'],traindata_bkg['labels']),axis=0)\n",
    "# testing data : 10,000 signal samples and 10,000 bkg samples\n",
    "testdata_sig = np.load('data/jetImages_signal_test.npz')\n",
    "testdata_bkg = np.load('data/jetImages_bkg_test.npz')\n",
    "testimages = np.concatenate((testdata_sig['jetImages'], testdata_bkg['jetImages']),axis=0)\n",
    "testlabels = np.concatenate((testdata_sig['labels'], testdata_bkg['labels']),axis=0)\n",
    "\n",
    "n_test = len(testlabels)\n",
    "n_train = len(trainlabels)\n",
    "trainimages = trainimages.reshape(n_train, grid, grid, 1)\n",
    "testimages = testimages.reshape(n_test, grid, grid, 1)"
   ]
  },
  {
   "cell_type": "markdown",
   "metadata": {},
   "source": [
    "Print a plot of data to see what it looks like!"
   ]
  },
  {
   "cell_type": "markdown",
   "metadata": {},
   "source": [
    "Preprocessing -> spit data into training and testing; take 80% for training and 20% for testing.\n",
    "\n",
    "If using CNN, uncomment \".reshape(n_data, grid, grid, 1)\"."
   ]
  },
  {
   "cell_type": "code",
   "execution_count": 3,
   "metadata": {},
   "outputs": [
    {
     "data": {
      "image/png": "[encoded data removed]",
      "text/plain": [
       "<Figure size 432x288 with 2 Axes>"
      ]
     },
     "metadata": {
      "needs_background": "light"
     },
     "output_type": "display_data"
    }
   ],
   "source": [
    "#plot input signal and background\n",
    "sig_trainimages = np.zeros_like(trainimages[1])\n",
    "bkg_trainimages = np.zeros_like(trainimages[1])\n",
    "for i in range(len(trainimages)):\n",
    "    if testlabels[i] == 1:\n",
    "        sig_trainimages += trainimages[i]\n",
    "    else:\n",
    "        bkg_trainimages += trainimages[i]\n",
    "#signal\n",
    "display_sig = sig_trainimages.reshape(grid,grid)\n",
    "plt.grid(False)\n",
    "plt.imshow(display_sig, interpolation='nearest', origin='low', cmap = 'jet', norm=LogNorm())\n",
    "plt.colorbar()\n",
    "plt.show()"
   ]
  },
  {
   "cell_type": "markdown",
   "metadata": {},
   "source": [
    "Build DNN:"
   ]
  },
  {
   "cell_type": "code",
   "execution_count": 4,
   "metadata": {},
   "outputs": [
    {
     "data": {
      "image/png": "[encoded data removed]",
      "text/plain": [
       "<Figure size 432x288 with 2 Axes>"
      ]
     },
     "metadata": {
      "needs_background": "light"
     },
     "output_type": "display_data"
    }
   ],
   "source": [
    "#background\n",
    "display_bkg = bkg_trainimages.reshape(grid,grid)\n",
    "plt.grid(False)\n",
    "plt.imshow(display_bkg, interpolation='nearest', origin='low', cmap = 'jet', norm=LogNorm())\n",
    "plt.colorbar()\n",
    "plt.show()"
   ]
  },
  {
   "cell_type": "code",
   "execution_count": 5,
   "metadata": {},
   "outputs": [],
   "source": [
    "def build_model():\n",
    "    model = keras.Sequential([\n",
    "        Conv2D(32, (11, 11), activation='relu',\n",
    "               input_shape=(grid, grid, 1)),\n",
    "        Conv2D(32, (3, 3), activation='relu'),\n",
    "        MaxPool2D((2, 2)),\n",
    "#         Dropout(0.2),\n",
    "        Conv2D(32, (3, 3), activation='relu'),\n",
    "        Conv2D(32, (3, 3), activation='relu'),\n",
    "        MaxPool2D((2, 2)),\n",
    "#         Dropout(0.2),\n",
    "        Flatten(),\n",
    "        #custom input layer\n",
    "        Dense(64, activation=tf.nn.relu),\n",
    "        Dense(64, activation=tf.nn.relu),\n",
    "#         Dropout(0.2),\n",
    "        Dense(1, activation=tf.nn.sigmoid)])\n",
    "\n",
    "    model.compile(loss='binary_crossentropy',\n",
    "                optimizer='adam',\n",
    "                metrics=['mean_squared_error', 'binary_crossentropy', 'accuracy'])\n",
    "    return model"
   ]
  },
  {
   "cell_type": "markdown",
   "metadata": {},
   "source": [
    "Initialize model:"
   ]
  },
  {
   "cell_type": "code",
   "execution_count": 6,
   "metadata": {},
   "outputs": [
    {
     "name": "stdout",
     "output_type": "stream",
     "text": [
      "WARNING:tensorflow:From /usr/local/lib/python3.6/site-packages/tensorflow/python/framework/op_def_library.py:263: colocate_with (from tensorflow.python.framework.ops) is deprecated and will be removed in a future version.\n",
      "Instructions for updating:\n",
      "Colocations handled automatically by placer.\n"
     ]
    }
   ],
   "source": [
    "circleCNN = build_model()"
   ]
  },
  {
   "cell_type": "markdown",
   "metadata": {},
   "source": [
    "Test model's prediction $before$ training:"
   ]
  },
  {
   "cell_type": "code",
   "execution_count": 7,
   "metadata": {},
   "outputs": [
    {
     "name": "stdout",
     "output_type": "stream",
     "text": [
      "10/10 [==============================] - 0s 6ms/step\n",
      "[[0.49953043]\n",
      " [0.4996674 ]\n",
      " [0.49973372]\n",
      " [0.49959075]\n",
      " [0.4997129 ]\n",
      " [0.499738  ]\n",
      " [0.4994858 ]\n",
      " [0.49974972]\n",
      " [0.49958763]\n",
      " [0.4997261 ]]\n",
      "[0.6938430070877075, 0.25034791231155396, 0.6938430070877075, 0.0]\n"
     ]
    }
   ],
   "source": [
    "example_batch = trainimages[:10]\n",
    "example_labels = trainlabels[:10]\n",
    "example_result = circleCNN.predict(example_batch)\n",
    "results = circleCNN.evaluate(example_batch, example_labels)\n",
    "print(example_result)\n",
    "print(results)"
   ]
  },
  {
   "cell_type": "markdown",
   "metadata": {},
   "source": [
    "Now train! (warning: if building CNN, computer tends to get loud)"
   ]
  },
  {
   "cell_type": "code",
   "execution_count": 8,
   "metadata": {},
   "outputs": [
    {
     "name": "stdout",
     "output_type": "stream",
     "text": [
      "WARNING:tensorflow:From /usr/local/lib/python3.6/site-packages/tensorflow/python/ops/math_ops.py:3066: to_int32 (from tensorflow.python.ops.math_ops) is deprecated and will be removed in a future version.\n",
      "Instructions for updating:\n",
      "Use tf.cast instead.\n",
      "\n",
      "Epoch 00001: val_loss improved from inf to 0.02926, saving model to model/CNN_sparce_cat.h5\n",
      "\n",
      "Epoch 00002: val_loss improved from 0.02926 to 0.02256, saving model to model/CNN_sparce_cat.h5\n",
      "\n",
      "Epoch 00003: val_loss did not improve from 0.02256\n",
      "\n",
      "Epoch 00004: val_loss improved from 0.02256 to 0.01349, saving model to model/CNN_sparce_cat.h5\n",
      "\n",
      "Epoch 00005: val_loss did not improve from 0.01349\n",
      "\n",
      "Epoch 00006: val_loss did not improve from 0.01349\n",
      "\n",
      "Epoch 00007: val_loss did not improve from 0.01349\n",
      "\n",
      "Epoch 00008: val_loss did not improve from 0.01349\n",
      "\n",
      "Epoch 00009: val_loss did not improve from 0.01349\n",
      "\n",
      "Epoch 00010: val_loss improved from 0.01349 to 0.01267, saving model to model/CNN_sparce_cat.h5\n",
      "\n",
      "Epoch 00011: val_loss did not improve from 0.01267\n",
      "\n",
      "Epoch 00012: val_loss did not improve from 0.01267\n",
      "\n",
      "Epoch 00013: val_loss did not improve from 0.01267\n",
      "\n",
      "Epoch 00014: val_loss did not improve from 0.01267\n",
      "\n",
      "Epoch 00015: val_loss did not improve from 0.01267\n",
      "\n",
      "Epoch 00016: val_loss improved from 0.01267 to 0.01025, saving model to model/CNN_sparce_cat.h5\n",
      "\n",
      "Epoch 00017: val_loss did not improve from 0.01025\n",
      "\n",
      "Epoch 00018: val_loss did not improve from 0.01025\n",
      "\n",
      "Epoch 00019: val_loss did not improve from 0.01025\n",
      "\n",
      "Epoch 00020: val_loss did not improve from 0.01025\n",
      "\n",
      "Epoch 00021: val_loss did not improve from 0.01025\n",
      "\n",
      "Epoch 00022: val_loss did not improve from 0.01025\n",
      "\n",
      "Epoch 00023: val_loss did not improve from 0.01025\n",
      "\n",
      "Epoch 00024: val_loss did not improve from 0.01025\n",
      "\n",
      "Epoch 00025: val_loss did not improve from 0.01025\n",
      "\n",
      "Epoch 00026: val_loss did not improve from 0.01025\n"
     ]
    }
   ],
   "source": [
    "class PrintDot(keras.callbacks.Callback):\n",
    "    def on_epoch_end(self, epoch, logs):\n",
    "        if epoch % 100 == 0:\n",
    "            print('')\n",
    "        print('.', end='')\n",
    "    \n",
    "checkpoint_path = \"model/CNN_sparce_cat.h5\"\n",
    "if not os.path.exists(\"model\"):\n",
    "    os.mkdir(\"model\")\n",
    "\n",
    "# Create checkpoint callback\n",
    "# cp_callback = tf.keras.callbacks.ModelCheckpoint(checkpoint_path, \n",
    "#                                                  save_best_only=True,\n",
    "#                                                  verbose=1)\n",
    "model_checkpoint = keras.callbacks.ModelCheckpoint(checkpoint_path, monitor='val_loss', \n",
    "                                   verbose=1, save_best_only=True, \n",
    "                                   save_weights_only=False, mode='auto', \n",
    "                                   period=1)    \n",
    "EPOCHS = 1000\n",
    "early_stop = keras.callbacks.EarlyStopping(monitor='val_loss', patience=10)\n",
    "history = circleCNN.fit(\n",
    "  trainimages, trainlabels,\n",
    "  epochs=EPOCHS, validation_split = 0.2, verbose = 0,\n",
    "  callbacks=[early_stop, model_checkpoint])"
   ]
  },
  {
   "cell_type": "markdown",
   "metadata": {},
   "source": [
    "Now make a plot that shows the pregression of accuracy through each training epoch."
   ]
  },
  {
   "cell_type": "code",
   "execution_count": 9,
   "metadata": {},
   "outputs": [
    {
     "data": {
      "image/png": "[encoded data removed]",
      "text/plain": [
       "<Figure size 432x288 with 1 Axes>"
      ]
     },
     "metadata": {
      "needs_background": "light"
     },
     "output_type": "display_data"
    }
   ],
   "source": [
    "def plot_history(history):\n",
    "  hist = pd.DataFrame(history.history)\n",
    "  hist['epoch'] = history.epoch\n",
    "  \n",
    "  plt.figure()\n",
    "  plt.xlabel('Epoch')\n",
    "  plt.ylabel('Mean Square Error')\n",
    "  plt.plot(hist['epoch'], hist['mean_squared_error'],\n",
    "           label='Train Error')\n",
    "  plt.plot(hist['epoch'], hist['val_mean_squared_error'],\n",
    "           label = 'Val Error')\n",
    "  plt.ylim([0,100])\n",
    "  plt.legend()\n",
    "  plt.show()\n",
    "\n",
    "plot_history(history)"
   ]
  },
  {
   "cell_type": "markdown",
   "metadata": {},
   "source": [
    "Load best weights."
   ]
  },
  {
   "cell_type": "code",
   "execution_count": 10,
   "metadata": {},
   "outputs": [
    {
     "name": "stdout",
     "output_type": "stream",
     "text": [
      "ls: cannot access 'training': No such file or directory\n",
      "_________________________________________________________________\n",
      "Layer (type)                 Output Shape              Param #   \n",
      "=================================================================\n",
      "conv2d_1 (Conv2D)            (None, 22, 22, 32)        3904      \n",
      "_________________________________________________________________\n",
      "conv2d_2 (Conv2D)            (None, 20, 20, 32)        9248      \n",
      "_________________________________________________________________\n",
      "max_pooling2d_1 (MaxPooling2 (None, 10, 10, 32)        0         \n",
      "_________________________________________________________________\n",
      "conv2d_3 (Conv2D)            (None, 8, 8, 32)          9248      \n",
      "_________________________________________________________________\n",
      "conv2d_4 (Conv2D)            (None, 6, 6, 32)          9248      \n",
      "_________________________________________________________________\n",
      "max_pooling2d_2 (MaxPooling2 (None, 3, 3, 32)          0         \n",
      "_________________________________________________________________\n",
      "flatten_1 (Flatten)          (None, 288)               0         \n",
      "_________________________________________________________________\n",
      "dense_1 (Dense)              (None, 64)                18496     \n",
      "_________________________________________________________________\n",
      "dense_2 (Dense)              (None, 64)                4160      \n",
      "_________________________________________________________________\n",
      "dense_3 (Dense)              (None, 1)                 65        \n",
      "=================================================================\n",
      "Total params: 54,369\n",
      "Trainable params: 54,369\n",
      "Non-trainable params: 0\n",
      "_________________________________________________________________\n",
      "20000/20000 [==============================] - 11s 529us/step\n",
      "[0.023569030327716574, 0.004863692161597991, 0.023569030327716574, 0.9941]\n"
     ]
    }
   ],
   "source": [
    "!ls training\n",
    "best_model = keras.models.load_model('model/CNN_sparce_cat.h5')\n",
    "best_model.summary()\n",
    "results = best_model.evaluate(testimages, testlabels)\n",
    "print(results)"
   ]
  },
  {
   "cell_type": "markdown",
   "metadata": {},
   "source": [
    "Evaluate the performance of our DNN! Plot predictions vs. true values (the line is predictions vs. predicitons)."
   ]
  },
  {
   "cell_type": "code",
   "execution_count": 11,
   "metadata": {},
   "outputs": [
    {
     "data": {
      "image/png": "[encoded data removed]",
      "text/plain": [
       "<Figure size 432x288 with 1 Axes>"
      ]
     },
     "metadata": {
      "needs_background": "light"
     },
     "output_type": "display_data"
    }
   ],
   "source": [
    "# Plot ROC\n",
    "predict = best_model.predict(testimages)\n",
    "from sklearn.metrics import roc_curve, auc\n",
    "fpr, tpr, thresholds = roc_curve(testlabels, predict)\n",
    "roc_auc = auc(fpr, tpr)\n",
    "plt.plot(fpr, tpr, lw=2, color='b', label='auc = %.3f' % (roc_auc))\n",
    "plt.plot([0, 1], [0, 1], linestyle='--', lw=2, color='k', label='random chance')\n",
    "plt.xlim([0, 1.0])\n",
    "plt.ylim([0, 1.0])\n",
    "plt.xlabel('false positive rate')\n",
    "plt.ylabel('true positive rate')\n",
    "plt.title('receiver operating curve')\n",
    "plt.legend(loc=\"lower right\")\n",
    "plt.show()"
   ]
  },
  {
   "cell_type": "code",
   "execution_count": 18,
   "metadata": {},
   "outputs": [
    {
     "data": {
      "image/png": "[encoded data removed]",
      "text/plain": [
       "<Figure size 432x288 with 1 Axes>"
      ]
     },
     "metadata": {
      "needs_background": "light"
     },
     "output_type": "display_data"
    }
   ],
   "source": [
    "hist, bin_edges = np.histogram(predict[:int(len(predict)/2)])\n",
    "hist_, bin_edges_ = np.histogram(predict[:-int(len((predict)-1)/2)])\n",
    "plt.hist([predict[:int(len(predict)/2)].flatten(), predict[int(len(predict)/2)-1:-1].flatten()] ,\n",
    "         color = ['blue', 'red'], histtype = 'step', label = ['signal', 'background'])\n",
    "plt.legend()\n",
    "plt.yscale('log')\n",
    "plt.show()"
   ]
  },
  {
   "cell_type": "markdown",
   "metadata": {},
   "source": [
    "$$ \\textbf{LRP} $$"
   ]
  },
  {
   "cell_type": "code",
   "execution_count": 13,
   "metadata": {},
   "outputs": [],
   "source": [
    "# import innvestigate\n",
    "# import innvestigate.utils as iutils"
   ]
  },
  {
   "cell_type": "code",
   "execution_count": 14,
   "metadata": {},
   "outputs": [],
   "source": [
    "# # Creating an analyzer\n",
    "# lrp_analyzer = innvestigate.create_analyzer(\"lrp.z\", best_model)\n",
    "# #discoverered that innvestigate fails to run on a loaded model --> trying to find fix\n",
    "\n",
    "# # Applying the analyzer\n",
    "# display = trainimages[1].reshape(1,grid,grid,1) #the reshape is this way is because the input is expected to be 4 dimensions\n",
    "# analysis = lrp_analyzer.analyze(display)\n",
    "\n",
    "# # Displaying one result\n",
    "# plt.imshow(analysis.squeeze(), cmap='seismic', interpolation='nearest')\n",
    "# plt.colorbar()\n",
    "# plt.show()"
   ]
  },
  {
   "cell_type": "code",
   "execution_count": 15,
   "metadata": {},
   "outputs": [],
   "source": [
    "# #fix - change to predicted labels\n",
    "# #plot output signal and background\n",
    "# sig_analysis_true = np.zeros_like(analysis)\n",
    "# bkg_analysis_true = np.zeros_like(analysis)\n",
    "# sig_analysis_pred = np.zeros_like(analysis)\n",
    "# bkg_analysis_pred = np.zeros_like(analysis)\n",
    "# # sig_mask = trainlabels == 1\n",
    "# # bkg_mask = trainlabels == 0\n",
    "# # pred_sig_mask = predict >= 0.50\n",
    "# # pred_bkg_mask = predict < 0.50\n",
    "\n",
    "# toc = time.time()\n",
    "\n",
    "# for i in range(len(trainimages)):\n",
    "#     display = trainimages[i].reshape(1,grid,grid,1)\n",
    "#     analysis = lrp_analyzer.analyze(display)\n",
    "#     if trainlabels[i] == 1:\n",
    "#         sig_analysis_true += analysis  \n",
    "#     else:\n",
    "#         bkg_analysis_true += analysis\n",
    "\n",
    "# for i in range(len(trainimages)):\n",
    "#     display = trainimages[i].reshape(1,grid,grid,1)\n",
    "#     analysis = lrp_analyzer.analyze(display)\n",
    "#     if trainlabels[i] >= 0.50:\n",
    "#         sig_analysis_pred += analysis  \n",
    "#     else:\n",
    "#         bkg_analysis_pred += analysis\n",
    "\n",
    "# tic = time.time()\n",
    "\n",
    "# print('/n time = /n', tic-toc)\n"
   ]
  },
  {
   "cell_type": "code",
   "execution_count": 16,
   "metadata": {},
   "outputs": [],
   "source": [
    "# Displaying the signal result\n",
    "# ax = plt.figure(figsize = (10,10))\n",
    "# ax.add_subplot(121)\n",
    "# im = plt.imshow(sig_analysis_true.squeeze(), cmap='seismic', interpolation='nearest')\n",
    "# plt.colorbar(im,fraction=0.046, pad=0.04)\n",
    "# ax.add_subplot(122)\n",
    "# im_ = plt.imshow(sig_analysis_pred.squeeze(), cmap='seismic', interpolation='nearest')\n",
    "# plt.colorbar(im_,fraction=0.046, pad=0.04)"
   ]
  },
  {
   "cell_type": "code",
   "execution_count": 17,
   "metadata": {},
   "outputs": [],
   "source": [
    "# # Displaying the signal result\n",
    "# ax = plt.figure(figsize = (10,10))\n",
    "# plt.subplot(121)\n",
    "# im_ = plt.imshow(bkg_analysis_true.squeeze(), cmap='seismic', interpolation='nearest')\n",
    "# plt.colorbar(im_,fraction=0.046, pad=0.04)\n",
    "# plt.subplot(122)\n",
    "# im = plt.imshow(bkg_analysis_pred.squeeze(), cmap='seismic', interpolation='nearest')\n",
    "# plt.colorbar(im,fraction=0.046, pad=0.04)"
   ]
  }
 ],
 "metadata": {
  "kernelspec": {
   "display_name": "Python 3",
   "language": "python",
   "name": "python3"
  },
  "language_info": {
   "codemirror_mode": {
    "name": "ipython",
    "version": 3
   },
   "file_extension": ".py",
   "mimetype": "text/x-python",
   "name": "python",
   "nbconvert_exporter": "python",
   "pygments_lexer": "ipython3",
   "version": "3.6.8"
  }
 },
 "nbformat": 4,
 "nbformat_minor": 2
}
