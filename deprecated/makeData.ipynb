{
 "cells": [
  {
   "cell_type": "code",
   "execution_count": 1,
   "metadata": {},
   "outputs": [],
   "source": [
    "import random\n",
    "import math\n",
    "import numbers\n",
    "import numpy as np\n",
    "import matplotlib.pyplot as plt\n",
    "import time"
   ]
  },
  {
   "cell_type": "markdown",
   "metadata": {},
   "source": [
    "Based on SciKit-Learn datasets.make_blobs (https://github.com/scikit-learn/scikit-learn/blob/master/sklearn/datasets/samples_generator.py)"
   ]
  },
  {
   "cell_type": "code",
   "execution_count": 2,
   "metadata": {},
   "outputs": [],
   "source": [
    "def make_circles(grid = 11, n_data = 10, n_particle = 5): \n",
    "    max_distance = int((grid-1)/2)\n",
    "    radii = np.random.randint(max_distance,grid,size = (n_data, 2))\n",
    "    radii = radii.flatten()\n",
    "    distance = np.random.randint(max_distance, size = n_data)\n",
    "    distances = np.array([np.multiply(np.ones(shape = (grid,grid)),y) for y in distance])\n",
    "    radii1 = np.array([np.multiply(np.ones(shape = (grid,grid)),y) for y in radii[::2]])\n",
    "    radii2 = np.array([np.multiply(np.ones(shape = (grid,grid)),y) for y in radii[1::2]])\n",
    "    circle = np.zeros((n_data, grid, grid))\n",
    "    circlex = np.zeros((grid, grid))\n",
    "    circley = np.zeros((grid, grid))\n",
    "    circlex[:][:][:] = np.arange(grid)\n",
    "    circley[:][:][:] = np.transpose(circlex)\n",
    "    x1 = circley - max_distance + distances/2\n",
    "    x2 = circley - max_distance - distances/2\n",
    "    y = circlex - max_distance\n",
    "    position1 = np.sqrt(x1**2+y**2)\n",
    "    position2 = np.sqrt(x2**2+y**2)\n",
    "    fill1 = position1 <= radii1\n",
    "    fill2 = position2 <= radii2\n",
    "    p1 = np.exp((-1./2.)*(3.*position1/radii1)**2.)\n",
    "    p2 = np.exp((-1./2.)*(3.*position2/radii2)**2.)\n",
    "    mask1 = np.zeros(n_data*grid*grid)\n",
    "    mask2 = np.zeros(n_data*grid*grid)\n",
    "    for i in range(n_data):\n",
    "        sub_mask1 = np.zeros(grid*grid)\n",
    "        sub_mask1[0:n_particle] = 1\n",
    "        np.random.shuffle(sub_mask1)\n",
    "        mask1[0+i*grid**2:grid**2+i*grid**2] = sub_mask1\n",
    "    mask1 = mask1.reshape(n_data, grid, grid)\n",
    "    for i in range(n_data):\n",
    "        sub_mask2 = np.zeros(grid*grid)\n",
    "        sub_mask2[0:n_particle] = 1\n",
    "        np.random.shuffle(sub_mask2)\n",
    "        mask2[0+i*grid**2:grid**2+i*grid**2] = sub_mask2\n",
    "    mask2 = mask2.reshape(n_data, grid, grid)\n",
    "    p1 = np.where(fill1, p1, 0.0)*mask1\n",
    "    p2 = np.where(fill2, p2, 0.0)*mask2\n",
    "    circles = p1 + p2\n",
    "    circles = circles.reshape(n_data, grid**2)\n",
    "    radii = radii.reshape(n_data, 2)\n",
    "    distances = distances.reshape(n_data*grid**2,1)[::grid**2]\n",
    "    return circles, radii, distances"
   ]
  },
  {
   "cell_type": "code",
   "execution_count": 25,
   "metadata": {
    "scrolled": false
   },
   "outputs": [
    {
     "name": "stdout",
     "output_type": "stream",
     "text": [
      "2.484852433000924\n"
     ]
    }
   ],
   "source": [
    "tic = time.perf_counter()\n",
    "grid = 32\n",
    "n_data = 10000\n",
    "n_particles = 10\n",
    "circleData, radiiLabels, distanceLabels = make_circles(grid, n_data, n_particles)\n",
    "toc = time.perf_counter()\n",
    "print(toc-tic)"
   ]
  },
  {
   "cell_type": "code",
   "execution_count": 26,
   "metadata": {},
   "outputs": [],
   "source": [
    "np.savez('circles_data', circles = circleData, radiilab = radiiLabels, distlab = distanceLabels)\n",
    "\n",
    "data = np.load('circles_data.npz')\n",
    "#print(data['circles'])\n",
    "#print(data['radiilab'])"
   ]
  },
  {
   "cell_type": "code",
   "execution_count": 27,
   "metadata": {},
   "outputs": [
    {
     "name": "stdout",
     "output_type": "stream",
     "text": [
      "radius = \n",
      "[27 31]\n",
      "distance between centers = \n",
      "[6.]\n"
     ]
    },
    {
     "data": {
      "text/plain": [
       "<matplotlib.colorbar.Colorbar at 0x10f93aef0>"
      ]
     },
     "execution_count": 27,
     "metadata": {},
     "output_type": "execute_result"
    },
    {
     "data": {
      "image/png": "[encoded data removed]",
      "text/plain": [
       "<Figure size 432x288 with 2 Axes>"
      ]
     },
     "metadata": {
      "needs_background": "light"
     },
     "output_type": "display_data"
    }
   ],
   "source": [
    "display = circleData[20].reshape(grid,grid)\n",
    "plt.grid(False)\n",
    "plt.imshow(display, cmap = 'jet')\n",
    "print(\"radius = \")\n",
    "print(radiiLabels[20])\n",
    "print(\"distance between centers = \")\n",
    "print(distanceLabels[20])\n",
    "plt.colorbar()"
   ]
  },
  {
   "cell_type": "code",
   "execution_count": null,
   "metadata": {},
   "outputs": [],
   "source": []
  },
  {
   "cell_type": "code",
   "execution_count": null,
   "metadata": {},
   "outputs": [],
   "source": []
  }
 ],
 "metadata": {
  "kernelspec": {
   "display_name": "Python 3",
   "language": "python",
   "name": "python3"
  },
  "language_info": {
   "codemirror_mode": {
    "name": "ipython",
    "version": 3
   },
   "file_extension": ".py",
   "mimetype": "text/x-python",
   "name": "python",
   "nbconvert_exporter": "python",
   "pygments_lexer": "ipython3",
   "version": "3.7.3"
  }
 },
 "nbformat": 4,
 "nbformat_minor": 2
}
