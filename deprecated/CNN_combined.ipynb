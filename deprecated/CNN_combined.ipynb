{
 "cells": [
  {
   "cell_type": "code",
   "execution_count": 1,
   "metadata": {},
   "outputs": [
    {
     "name": "stdout",
     "output_type": "stream",
     "text": [
      "2.0.0-alpha0\n"
     ]
    }
   ],
   "source": [
    "# TensorFlow and tf.keras\n",
    "\n",
    "import tensorflow as tf\n",
    "from tensorflow import keras\n",
    "from tensorflow.keras import Model\n",
    "from tensorflow.keras.layers import Input, Conv2D, MaxPool2D, Flatten, Dense, BatchNormalization, Dropout\n",
    "from tensorflow.keras.regularizers import l2\n",
    "import pandas as pd\n",
    "\n",
    "print(tf.__version__)\n",
    "\n",
    "# Helper libraries\n",
    "import numpy as np\n",
    "import matplotlib.pyplot as plt\n",
    "import math\n",
    "import time\n",
    "import h5py"
   ]
  },
  {
   "cell_type": "markdown",
   "metadata": {},
   "source": [
    "Import data:"
   ]
  },
  {
   "cell_type": "code",
   "execution_count": 2,
   "metadata": {},
   "outputs": [
    {
     "name": "stdout",
     "output_type": "stream",
     "text": [
      "[[20. 19.  8.]\n",
      " [17. 22. 13.]\n",
      " [18. 25. 12.]\n",
      " ...\n",
      " [26. 29.  3.]\n",
      " [30. 24.  3.]\n",
      " [17. 28.  1.]]\n"
     ]
    }
   ],
   "source": [
    "data = np.load('circles_data.npz')\n",
    "circleData = data[\"circles\"]\n",
    "labels = np.column_stack((data['radiilab'],data['distlab']))\n",
    "grid = 32\n",
    "n_data = 1000\n",
    "print(labels)"
   ]
  },
  {
   "cell_type": "markdown",
   "metadata": {},
   "source": [
    "Print a plot of data to see what it looks like!"
   ]
  },
  {
   "cell_type": "code",
   "execution_count": 3,
   "metadata": {},
   "outputs": [
    {
     "name": "stdout",
     "output_type": "stream",
     "text": [
      "radius1, radius2, distance between ceneters:\n",
      "[26. 22.  6.]\n"
     ]
    },
    {
     "data": {
      "text/plain": [
       "<matplotlib.colorbar.Colorbar at 0x1356fa518>"
      ]
     },
     "execution_count": 3,
     "metadata": {},
     "output_type": "execute_result"
    },
    {
     "data": {
      "image/png": "[encoded data removed]",
      "text/plain": [
       "<Figure size 432x288 with 2 Axes>"
      ]
     },
     "metadata": {
      "needs_background": "light"
     },
     "output_type": "display_data"
    }
   ],
   "source": [
    "display = circleData[60].reshape(grid,grid)\n",
    "plt.grid(False)\n",
    "plt.imshow(display, cmap = 'jet')\n",
    "print(\"radius1, radius2, distance between ceneters:\")\n",
    "print(labels[60])\n",
    "plt.colorbar()"
   ]
  },
  {
   "cell_type": "markdown",
   "metadata": {},
   "source": [
    "Preprocessing -> spit data into training and testing; take 80% for training and 20% for testing.\n",
    "\n",
    "If using CNN, uncomment \".reshape(n_data, grid, grid, 1)\"."
   ]
  },
  {
   "cell_type": "code",
   "execution_count": 4,
   "metadata": {},
   "outputs": [
    {
     "name": "stdout",
     "output_type": "stream",
     "text": [
      "(800, 32, 32, 1)\n",
      "(200, 32, 32, 1)\n"
     ]
    }
   ],
   "source": [
    "data = circleData.reshape(n_data, grid, grid, 1)\n",
    "split = int(0.8*len(circleData))\n",
    "train_data = data[:split]\n",
    "train_labels = labels[:split]\n",
    "print (train_data.shape)\n",
    "test_data = data[split:]\n",
    "print(test_data.shape)\n",
    "test_labels = labels[split:]"
   ]
  },
  {
   "cell_type": "markdown",
   "metadata": {},
   "source": [
    "Build DNN:"
   ]
  },
  {
   "cell_type": "code",
   "execution_count": 5,
   "metadata": {},
   "outputs": [],
   "source": [
    "def build_model():\n",
    "    model = keras.Sequential([\n",
    "        Conv2D(32, (3, 3), activation='relu', padding ='same',\n",
    "               input_shape=(grid, grid, 1)),\n",
    "        Conv2D(32, (3, 3), activation='relu', ),\n",
    "        MaxPool2D((2, 2)),\n",
    "#         Dropout(0.2),\n",
    "        Conv2D(32, (3, 3), activation='relu', \n",
    "               kernel_regularizer=keras.regularizers.l2(0.1)),\n",
    "        Conv2D(32, (3, 3), activation='relu', \n",
    "              ),\n",
    "        MaxPool2D((2, 2)),\n",
    "#         Dropout(0.2),\n",
    "        Flatten(),\n",
    "        Dense(64, activation=tf.nn.relu),\n",
    "        Dense(64, activation=tf.nn.relu),\n",
    "#         Dropout(0.2),\n",
    "        Dense(3, activation=tf.nn.relu)\n",
    "      ])\n",
    "\n",
    "    model.compile(loss='mean_squared_error',\n",
    "                optimizer='adam',\n",
    "                metrics=['mean_squared_error', 'mean_absolute_error', 'accuracy'])\n",
    "    return model"
   ]
  },
  {
   "cell_type": "markdown",
   "metadata": {},
   "source": [
    "Initialize model:"
   ]
  },
  {
   "cell_type": "code",
   "execution_count": 6,
   "metadata": {},
   "outputs": [],
   "source": [
    "circleCNN = build_model()"
   ]
  },
  {
   "cell_type": "markdown",
   "metadata": {},
   "source": [
    "Test model's prediction $before$ training:"
   ]
  },
  {
   "cell_type": "code",
   "execution_count": 7,
   "metadata": {},
   "outputs": [
    {
     "name": "stdout",
     "output_type": "stream",
     "text": [
      "\r",
      "10/10 [==============================] - 0s 7ms/sample - loss: 385.5742 - mean_squared_error: 382.3432 - mean_absolute_error: 18.2063 - accuracy: 0.0000e+00\n"
     ]
    },
    {
     "data": {
      "text/plain": [
       "array([[0.        , 0.00152934, 0.10703142],\n",
       "       [0.        , 0.        , 0.08295391],\n",
       "       [0.        , 0.        , 0.09727761],\n",
       "       [0.        , 0.        , 0.11469437],\n",
       "       [0.        , 0.        , 0.11338971],\n",
       "       [0.        , 0.00455986, 0.12958556],\n",
       "       [0.        , 0.00242168, 0.09612859],\n",
       "       [0.        , 0.        , 0.12431852],\n",
       "       [0.        , 0.        , 0.10181865],\n",
       "       [0.        , 0.        , 0.09443481]], dtype=float32)"
      ]
     },
     "execution_count": 7,
     "metadata": {},
     "output_type": "execute_result"
    }
   ],
   "source": [
    "example_batch = train_data[:10]\n",
    "example_labels = train_labels[:10]\n",
    "example_result = circleCNN.predict(example_batch)\n",
    "results = circleCNN.evaluate(example_batch, example_labels)\n",
    "example_result"
   ]
  },
  {
   "cell_type": "markdown",
   "metadata": {},
   "source": [
    "Now train! (warning: if building CNN, computer tends to get loud)"
   ]
  },
  {
   "cell_type": "code",
   "execution_count": 8,
   "metadata": {},
   "outputs": [
    {
     "name": "stdout",
     "output_type": "stream",
     "text": [
      "\n",
      "Epoch 00001: val_loss improved from inf to 211.75078, saving model to training/CNN_basic.h5\n",
      "\n",
      "Epoch 00002: val_loss improved from 211.75078 to 205.92571, saving model to training/CNN_basic.h5\n",
      "\n",
      "Epoch 00003: val_loss did not improve from 205.92571\n",
      "\n",
      "Epoch 00004: val_loss improved from 205.92571 to 204.98677, saving model to training/CNN_basic.h5\n",
      "\n",
      "Epoch 00005: val_loss did not improve from 204.98677\n",
      "\n",
      "Epoch 00006: val_loss improved from 204.98677 to 204.23632, saving model to training/CNN_basic.h5\n",
      "\n",
      "Epoch 00007: val_loss improved from 204.23632 to 19.42918, saving model to training/CNN_basic.h5\n",
      "\n",
      "Epoch 00008: val_loss improved from 19.42918 to 17.69928, saving model to training/CNN_basic.h5\n",
      "\n",
      "Epoch 00009: val_loss improved from 17.69928 to 15.91929, saving model to training/CNN_basic.h5\n",
      "\n",
      "Epoch 00010: val_loss improved from 15.91929 to 15.64226, saving model to training/CNN_basic.h5\n",
      "\n",
      "Epoch 00011: val_loss improved from 15.64226 to 13.93971, saving model to training/CNN_basic.h5\n",
      "\n",
      "Epoch 00012: val_loss improved from 13.93971 to 12.67598, saving model to training/CNN_basic.h5\n",
      "\n",
      "Epoch 00013: val_loss improved from 12.67598 to 10.89303, saving model to training/CNN_basic.h5\n",
      "\n",
      "Epoch 00014: val_loss improved from 10.89303 to 10.34967, saving model to training/CNN_basic.h5\n",
      "\n",
      "Epoch 00015: val_loss did not improve from 10.34967\n",
      "\n",
      "Epoch 00016: val_loss did not improve from 10.34967\n",
      "\n",
      "Epoch 00017: val_loss improved from 10.34967 to 9.32898, saving model to training/CNN_basic.h5\n",
      "\n",
      "Epoch 00018: val_loss improved from 9.32898 to 8.93928, saving model to training/CNN_basic.h5\n",
      "\n",
      "Epoch 00019: val_loss improved from 8.93928 to 8.78611, saving model to training/CNN_basic.h5\n",
      "\n",
      "Epoch 00020: val_loss improved from 8.78611 to 8.28378, saving model to training/CNN_basic.h5\n",
      "\n",
      "Epoch 00021: val_loss improved from 8.28378 to 6.69944, saving model to training/CNN_basic.h5\n",
      "\n",
      "Epoch 00022: val_loss improved from 6.69944 to 6.02343, saving model to training/CNN_basic.h5\n",
      "\n",
      "Epoch 00023: val_loss improved from 6.02343 to 5.98947, saving model to training/CNN_basic.h5\n",
      "\n",
      "Epoch 00024: val_loss improved from 5.98947 to 4.97359, saving model to training/CNN_basic.h5\n",
      "\n",
      "Epoch 00025: val_loss improved from 4.97359 to 3.15179, saving model to training/CNN_basic.h5\n",
      "\n",
      "Epoch 00026: val_loss improved from 3.15179 to 2.68710, saving model to training/CNN_basic.h5\n",
      "\n",
      "Epoch 00027: val_loss improved from 2.68710 to 2.48784, saving model to training/CNN_basic.h5\n",
      "\n",
      "Epoch 00028: val_loss improved from 2.48784 to 2.30587, saving model to training/CNN_basic.h5\n",
      "\n",
      "Epoch 00029: val_loss did not improve from 2.30587\n",
      "\n",
      "Epoch 00030: val_loss did not improve from 2.30587\n",
      "\n",
      "Epoch 00031: val_loss did not improve from 2.30587\n",
      "\n",
      "Epoch 00032: val_loss did not improve from 2.30587\n",
      "\n",
      "Epoch 00033: val_loss did not improve from 2.30587\n",
      "\n",
      "Epoch 00034: val_loss did not improve from 2.30587\n",
      "\n",
      "Epoch 00035: val_loss improved from 2.30587 to 2.14884, saving model to training/CNN_basic.h5\n",
      "\n",
      "Epoch 00036: val_loss did not improve from 2.14884\n",
      "\n",
      "Epoch 00037: val_loss did not improve from 2.14884\n",
      "\n",
      "Epoch 00038: val_loss did not improve from 2.14884\n",
      "\n",
      "Epoch 00039: val_loss did not improve from 2.14884\n",
      "\n",
      "Epoch 00040: val_loss did not improve from 2.14884\n",
      "\n",
      "Epoch 00041: val_loss improved from 2.14884 to 2.10533, saving model to training/CNN_basic.h5\n",
      "\n",
      "Epoch 00042: val_loss improved from 2.10533 to 1.90561, saving model to training/CNN_basic.h5\n",
      "\n",
      "Epoch 00043: val_loss did not improve from 1.90561\n",
      "\n",
      "Epoch 00044: val_loss did not improve from 1.90561\n",
      "\n",
      "Epoch 00045: val_loss did not improve from 1.90561\n",
      "\n",
      "Epoch 00046: val_loss did not improve from 1.90561\n",
      "\n",
      "Epoch 00047: val_loss did not improve from 1.90561\n",
      "\n",
      "Epoch 00048: val_loss did not improve from 1.90561\n",
      "\n",
      "Epoch 00049: val_loss did not improve from 1.90561\n",
      "\n",
      "Epoch 00050: val_loss did not improve from 1.90561\n",
      "\n",
      "Epoch 00051: val_loss did not improve from 1.90561\n",
      "\n",
      "Epoch 00052: val_loss did not improve from 1.90561\n"
     ]
    }
   ],
   "source": [
    " class PrintDot(keras.callbacks.Callback):\n",
    "   def on_epoch_end(self, epoch, logs):\n",
    "     if epoch % 100 == 0: \n",
    "         print('')\n",
    "     print('.', end='')\n",
    "    \n",
    "checkpoint_path = \"training/CNN_basic.h5\"\n",
    "\n",
    "\n",
    "# Create checkpoint callback\n",
    "# cp_callback = tf.keras.callbacks.ModelCheckpoint(checkpoint_path, \n",
    "#                                                  save_best_only=True,\n",
    "#                                                  verbose=1)\n",
    "model_checkpoint = tf.keras.callbacks.ModelCheckpoint(checkpoint_path, monitor='val_loss', \n",
    "                                   verbose=1, save_best_only=True, \n",
    "                                   save_weights_only=False, mode='auto', \n",
    "                                   period=1)    \n",
    " EPOCHS = 100\n",
    " early_stop = keras.callbacks.EarlyStopping(monitor='val_loss', patience=10)\n",
    " history = circleCNN.fit(\n",
    "   train_data, train_labels,\n",
    "   epochs=EPOCHS, validation_split = 0.2, verbose = 0,\n",
    "   callbacks=[early_stop, model_checkpoint])"
   ]
  },
  {
   "cell_type": "markdown",
   "metadata": {},
   "source": [
    "Now make a plot that shows the pregression of accuracy through each training epoch."
   ]
  },
  {
   "cell_type": "code",
   "execution_count": 9,
   "metadata": {},
   "outputs": [
    {
     "data": {
      "image/png": "[encoded data removed]",
      "text/plain": [
       "<Figure size 432x288 with 1 Axes>"
      ]
     },
     "metadata": {
      "needs_background": "light"
     },
     "output_type": "display_data"
    },
    {
     "data": {
      "image/png": "[encoded data removed]",
      "text/plain": [
       "<Figure size 432x288 with 1 Axes>"
      ]
     },
     "metadata": {
      "needs_background": "light"
     },
     "output_type": "display_data"
    }
   ],
   "source": [
    "def plot_history(history):\n",
    "  hist = pd.DataFrame(history.history)\n",
    "  hist['epoch'] = history.epoch\n",
    "  \n",
    "  plt.figure()\n",
    "  plt.xlabel('Epoch')\n",
    "  plt.ylabel('Mean Abs Error')\n",
    "  plt.plot(hist['epoch'], hist['mean_absolute_error'],\n",
    "           label='Train Error')\n",
    "  plt.plot(hist['epoch'], hist['val_mean_absolute_error'],\n",
    "           label = 'Val Error')\n",
    "  plt.ylim([0,5])\n",
    "  plt.legend()\n",
    "  \n",
    "  plt.figure()\n",
    "  plt.xlabel('Epoch')\n",
    "  plt.ylabel('Mean Square Error')\n",
    "  plt.plot(hist['epoch'], hist['mean_squared_error'],\n",
    "           label='Train Error')\n",
    "  plt.plot(hist['epoch'], hist['val_mean_squared_error'],\n",
    "           label = 'Val Error')\n",
    "  plt.ylim([0,20])\n",
    "  plt.legend()\n",
    "  plt.show()\n",
    "\n",
    "plot_history(history)"
   ]
  },
  {
   "cell_type": "markdown",
   "metadata": {},
   "source": [
    "Load best weights."
   ]
  },
  {
   "cell_type": "code",
   "execution_count": 19,
   "metadata": {},
   "outputs": [
    {
     "name": "stdout",
     "output_type": "stream",
     "text": [
      "CNN_L2norm_dropout_padding.h5    CNN_dropout.h5\n",
      "CNN_L2reg.h5                     CNN_l2reg_moreDropout.h5\n",
      "CNN_L2reg0.h5                    CNN_moreL2reg.h5\n",
      "CNN_L2reg_dropout_lessPadding.h5 CNN_moreL2reg0.h5\n",
      "CNN_L2reg_dropout_padding.h5     CNN_moreL2reg_dropout.h5\n",
      "CNN_L2reg_reluOutput.h5          CNNbest.h5\n",
      "CNN_L2reg_reluOutput_dropout.h5  cpbest.h5\n",
      "CNN_basic.h5\n",
      "Model: \"sequential\"\n",
      "_________________________________________________________________\n",
      "Layer (type)                 Output Shape              Param #   \n",
      "=================================================================\n",
      "conv2d (Conv2D)              (None, 30, 30, 32)        320       \n",
      "_________________________________________________________________\n",
      "conv2d_1 (Conv2D)            (None, 28, 28, 32)        9248      \n",
      "_________________________________________________________________\n",
      "max_pooling2d (MaxPooling2D) (None, 14, 14, 32)        0         \n",
      "_________________________________________________________________\n",
      "conv2d_2 (Conv2D)            (None, 12, 12, 32)        9248      \n",
      "_________________________________________________________________\n",
      "conv2d_3 (Conv2D)            (None, 10, 10, 32)        9248      \n",
      "_________________________________________________________________\n",
      "max_pooling2d_1 (MaxPooling2 (None, 5, 5, 32)          0         \n",
      "_________________________________________________________________\n",
      "flatten (Flatten)            (None, 800)               0         \n",
      "_________________________________________________________________\n",
      "dense (Dense)                (None, 64)                51264     \n",
      "_________________________________________________________________\n",
      "dense_1 (Dense)              (None, 64)                4160      \n",
      "_________________________________________________________________\n",
      "dense_2 (Dense)              (None, 3)                 195       \n",
      "=================================================================\n",
      "Total params: 83,683\n",
      "Trainable params: 83,683\n",
      "Non-trainable params: 0\n",
      "_________________________________________________________________\n",
      "200/200 [==============================] - 0s 603us/sample - loss: 1.3998 - mean_squared_error: 1.0572 - mean_absolute_error: 0.5929 - accuracy: 0.9600\n"
     ]
    }
   ],
   "source": [
    "!ls training\n",
    "best_model = tf.keras.models.load_model('training/cpbest.h5')\n",
    "best_model.summary()\n",
    "results = best_model.evaluate(test_data, test_labels)"
   ]
  },
  {
   "cell_type": "markdown",
   "metadata": {},
   "source": [
    "Evaluate the performance of our DNN! Plot predictions vs. true values (the line is predictions vs. predicitons)."
   ]
  },
  {
   "cell_type": "code",
   "execution_count": 11,
   "metadata": {},
   "outputs": [
    {
     "data": {
      "text/plain": [
       "<matplotlib.legend.Legend at 0x13a1f0fd0>"
      ]
     },
     "execution_count": 11,
     "metadata": {},
     "output_type": "execute_result"
    },
    {
     "data": {
      "image/png": "[encoded data removed]",
      "text/plain": [
       "<Figure size 720x720 with 3 Axes>"
      ]
     },
     "metadata": {
      "needs_background": "light"
     },
     "output_type": "display_data"
    }
   ],
   "source": [
    "test_predictions = circleCNN.predict(test_data)\n",
    "plt.figure(figsize=(10,10))\n",
    "plt.subplot(221)\n",
    "plt.scatter(test_labels[:,0], test_predictions[:,0], label='Radii 1: Predictions vs. True')\n",
    "plt.xlabel('True Values')\n",
    "plt.ylabel('Predictions')\n",
    "plt.axis('equal')\n",
    "plt.axis('square')\n",
    "plt.xlim([12,plt.xlim()[1]])\n",
    "plt.ylim([12,plt.ylim()[1]])\n",
    "_ = plt.plot([-100, 100], [-100, 100], label=\"Perfect Agreement\")\n",
    "plt.legend(loc='upper left')\n",
    "plt.subplot(222)\n",
    "plt.scatter(test_labels[:,1], test_predictions[:,1], label='Radii 2: Predictions vs. True')\n",
    "plt.xlabel('True Values')\n",
    "plt.ylabel('Predictions')\n",
    "plt.axis('equal')\n",
    "plt.axis('square')\n",
    "plt.xlim([12,plt.xlim()[1]])\n",
    "plt.ylim([12,plt.ylim()[1]])\n",
    "_ = plt.plot([-100, 100], [-100, 100], label=\"Perfect Agreement\")\n",
    "plt.legend(loc='upper left')\n",
    "plt.subplot(223)\n",
    "plt.scatter(test_labels[:,2], test_predictions[:,2], label='Distance: Predictions vs. True')\n",
    "plt.xlabel('True Values')\n",
    "plt.ylabel('Predictions')\n",
    "plt.axis('equal')\n",
    "plt.axis('square')\n",
    "plt.xlim([0,plt.xlim()[1]])\n",
    "plt.ylim([0,plt.ylim()[1]])\n",
    "_ = plt.plot([-100, 100], [-100, 100], label=\"Perfect Agreement\")\n",
    "plt.legend(loc='upper left')"
   ]
  },
  {
   "cell_type": "code",
   "execution_count": null,
   "metadata": {},
   "outputs": [],
   "source": []
  },
  {
   "cell_type": "code",
   "execution_count": null,
   "metadata": {},
   "outputs": [],
   "source": []
  }
 ],
 "metadata": {
  "kernelspec": {
   "display_name": "Python 3",
   "language": "python",
   "name": "python3"
  },
  "language_info": {
   "codemirror_mode": {
    "name": "ipython",
    "version": 3
   },
   "file_extension": ".py",
   "mimetype": "text/x-python",
   "name": "python",
   "nbconvert_exporter": "python",
   "pygments_lexer": "ipython3",
   "version": "3.7.3"
  }
 },
 "nbformat": 4,
 "nbformat_minor": 2
}
