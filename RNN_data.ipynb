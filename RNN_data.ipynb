{
 "cells": [
  {
   "cell_type": "code",
   "execution_count": 1,
   "metadata": {},
   "outputs": [],
   "source": [
    "# Helper libraries\n",
    "import numpy as np\n",
    "import matplotlib.pyplot as plt\n",
    "from matplotlib.colors import LogNorm\n",
    "import math\n",
    "import time\n",
    "import h5py\n",
    "import sklearn\n",
    "from sklearn.utils import shuffle\n",
    "\n",
    "import os"
   ]
  },
  {
   "cell_type": "markdown",
   "metadata": {},
   "source": [
    "Want array’s of  [list of particle 4-vectors(pt, mass, eta, phi), z_leading, theta] to feed into RNN"
   ]
  },
  {
   "cell_type": "code",
   "execution_count": 2,
   "metadata": {},
   "outputs": [],
   "source": [
    "def partition_exp(n_particles=10, nevents=1, mu=1.):\n",
    "    evals = np.random.exponential(scale = mu, size=(nevents,n_particles))\n",
    "    sumRow =np.repeat(evals.sum(axis=1), n_particles).reshape(nevents, n_particles)\n",
    "    evals = np.sort(np.divide(evals,sumRow))[:, ::-1]\n",
    "    return evals"
   ]
  },
  {
   "cell_type": "code",
   "execution_count": 3,
   "metadata": {},
   "outputs": [],
   "source": [
    "def makeFourVectors(n_data = 10, n_particles = 5, isSignal = False):\n",
    "    if isSignal:\n",
    "        theta = np.random.normal(loc=0.2, scale=0.02, size=n_data) # signal_d\n",
    "        z = np.random.normal(loc=0.5, scale=0.02, size=n_data) #signal_z \n",
    "        labels = np.zeros(shape=(n_data,2))\n",
    "        pt = np.random.exponential(scale = 1/0.01, size = n_data)\n",
    "        mass = 0.936*np.random.normal(loc = 39.5, scale = 18.3, size = n_data)\n",
    "        eta = 1.1*np.random.normal(loc = 0.0, scale = 1.4, size = n_data)\n",
    "        phi = np.random.uniform(-3.14,3.14,n_data)\n",
    "        labels[:,0] = 1\n",
    "    else:\n",
    "        theta = np.random.exponential(scale=0.02, size=n_data) # bkg_d\n",
    "        z = np.random.exponential(scale=0.02, size=n_data) #bkg_z\n",
    "        labels = np.zeros(shape=(n_data,2))\n",
    "        pt = np.random.exponential(scale=1/0.002675, size=n_data)\n",
    "        mass = np.random.exponential(scale=1/0.011082, size=n_data)\n",
    "        eta = 1.008*np.random.normal(loc = 0.001913, scale = 1.811, size = n_data)\n",
    "        phi = np.random.uniform(-3.14,3.14,n_data) #uniform distribution with a small variance (.1 and .2)                                                               \n",
    "        labels[:,1] = 1\n",
    "    \n",
    "    # masking z to ensure z<1.0\n",
    "    z = np.where(z<1.0, z, z%1) #signal_z   \n",
    "    # making so that z is always more than 1-z\n",
    "    z = np.where(z>0.5, z, (1-z))\n",
    "    \n",
    "    mass = np.where(mass>0., mass, mass+20.)\n",
    "    \n",
    "    z = np.repeat(z, n_particles).reshape(n_data, n_particles)\n",
    "    # masking theta to ensure theta<0.5\n",
    "    theta = np.where(theta<0.5, theta, theta%0.5)\n",
    "    theta = np.repeat(theta, n_particles).reshape(n_data, n_particles)\n",
    "    \n",
    "    # distributing pT fractions between particles\n",
    "    particles1 = np.multiply(partition_exp(n_particles, n_data), z)\n",
    "    particles2 = np.multiply(partition_exp(n_particles, n_data), (1-z))\n",
    "    \n",
    "    \n",
    "    # one jet has two subjets \n",
    "    radii = np.random.uniform(0.25,0.5 ,size = (n_data,2))\n",
    "    radii1 = np.array([np.multiply(np.ones(shape = (n_particles)),y) for y in radii[:,0]])\n",
    "    radii2 = np.array([np.multiply(np.ones(shape = (n_particles)),y) for y in radii[:,1]])\n",
    "    dtheta1 = np.random.exponential(scale=0.5, size=(n_data, n_particles)) # delta theta for first subjet\n",
    "    dtheta1= np.sort(np.where(dtheta1<radii1, dtheta1, dtheta1%radii1))\n",
    "    phi1 = np.random.uniform(0, 2*math.pi, size=(n_data, n_particles)) # angular\n",
    "    dtheta2 = np.random.exponential(scale=0.5, size=(n_data, n_particles)) # delta theta for second subjet\n",
    "    dtheta2= np.sort(np.where(dtheta2<radii2, dtheta2, dtheta2%radii2))\n",
    "    phi2 = np.random.uniform(0, 2*math.pi, size=(n_data, n_particles)) # angular\n",
    "    \n",
    "    z = z.reshape(n_data*n_particles,1)[::n_particles]\n",
    "    theta = theta.reshape(n_data*n_particles,1)[::n_particles]\n",
    "\n",
    "    return pt, eta, mass, phi, radii, z, theta, labels"
   ]
  },
  {
   "cell_type": "markdown",
   "metadata": {},
   "source": [
    "Load some pythia data and fit to get idea of signal vs. background distribution to make a nice toy model"
   ]
  },
  {
   "cell_type": "code",
   "execution_count": 4,
   "metadata": {},
   "outputs": [
    {
     "name": "stdout",
     "output_type": "stream",
     "text": [
      "[[ 1.90064978e+02  4.27845460e+01  1.70035238e+02 ...  9.97420345e+01\n",
      "   2.94465859e+01  2.06066445e+02]\n",
      " [ 1.00196660e-02  2.04591297e+00 -1.81902279e-01 ... -1.78574381e+00\n",
      "  -1.08418742e+00  6.22597665e-01]\n",
      " [ 5.61151711e+01  6.43907793e+01  5.04195039e+01 ...  1.19641603e+01\n",
      "   2.37344327e+01  2.68217720e+01]\n",
      " [-1.46631729e+00 -1.50779250e+00 -1.21492400e+00 ... -2.02035250e+00\n",
      "  -1.84062898e+00  4.23543869e-01]]\n",
      "Processing Time is  0.127943578 seconds for  10000  samples.\n"
     ]
    }
   ],
   "source": [
    "n_data = 10000\n",
    "n_particles = 10\n",
    "tic = time.perf_counter()\n",
    "isSignal1 = True\n",
    "pt1, eta1, mass1, phi1, radii1, z1, theta1, labels1 = makeFourVectors(n_data, n_particles, isSignal1)\n",
    "fourvectors1 = np.array([pt1, eta1, mass1, phi1])\n",
    "print(fourvectors1)\n",
    "fourvectors1.reshape(n_data, 4, 1)\n",
    "toc = time.perf_counter()\n",
    "print('Processing Time is ',toc-tic, 'seconds for ',n_data, ' samples.' )\n",
    "np.savez('data/dummyvectors_signal', fourvectors = fourvectors1, radiilab = radii1, zlab = z1, thetalab = theta1, labels = labels1)"
   ]
  },
  {
   "cell_type": "code",
   "execution_count": 5,
   "metadata": {},
   "outputs": [
    {
     "name": "stdout",
     "output_type": "stream",
     "text": [
      "Processing Time is  0.11592594200000006 seconds for  10000  samples.\n"
     ]
    }
   ],
   "source": [
    "tic = time.perf_counter()\n",
    "isSignal2 = False\n",
    "pt2, eta2, mass2, phi2, radii2, z2, theta2, labels2= makeFourVectors(n_data, n_particles, isSignal2)\n",
    "toc = time.perf_counter()\n",
    "fourvectors2 = np.array([pt2, eta2, mass2, phi2])\n",
    "fourvectors2.reshape(n_data, 4, 1)\n",
    "print('Processing Time is ',toc-tic, 'seconds for ',n_data, ' samples.' )\n",
    "np.savez('data/dummyvectors_bkg', fourvectors = fourvectors2, radiilab = radii2, zlab = z2, thetalab = theta2, labels = labels2)"
   ]
  },
  {
   "cell_type": "code",
   "execution_count": 6,
   "metadata": {},
   "outputs": [
    {
     "data": {
      "image/png": "[encoded data removed]",
      "text/plain": [
       "<Figure size 864x288 with 2 Axes>"
      ]
     },
     "metadata": {
      "needs_background": "light"
     },
     "output_type": "display_data"
    },
    {
     "data": {
      "text/plain": [
       "Text(0.5, 0, 'eta')"
      ]
     },
     "execution_count": 6,
     "metadata": {},
     "output_type": "execute_result"
    },
    {
     "data": {
      "image/png": "[encoded data removed]",
      "text/plain": [
       "<Figure size 864x288 with 2 Axes>"
      ]
     },
     "metadata": {
      "needs_background": "light"
     },
     "output_type": "display_data"
    },
    {
     "data": {
      "image/png": "[encoded data removed]",
      "text/plain": [
       "<Figure size 864x288 with 2 Axes>"
      ]
     },
     "metadata": {
      "needs_background": "light"
     },
     "output_type": "display_data"
    }
   ],
   "source": [
    "plt.figure(figsize = (12,4))\n",
    "plt.subplot(1,2,1)\n",
    "plt.hist(z1, 50, density=True, histtype='stepfilled', alpha=0.2, label = \"sgn\")\n",
    "plt.hist(z2, 50, density=True, histtype='stepfilled', alpha=0.2, label = \"bkg\")\n",
    "plt.title(\"z input values\")\n",
    "plt.xlabel(\"z\")\n",
    "plt.subplot(1,2,2)\n",
    "plt.hist(theta1, 50, density=True, histtype='stepfilled', alpha=0.2, label = \"sgn\")\n",
    "plt.hist(theta2, 50, density=True, histtype='stepfilled', alpha=0.2, label = 'bkg')\n",
    "plt.title(\"Theta input values\")\n",
    "plt.xlabel(\"Theta\")\n",
    "plt.legend()\n",
    "plt.show()\n",
    "plt.figure(figsize = (12,4))\n",
    "plt.subplot(1,2,1)\n",
    "plt.hist(pt1, 100, density=True, histtype='stepfilled', alpha=0.2, label = \"sgn\")\n",
    "plt.hist(pt2, 100, density=True, histtype='stepfilled', alpha=0.2, label = \"bkg\")\n",
    "plt.title(\"pt input values\")\n",
    "plt.xlabel(\"pt\")\n",
    "plt.subplot(1,2,2)\n",
    "plt.hist(mass1, 100, density=True, histtype='stepfilled', alpha=0.2, label = \"sgn\")\n",
    "plt.hist(mass2, 100, density=True, histtype='stepfilled', alpha=0.2, label = \"bkg\")\n",
    "plt.title(\"mass input values\")\n",
    "plt.xlabel(\"mass\")\n",
    "plt.figure(figsize = (12,4))\n",
    "plt.subplot(1,2,1)\n",
    "plt.hist(phi1, 100, density=True, histtype='stepfilled', alpha=0.2, label = \"sgn\")\n",
    "plt.hist(phi2, 100, density=True, histtype='stepfilled', alpha=0.2, label = \"bkg\")\n",
    "plt.title(\"phi input values\")\n",
    "plt.xlabel(\"phi\")\n",
    "plt.subplot(1,2,2)\n",
    "plt.hist(eta1, 100, density=True, histtype='stepfilled', alpha=0.2, label = \"sgn\")\n",
    "plt.hist(eta2, 100, density=True, histtype='stepfilled', alpha=0.2, label = \"bkg\")\n",
    "plt.title(\"eta input values\")\n",
    "plt.xlabel(\"eta\")"
   ]
  },
  {
   "cell_type": "code",
   "execution_count": 7,
   "metadata": {},
   "outputs": [
    {
     "name": "stdout",
     "output_type": "stream",
     "text": [
      "Processing Time is  0.11810905699999985 seconds for  10000  samples.\n"
     ]
    }
   ],
   "source": [
    "tic = time.perf_counter()\n",
    "isSignal3 = True\n",
    "pt3, eta3, mass3, phi3, radii3, z3, theta3, labels3= makeFourVectors(n_data, n_particles, isSignal3)\n",
    "toc = time.perf_counter()\n",
    "fourvectors3 = np.array([pt3, eta3, mass3, phi3])\n",
    "fourvectors3.reshape(n_data, 4, 1)\n",
    "print('Processing Time is ',toc-tic, 'seconds for ',n_data, ' samples.' )\n",
    "np.savez('data/dummyvectors_sgn_test', fourvectors = fourvectors3, radiilab = radii3, zlab = z3, thetalab = theta3, labels = labels3)"
   ]
  },
  {
   "cell_type": "code",
   "execution_count": 8,
   "metadata": {},
   "outputs": [
    {
     "name": "stdout",
     "output_type": "stream",
     "text": [
      "Processing Time is  0.11742425999999995 seconds for  10000  samples.\n"
     ]
    }
   ],
   "source": [
    "tic = time.perf_counter()\n",
    "isSignal4 = False\n",
    "pt4, eta4, mass4, phi4, radii4, z4, theta4, labels4= makeFourVectors(n_data, n_particles, isSignal4)\n",
    "toc = time.perf_counter()\n",
    "fourvectors4 = np.array([pt4, eta4, mass4, phi4])\n",
    "fourvectors4.reshape(n_data, 4, 1)\n",
    "print('Processing Time is ',toc-tic, 'seconds for ',n_data, ' samples.' )\n",
    "np.savez('data/dummyvectors_bkg_test', fourvectors = fourvectors4, radiilab = radii4, zlab = z4, thetalab = theta4, labels = labels4)"
   ]
  },
  {
   "cell_type": "code",
   "execution_count": 9,
   "metadata": {},
   "outputs": [
    {
     "name": "stdout",
     "output_type": "stream",
     "text": [
      "(4, 20000)\n"
     ]
    }
   ],
   "source": [
    "traindata_sig = np.load('data/dummyvectors_signal.npz')\n",
    "traindata_bkg = np.load('data/dummyvectors_bkg.npz')\n",
    "trainlabels = np.concatenate((traindata_sig['labels'],traindata_bkg['labels']),axis=0)\n",
    "trainvectors = np.concatenate((traindata_sig['fourvectors'], traindata_bkg['fourvectors']),axis = 1)\n",
    "trainradii = np.concatenate((traindata_sig['radiilab'], traindata_bkg['radiilab']), axis = 0)\n",
    "traintheta = np.concatenate((traindata_sig['thetalab'], traindata_bkg['thetalab']), axis = 0)\n",
    "trainz = np.concatenate((traindata_sig['zlab'], traindata_bkg['zlab']), axis = 0)\n",
    "print(trainvectors.shape)"
   ]
  },
  {
   "cell_type": "code",
   "execution_count": null,
   "metadata": {},
   "outputs": [],
   "source": []
  }
 ],
 "metadata": {
  "kernelspec": {
   "display_name": "Python 3",
   "language": "python",
   "name": "python3"
  },
  "language_info": {
   "codemirror_mode": {
    "name": "ipython",
    "version": 3
   },
   "file_extension": ".py",
   "mimetype": "text/x-python",
   "name": "python",
   "nbconvert_exporter": "python",
   "pygments_lexer": "ipython3",
   "version": "3.7.3"
  }
 },
 "nbformat": 4,
 "nbformat_minor": 2
}
