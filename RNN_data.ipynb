{
 "cells": [
  {
   "cell_type": "code",
   "execution_count": 3,
   "metadata": {},
   "outputs": [],
   "source": [
    "# Helper libraries\n",
    "import numpy as np\n",
    "import matplotlib.pyplot as plt\n",
    "from matplotlib.colors import LogNorm\n",
    "import math\n",
    "import time\n",
    "import h5py\n",
    "import sklearn\n",
    "from sklearn.utils import shuffle\n",
    "\n",
    "import os"
   ]
  },
  {
   "cell_type": "markdown",
   "metadata": {},
   "source": [
    "Want array’s of  [list of particle 4-vectors(pt, mass, eta, phi), z_leading, theta] to feed into RNN"
   ]
  },
  {
   "cell_type": "code",
   "execution_count": 11,
   "metadata": {},
   "outputs": [],
   "source": [
    "def partition_exp(n_particles=10, nevents=1, mu=1.):\n",
    "    evals = np.random.exponential(scale = mu, size=(nevents,n_particles))\n",
    "    sumRow =np.repeat(evals.sum(axis=1), n_particles).reshape(nevents, n_particles)\n",
    "    evals = np.sort(np.divide(evals,sumRow))[:, ::-1]\n",
    "    return evals"
   ]
  },
  {
   "cell_type": "code",
   "execution_count": 26,
   "metadata": {},
   "outputs": [],
   "source": [
    "def makeFourVectors(n_data = 10, n_particles = 5, isSignal = False):\n",
    "    if isSignal:\n",
    "        theta = np.random.normal(loc=0.2, scale=0.02, size=n_data) # signal_d\n",
    "        z = np.random.normal(loc=0.5, scale=0.02, size=n_data) #signal_z \n",
    "        labels = np.zeros(shape=(n_data,2))\n",
    "        pt = np.zeros(shape = (n_data))\n",
    "        mass = np.zeros(shape = (n_data))\n",
    "        eta = np.zeros(shape = (n_data))\n",
    "        phi = eta = np.zeros(shape = (n_data))\n",
    "        labels[:,0] = 1\n",
    "    else:\n",
    "        theta = np.random.exponential(scale=0.02, size=n_data) # bkg_d\n",
    "        z = np.random.exponential(scale=0.02, size=n_data) #bkg_z\n",
    "        labels = np.zeros(shape=(n_data,2))\n",
    "        pt = np.zeros(shape = (n_data))\n",
    "        mass = np.zeros(shape = (n_data))\n",
    "        eta = np.zeros(shape = (n_data))\n",
    "        phi = np.zeros(shape = (n_data)) #uniform distribution with a small variance (.1 and .2)\n",
    "        labels[:,1] = 1\n",
    "    \n",
    "    # masking z to ensure z<1.0\n",
    "    z = np.where(z<1.0, z, z%1) #signal_z   \n",
    "    # making so that z is always more than 1-z\n",
    "    z = np.where(z>0.5, z, (1-z))\n",
    "    \n",
    "    z = np.repeat(z, n_particles).reshape(n_data, n_particles)\n",
    "    # masking theta to ensure theta<0.5\n",
    "    theta = np.where(theta<0.5, theta, theta%0.5)\n",
    "    theta = np.repeat(theta, n_particles).reshape(n_data, n_particles)\n",
    "    \n",
    "    # distributing pT fractions between particles\n",
    "    particles1 = np.multiply(partition_exp(n_particles, n_data), z)\n",
    "    particles2 = np.multiply(partition_exp(n_particles, n_data), (1-z))\n",
    "    \n",
    "    \n",
    "    # one jet has two subjets \n",
    "    radii = np.random.uniform(0.25,0.5 ,size = (n_data,2))\n",
    "    radii1 = np.array([np.multiply(np.ones(shape = (n_particles)),y) for y in radii[:,0]])\n",
    "    radii2 = np.array([np.multiply(np.ones(shape = (n_particles)),y) for y in radii[:,1]])\n",
    "    dtheta1 = np.random.exponential(scale=0.5, size=(n_data, n_particles)) # delta theta for first subjet\n",
    "    dtheta1= np.sort(np.where(dtheta1<radii1, dtheta1, dtheta1%radii1))\n",
    "    phi1 = np.random.uniform(0, 2*math.pi, size=(n_data, n_particles)) # angular\n",
    "    dtheta2 = np.random.exponential(scale=0.5, size=(n_data, n_particles)) # delta theta for second subjet\n",
    "    dtheta2= np.sort(np.where(dtheta2<radii2, dtheta2, dtheta2%radii2))\n",
    "    phi2 = np.random.uniform(0, 2*math.pi, size=(n_data, n_particles)) # angular\n",
    "    \n",
    "    z = z.reshape(n_data*n_particles,1)[::n_particles]\n",
    "    theta = theta.reshape(n_data*n_particles,1)[::n_particles]\n",
    "\n",
    "    return pt, eta, mass, phi, radii, z, theta, labels"
   ]
  },
  {
   "cell_type": "markdown",
   "metadata": {},
   "source": [
    "Load some pythia data and fit to get idea of signal vs. background distribution to make a nice toy model"
   ]
  },
  {
   "cell_type": "code",
   "execution_count": 33,
   "metadata": {},
   "outputs": [
    {
     "name": "stdout",
     "output_type": "stream",
     "text": [
      "Processing Time is  0.16671053000027314 seconds for  10000  samples.\n"
     ]
    }
   ],
   "source": [
    "n_data = 10000\n",
    "n_particles = 10\n",
    "tic = time.perf_counter()\n",
    "isSignal1 = True\n",
    "pt1, eta1, mass1, phi1, radii1, z1, theta1, labels1 = makeFourVectors(n_data, n_particles, isSignal1)\n",
    "fourvectors1 = np.array([pt1, eta1, mass1, phi1])\n",
    "toc = time.perf_counter()\n",
    "print('Processing Time is ',toc-tic, 'seconds for ',n_data, ' samples.' )\n",
    "np.savez('data/dummyvectors_signal', fourvectors = fourvectors1, radiilab = radii1, zlab = z1, thetalab = theta1, labels = labels1)"
   ]
  },
  {
   "cell_type": "code",
   "execution_count": 34,
   "metadata": {},
   "outputs": [
    {
     "name": "stdout",
     "output_type": "stream",
     "text": [
      "Processing Time is  0.1367902350029908 seconds for  10000  samples.\n"
     ]
    }
   ],
   "source": [
    "tic = time.perf_counter()\n",
    "isSignal2 = False\n",
    "pt2, eta2, mass2, phi2, radii2, z2, theta2, labels2= makeFourVectors(n_data, n_particles, isSignal2)\n",
    "toc = time.perf_counter()\n",
    "fourvectors2 = np.array([pt2, eta2, mass2, phi2])\n",
    "print('Processing Time is ',toc-tic, 'seconds for ',n_data, ' samples.' )\n",
    "np.savez('data/jetImages_bkg', fourvectors = fourvectors2, radiilab = radii2, zlab = z2, thetalab = theta2, labels = labels2)"
   ]
  },
  {
   "cell_type": "code",
   "execution_count": 35,
   "metadata": {},
   "outputs": [
    {
     "data": {
      "image/png": "[encoded data removed]",
      "text/plain": [
       "<Figure size 864x288 with 2 Axes>"
      ]
     },
     "metadata": {
      "needs_background": "light"
     },
     "output_type": "display_data"
    }
   ],
   "source": [
    "plt.figure(figsize = (12,4))\n",
    "plt.subplot(1,2,1)\n",
    "plt.hist(z1, 50, density=True, histtype='stepfilled', alpha=0.2, label = \"sgn\")\n",
    "plt.hist(z2, 50, density=True, histtype='stepfilled', alpha=0.2, label = \"bkg\")\n",
    "plt.title(\"z input values\")\n",
    "plt.xlabel(\"z\")\n",
    "plt.subplot(1,2,2)\n",
    "plt.hist(theta1, 50, density=True, histtype='stepfilled', alpha=0.2, label = \"sgn\")\n",
    "plt.hist(theta2, 50, density=True, histtype='stepfilled', alpha=0.2, label = 'bkg')\n",
    "plt.title(\"Theta input values\")\n",
    "plt.xlabel(\"Theta\")\n",
    "plt.legend()\n",
    "plt.show()"
   ]
  },
  {
   "cell_type": "code",
   "execution_count": null,
   "metadata": {},
   "outputs": [],
   "source": []
  },
  {
   "cell_type": "code",
   "execution_count": null,
   "metadata": {},
   "outputs": [],
   "source": []
  }
 ],
 "metadata": {
  "kernelspec": {
   "display_name": "Python 3",
   "language": "python",
   "name": "python3"
  },
  "language_info": {
   "codemirror_mode": {
    "name": "ipython",
    "version": 3
   },
   "file_extension": ".py",
   "mimetype": "text/x-python",
   "name": "python",
   "nbconvert_exporter": "python",
   "pygments_lexer": "ipython3",
   "version": "3.7.3"
  }
 },
 "nbformat": 4,
 "nbformat_minor": 2
}
