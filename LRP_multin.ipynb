{
 "cells": [
  {
   "cell_type": "code",
   "execution_count": 1,
   "metadata": {},
   "outputs": [
    {
     "name": "stderr",
     "output_type": "stream",
     "text": [
      "Using TensorFlow backend.\n"
     ]
    }
   ],
   "source": [
    "# TensorFlow and tf.keras\n",
    "# import tensorflow as tf\n",
    "#from tensorflow import keras\n",
    "#from tensorflow.keras import layers\n",
    "import pandas as pd\n",
    "\n",
    "import keras\n",
    "from keras import layers\n",
    "import keras.backend\n",
    "from keras.layers import Input, Conv2D, MaxPool2D, Flatten, Dense, BatchNormalization, Dropout\n",
    "import keras.models\n",
    "import keras.utils\n",
    "\n",
    "# Helper libraries\n",
    "import numpy as np\n",
    "import matplotlib.pyplot as plt\n",
    "from matplotlib.colors import LogNorm\n",
    "from matplotlib.colors import Normalize\n",
    "import math\n",
    "import time\n",
    "import h5py\n",
    "import sklearn\n",
    "import os"
   ]
  },
  {
   "cell_type": "code",
   "execution_count": 2,
   "metadata": {},
   "outputs": [],
   "source": [
    "grid = 32\n",
    "# training data : 10,000 signal samples and 10,000 bkg samples\n",
    "traindata_sig = np.load('data/jetImages_signal.npz')\n",
    "traindata_bkg = np.load('data/jetImages_bkg.npz')\n",
    "trainimages = np.concatenate((traindata_sig['jetImages'], traindata_bkg['jetImages']),axis=0)\n",
    "trainlabels = np.concatenate((traindata_sig['labels'],traindata_bkg['labels']),axis=0)\n",
    "# testing data : 10,000 signal samples and 10,000 bkg samples\n",
    "testdata_sig = np.load('data/jetImages_signal_test.npz')\n",
    "testdata_bkg = np.load('data/jetImages_bkg_test.npz')\n",
    "testimages = np.concatenate((testdata_sig['jetImages'], testdata_bkg['jetImages']),axis=0)\n",
    "testlabels = np.concatenate((testdata_sig['labels'], testdata_bkg['labels']),axis=0)\n",
    "trainradii = np.concatenate((traindata_sig['radiilab'], traindata_bkg['radiilab']), axis = 0)\n",
    "traintheta = np.concatenate((traindata_sig['thetalab'], traindata_bkg['thetalab']), axis = 0)\n",
    "testradii = np.concatenate((testdata_sig['radiilab'], testdata_bkg['radiilab']), axis = 0)\n",
    "test_theta = np.concatenate((testdata_sig['thetalab'], testdata_bkg['thetalab']), axis = 0)\n",
    "trainz = np.concatenate((traindata_sig['zlab'], traindata_bkg['zlab']), axis = 0)\n",
    "testz = np.concatenate((testdata_sig['zlab'], testdata_bkg['zlab']), axis = 0)\n",
    "n_train = len(trainlabels)\n",
    "n_test = len(testlabels)\n",
    "trainimages = trainimages.reshape(n_train, grid, grid, 1)\n",
    "testimages = testimages.reshape(n_test, grid, grid, 1)"
   ]
  },
  {
   "cell_type": "code",
   "execution_count": 3,
   "metadata": {},
   "outputs": [
    {
     "data": {
      "image/png": "[encoded data removed]",
      "text/plain": [
       "<Figure size 432x288 with 2 Axes>"
      ]
     },
     "metadata": {
      "needs_background": "light"
     },
     "output_type": "display_data"
    }
   ],
   "source": [
    "#plot input signal and background\n",
    "sig_trainimages = np.zeros_like(trainimages[1])\n",
    "bkg_trainimages = np.zeros_like(trainimages[1])\n",
    "for i in range(len(trainimages)):\n",
    "    if testlabels[i] == 1:\n",
    "        sig_trainimages += trainimages[i]\n",
    "    else:\n",
    "        bkg_trainimages += trainimages[i]\n",
    "#signal\n",
    "display_sig = sig_trainimages.reshape(grid,grid)\n",
    "plt.grid(False)\n",
    "plt.imshow(display_sig, interpolation='nearest', origin='low', cmap = 'jet', norm=LogNorm())\n",
    "plt.colorbar()\n",
    "plt.show()"
   ]
  },
  {
   "cell_type": "code",
   "execution_count": 4,
   "metadata": {},
   "outputs": [
    {
     "data": {
      "image/png": "[encoded data removed]",
      "text/plain": [
       "<Figure size 432x288 with 2 Axes>"
      ]
     },
     "metadata": {
      "needs_background": "light"
     },
     "output_type": "display_data"
    }
   ],
   "source": [
    "#background\n",
    "display_bkg = bkg_trainimages.reshape(grid,grid)\n",
    "plt.grid(False)\n",
    "plt.imshow(display_bkg, interpolation='nearest', origin='low', cmap = 'jet', norm=LogNorm())\n",
    "plt.colorbar()\n",
    "plt.show()"
   ]
  },
  {
   "cell_type": "code",
   "execution_count": 6,
   "metadata": {},
   "outputs": [
    {
     "name": "stdout",
     "output_type": "stream",
     "text": [
      "_________________________________________________________________\n",
      "Layer (type)                 Output Shape              Param #   \n",
      "=================================================================\n",
      "conv2d_1 (Conv2D)            (None, 22, 22, 32)        3904      \n",
      "_________________________________________________________________\n",
      "conv2d_2 (Conv2D)            (None, 20, 20, 32)        9248      \n",
      "_________________________________________________________________\n",
      "max_pooling2d_1 (MaxPooling2 (None, 10, 10, 32)        0         \n",
      "_________________________________________________________________\n",
      "conv2d_3 (Conv2D)            (None, 8, 8, 32)          9248      \n",
      "_________________________________________________________________\n",
      "conv2d_4 (Conv2D)            (None, 6, 6, 32)          9248      \n",
      "_________________________________________________________________\n",
      "max_pooling2d_2 (MaxPooling2 (None, 3, 3, 32)          0         \n",
      "_________________________________________________________________\n",
      "flatten_1 (Flatten)          (None, 288)               0         \n",
      "_________________________________________________________________\n",
      "dense_1 (Dense)              (None, 64)                18496     \n",
      "_________________________________________________________________\n",
      "dense_2 (Dense)              (None, 64)                4160      \n",
      "_________________________________________________________________\n",
      "dense_3 (Dense)              (None, 1)                 65        \n",
      "=================================================================\n",
      "Total params: 54,369\n",
      "Trainable params: 54,369\n",
      "Non-trainable params: 0\n",
      "_________________________________________________________________\n",
      "20000/20000 [==============================] - 8s 375us/step\n",
      "[0.02356885363381341, 0.00486369217516956, 0.02356885363381341, 0.9941]\n"
     ]
    }
   ],
   "source": [
    "# !ls training\n",
    "best_model = keras.models.load_model('model/CNN_sparce_cat.h5')\n",
    "best_model.summary()\n",
    "results = best_model.evaluate([testimages, test_theta, testradii, testz], testlabels)\n",
    "print(results)"
   ]
  },
  {
   "cell_type": "code",
   "execution_count": 7,
   "metadata": {
    "scrolled": true
   },
   "outputs": [
    {
     "ename": "ValueError",
     "evalue": "Error when checking model input: the list of Numpy arrays that you are passing to your model is not the size the model expected. Expected to see 1 array(s), but instead got the following list of 4 arrays: [array([[[[0.],\n         [0.],\n         [0.],\n         ...,\n         [0.],\n         [0.],\n         [0.]],\n\n        [[0.],\n         [0.],\n         [0.],\n         ...,\n         [0.],\n         [0.],\n    ...",
     "output_type": "error",
     "traceback": [
      "\u001b[0;31m---------------------------------------------------------------------------\u001b[0m",
      "\u001b[0;31mValueError\u001b[0m                                Traceback (most recent call last)",
      "\u001b[0;32m<ipython-input-7-3054301aabd1>\u001b[0m in \u001b[0;36m<module>\u001b[0;34m\u001b[0m\n\u001b[1;32m      1\u001b[0m \u001b[0;31m# Plot ROC\u001b[0m\u001b[0;34m\u001b[0m\u001b[0;34m\u001b[0m\u001b[0;34m\u001b[0m\u001b[0m\n\u001b[0;32m----> 2\u001b[0;31m \u001b[0mpredict\u001b[0m \u001b[0;34m=\u001b[0m \u001b[0mbest_model\u001b[0m\u001b[0;34m.\u001b[0m\u001b[0mpredict\u001b[0m\u001b[0;34m(\u001b[0m\u001b[0;34m[\u001b[0m\u001b[0mtestimages\u001b[0m\u001b[0;34m,\u001b[0m \u001b[0mtest_theta\u001b[0m\u001b[0;34m,\u001b[0m \u001b[0mtestradii\u001b[0m\u001b[0;34m,\u001b[0m \u001b[0mtestz\u001b[0m\u001b[0;34m]\u001b[0m\u001b[0;34m)\u001b[0m\u001b[0;34m\u001b[0m\u001b[0;34m\u001b[0m\u001b[0m\n\u001b[0m\u001b[1;32m      3\u001b[0m \u001b[0mprint\u001b[0m\u001b[0;34m(\u001b[0m\u001b[0mtestlabels\u001b[0m\u001b[0;34m.\u001b[0m\u001b[0mshape\u001b[0m\u001b[0;34m,\u001b[0m \u001b[0mpredict\u001b[0m\u001b[0;34m.\u001b[0m\u001b[0mshape\u001b[0m\u001b[0;34m)\u001b[0m\u001b[0;34m\u001b[0m\u001b[0;34m\u001b[0m\u001b[0m\n\u001b[1;32m      4\u001b[0m \u001b[0;32mfrom\u001b[0m \u001b[0msklearn\u001b[0m\u001b[0;34m.\u001b[0m\u001b[0mmetrics\u001b[0m \u001b[0;32mimport\u001b[0m \u001b[0mroc_curve\u001b[0m\u001b[0;34m,\u001b[0m \u001b[0mauc\u001b[0m\u001b[0;34m\u001b[0m\u001b[0;34m\u001b[0m\u001b[0m\n\u001b[1;32m      5\u001b[0m \u001b[0mfpr\u001b[0m\u001b[0;34m,\u001b[0m \u001b[0mtpr\u001b[0m\u001b[0;34m,\u001b[0m \u001b[0mthresholds\u001b[0m \u001b[0;34m=\u001b[0m \u001b[0mroc_curve\u001b[0m\u001b[0;34m(\u001b[0m\u001b[0mtestlabels\u001b[0m\u001b[0;34m,\u001b[0m \u001b[0mpredict\u001b[0m\u001b[0;34m)\u001b[0m\u001b[0;34m\u001b[0m\u001b[0;34m\u001b[0m\u001b[0m\n",
      "\u001b[0;32m/usr/local/jupyter/lib/python3.6/site-packages/keras/engine/training.py\u001b[0m in \u001b[0;36mpredict\u001b[0;34m(self, x, batch_size, verbose, steps)\u001b[0m\n\u001b[1;32m   1147\u001b[0m                              'argument.')\n\u001b[1;32m   1148\u001b[0m         \u001b[0;31m# Validate user data.\u001b[0m\u001b[0;34m\u001b[0m\u001b[0;34m\u001b[0m\u001b[0;34m\u001b[0m\u001b[0m\n\u001b[0;32m-> 1149\u001b[0;31m         \u001b[0mx\u001b[0m\u001b[0;34m,\u001b[0m \u001b[0m_\u001b[0m\u001b[0;34m,\u001b[0m \u001b[0m_\u001b[0m \u001b[0;34m=\u001b[0m \u001b[0mself\u001b[0m\u001b[0;34m.\u001b[0m\u001b[0m_standardize_user_data\u001b[0m\u001b[0;34m(\u001b[0m\u001b[0mx\u001b[0m\u001b[0;34m)\u001b[0m\u001b[0;34m\u001b[0m\u001b[0;34m\u001b[0m\u001b[0m\n\u001b[0m\u001b[1;32m   1150\u001b[0m         \u001b[0;32mif\u001b[0m \u001b[0mself\u001b[0m\u001b[0;34m.\u001b[0m\u001b[0mstateful\u001b[0m\u001b[0;34m:\u001b[0m\u001b[0;34m\u001b[0m\u001b[0;34m\u001b[0m\u001b[0m\n\u001b[1;32m   1151\u001b[0m             \u001b[0;32mif\u001b[0m \u001b[0mx\u001b[0m\u001b[0;34m[\u001b[0m\u001b[0;36m0\u001b[0m\u001b[0;34m]\u001b[0m\u001b[0;34m.\u001b[0m\u001b[0mshape\u001b[0m\u001b[0;34m[\u001b[0m\u001b[0;36m0\u001b[0m\u001b[0;34m]\u001b[0m \u001b[0;34m>\u001b[0m \u001b[0mbatch_size\u001b[0m \u001b[0;32mand\u001b[0m \u001b[0mx\u001b[0m\u001b[0;34m[\u001b[0m\u001b[0;36m0\u001b[0m\u001b[0;34m]\u001b[0m\u001b[0;34m.\u001b[0m\u001b[0mshape\u001b[0m\u001b[0;34m[\u001b[0m\u001b[0;36m0\u001b[0m\u001b[0;34m]\u001b[0m \u001b[0;34m%\u001b[0m \u001b[0mbatch_size\u001b[0m \u001b[0;34m!=\u001b[0m \u001b[0;36m0\u001b[0m\u001b[0;34m:\u001b[0m\u001b[0;34m\u001b[0m\u001b[0;34m\u001b[0m\u001b[0m\n",
      "\u001b[0;32m/usr/local/jupyter/lib/python3.6/site-packages/keras/engine/training.py\u001b[0m in \u001b[0;36m_standardize_user_data\u001b[0;34m(self, x, y, sample_weight, class_weight, check_array_lengths, batch_size)\u001b[0m\n\u001b[1;32m    749\u001b[0m             \u001b[0mfeed_input_shapes\u001b[0m\u001b[0;34m,\u001b[0m\u001b[0;34m\u001b[0m\u001b[0;34m\u001b[0m\u001b[0m\n\u001b[1;32m    750\u001b[0m             \u001b[0mcheck_batch_axis\u001b[0m\u001b[0;34m=\u001b[0m\u001b[0;32mFalse\u001b[0m\u001b[0;34m,\u001b[0m  \u001b[0;31m# Don't enforce the batch size.\u001b[0m\u001b[0;34m\u001b[0m\u001b[0;34m\u001b[0m\u001b[0m\n\u001b[0;32m--> 751\u001b[0;31m             exception_prefix='input')\n\u001b[0m\u001b[1;32m    752\u001b[0m \u001b[0;34m\u001b[0m\u001b[0m\n\u001b[1;32m    753\u001b[0m         \u001b[0;32mif\u001b[0m \u001b[0my\u001b[0m \u001b[0;32mis\u001b[0m \u001b[0;32mnot\u001b[0m \u001b[0;32mNone\u001b[0m\u001b[0;34m:\u001b[0m\u001b[0;34m\u001b[0m\u001b[0;34m\u001b[0m\u001b[0m\n",
      "\u001b[0;32m/usr/local/jupyter/lib/python3.6/site-packages/keras/engine/training_utils.py\u001b[0m in \u001b[0;36mstandardize_input_data\u001b[0;34m(data, names, shapes, check_batch_axis, exception_prefix)\u001b[0m\n\u001b[1;32m    100\u001b[0m                 \u001b[0;34m'Expected to see '\u001b[0m \u001b[0;34m+\u001b[0m \u001b[0mstr\u001b[0m\u001b[0;34m(\u001b[0m\u001b[0mlen\u001b[0m\u001b[0;34m(\u001b[0m\u001b[0mnames\u001b[0m\u001b[0;34m)\u001b[0m\u001b[0;34m)\u001b[0m \u001b[0;34m+\u001b[0m \u001b[0;34m' array(s), '\u001b[0m\u001b[0;34m\u001b[0m\u001b[0;34m\u001b[0m\u001b[0m\n\u001b[1;32m    101\u001b[0m                 \u001b[0;34m'but instead got the following list of '\u001b[0m \u001b[0;34m+\u001b[0m\u001b[0;34m\u001b[0m\u001b[0;34m\u001b[0m\u001b[0m\n\u001b[0;32m--> 102\u001b[0;31m                 str(len(data)) + ' arrays: ' + str(data)[:200] + '...')\n\u001b[0m\u001b[1;32m    103\u001b[0m         \u001b[0;32melif\u001b[0m \u001b[0mlen\u001b[0m\u001b[0;34m(\u001b[0m\u001b[0mnames\u001b[0m\u001b[0;34m)\u001b[0m \u001b[0;34m>\u001b[0m \u001b[0;36m1\u001b[0m\u001b[0;34m:\u001b[0m\u001b[0;34m\u001b[0m\u001b[0;34m\u001b[0m\u001b[0m\n\u001b[1;32m    104\u001b[0m             raise ValueError(\n",
      "\u001b[0;31mValueError\u001b[0m: Error when checking model input: the list of Numpy arrays that you are passing to your model is not the size the model expected. Expected to see 1 array(s), but instead got the following list of 4 arrays: [array([[[[0.],\n         [0.],\n         [0.],\n         ...,\n         [0.],\n         [0.],\n         [0.]],\n\n        [[0.],\n         [0.],\n         [0.],\n         ...,\n         [0.],\n         [0.],\n    ..."
     ]
    }
   ],
   "source": [
    "# Plot ROC\n",
    "predict = best_model.predict([testimages, test_theta, testradii, testz])\n",
    "print(testlabels.shape, predict.shape)\n",
    "from sklearn.metrics import roc_curve, auc\n",
    "fpr, tpr, thresholds = roc_curve(testlabels, predict)\n",
    "roc_auc = auc(fpr, tpr)\n",
    "plt.plot(fpr, tpr, lw=2, color='blue', label='auc = %.3f' % (roc_auc))\n",
    "plt.plot([0, 1], [0, 1], linestyle='--', lw=2, color='k', label='random chance')\n",
    "plt.xlim([0, 1.0])\n",
    "plt.ylim([0, 1.0])\n",
    "plt.xlabel('false positive rate')\n",
    "plt.ylabel('true positive rate')\n",
    "plt.title('receiver operating curve')\n",
    "plt.legend(loc=\"lower right\")\n",
    "plt.show()"
   ]
  },
  {
   "cell_type": "code",
   "execution_count": null,
   "metadata": {},
   "outputs": [],
   "source": [
    "import innvestigate\n",
    "import innvestigate.utils as iutils"
   ]
  },
  {
   "cell_type": "code",
   "execution_count": null,
   "metadata": {},
   "outputs": [],
   "source": [
    "# Creating an analyzer\n",
    "lrp_analyzer = innvestigate.create_analyzer(\"lrp.z\", best_model)\n",
    "print(trainradii[1].reshape(1,2))\n",
    "# Applying the analyzer\n",
    "display = [trainimages[1].reshape(1,grid,grid,1), traintheta[1], trainradii[1].reshape(1,2), trainz[1]] #the reshape is this way is because the input is expected to be 4 dimensions\n",
    "analysis = lrp_analyzer.analyze(display)\n",
    "\n",
    "# Displaying one result\n",
    "plt.imshow(analysis[0].reshape(grid, grid), cmap='RdBu', origin = 'low', interpolation='nearest')\n",
    "plt.colorbar()\n",
    "plt.clim(-0.6, 0.6)\n",
    "plt.show()"
   ]
  },
  {
   "cell_type": "code",
   "execution_count": null,
   "metadata": {},
   "outputs": [],
   "source": [
    "plt.hist([predict[:int(len(predict)/2)].flatten(), predict[int(len(predict)/2):].flatten()] ,\n",
    "         color = ['blue', 'red'], histtype = 'step', label = ['signal', 'background'])\n",
    "plt.yscale('log')\n",
    "plt.legend()\n",
    "plt.show()"
   ]
  },
  {
   "cell_type": "code",
   "execution_count": null,
   "metadata": {},
   "outputs": [],
   "source": [
    "plt.hist2d(predict.flatten(), trainz.flatten())\n",
    "plt.show()\n",
    "\n",
    "plt.hist2d(predict.flatten(), trainz.flatten())\n",
    "plt.show()"
   ]
  },
  {
   "cell_type": "code",
   "execution_count": null,
   "metadata": {},
   "outputs": [],
   "source": [
    "#plot output signal and background\n",
    "sig_analysis_true = np.zeros_like(analysis[0])\n",
    "bkg_analysis_true = np.zeros_like(analysis[0])\n",
    "sig_analysis_pred = np.zeros_like(analysis[0])\n",
    "bkg_analysis_pred = np.zeros_like(analysis[0])\n",
    "sig_inefficiency = np.zeros_like(analysis[0])\n",
    "bkg_inefficiency = np.zeros_like(analysis[0])\n",
    "\n",
    "toc = time.time()\n",
    "\n",
    "display = [trainimages, traintheta, trainradii, trainz]\n",
    "analysis = [lrp_analyzer.analyze(display[:][i]) for i in range(len(trainimages))]\n",
    "\n",
    "tic = time.time()\n",
    "\n",
    "print('\\n time = \\n', tic-toc)"
   ]
  },
  {
   "cell_type": "code",
   "execution_count": null,
   "metadata": {},
   "outputs": [],
   "source": [
    "toc = time.time()\n",
    "\n",
    "for i in range(len(trainimages)):\n",
    "    if trainlabels[i] == 1:\n",
    "        sig_analysis_true += analysis[i]  \n",
    "        \n",
    "    else:\n",
    "        bkg_analysis_true += analysis[i]\n",
    "\n",
    "sig_analysis_true /= len(trainimages)/2\n",
    "bkg_analysis_true /= len(trainimages)/2\n",
    "        \n",
    "sig_anal_num = 0   \n",
    "sig_inef_num = 0\n",
    "bkg_anal_num = 0\n",
    "bkg_inef_num = 0\n",
    "weird = 0\n",
    "sig_zlab = np.array([0.])\n",
    "sig_thetalab = np.array([0.])\n",
    "bkg_zlab = np.array([0.])\n",
    "bkg_thetalab = np.array([0.])\n",
    "\n",
    "sig_ineff_zlab = np.array([0.])\n",
    "sig_ineff_thetalab = np.array([0.])\n",
    "bkg_ineff_zlab = np.array([0.])\n",
    "bkg_ineff_thetalab = np.array([0.])\n",
    "\n",
    "for i in range(len(trainimages)):\n",
    "    if i < int(len(predict)/2) and predict[i] > 0.50:\n",
    "        sig_analysis_pred += analysis[i]\n",
    "        sig_anal_num += 1\n",
    "        sig_zlab = np.append(sig_zlab, train_zlabels[i])\n",
    "        sig_thetalab = np.append(sig_thetalab, train_thetalabels[i])\n",
    "    elif i < int(len(predict)/2) and predict[i] < 0.50:\n",
    "        sig_inefficiency += analysis[i]\n",
    "        sig_inef_num += 1\n",
    "        sig_ineff_zlab = np.append(sig_ineff_zlab, train_zlabels[i])\n",
    "        sig_ineff_thetalab = np.append(sig_ineff_thetalab, train_thetalabels[i])\n",
    "    elif i >= int(len(predict)/2) and predict[i] < 0.50:\n",
    "        bkg_analysis_pred += analysis[i]\n",
    "        bkg_anal_num += 1\n",
    "        bkg_zlab = np.append(bkg_zlab, train_zlabels[i])\n",
    "        bkg_thetalab = np.append(bkg_thetalab, train_thetalabels[i])\n",
    "    elif i >= int(len(predict)/2) and predict[i] > 0.50:\n",
    "        bkg_inefficiency += analysis[i]\n",
    "        bkg_inef_num += 1\n",
    "        bkg_ineff_zlab = np.append(bkg_ineff_zlab, train_zlabels[i])\n",
    "        bkg_ineff_thetalab = np.append(bkg_ineff_thetalab, train_thetalabels[i])\n",
    "        \n",
    "#normalizing relevance scores\n",
    "sig_analysis_pred /= sig_anal_num\n",
    "sig_inefficiency /= sig_inef_num\n",
    "bkg_analysis_pred /= bkg_anal_num\n",
    "bkg_inefficiency /= bkg_inef_num\n",
    "\n",
    "tic = time.time()\n",
    "print('signal inefficiency = ', sig_inef_num, '\\nbackground inefficiency = ', bkg_inef_num)\n",
    "print('\\ntime =\\n', tic-toc)\n",
    "print('signal efficiency = ', sig_anal_num, '\\nbackground efficiency = ', bkg_anal_num)"
   ]
  },
  {
   "cell_type": "code",
   "execution_count": null,
   "metadata": {},
   "outputs": [],
   "source": [
    "# set the colormap and centre the colorbar\n",
    "class MidpointNormalize(Normalize):\n",
    "    \"\"\"Normalise the colorbar so that diverging bars work there way either side from a prescribed midpoint value)\"\"\"\n",
    "    def __init__(self, vmin=None, vmax=None, midpoint=None, clip=False):\n",
    "        self.midpoint = midpoint\n",
    "        Normalize.__init__(self, vmin, vmax, clip)\n",
    "        \n",
    "    def __call__(self, value, clip=None):\n",
    "        x, y = [self.vmin, self.midpoint, self.vmax], [0, 0.5, 1]\n",
    "        return np.ma.masked_array(np.interp(value, x, y), np.isnan(value))"
   ]
  },
  {
   "cell_type": "code",
   "execution_count": null,
   "metadata": {},
   "outputs": [],
   "source": [
    "sig_pred_max= np.amax(sig_analysis_pred)         \n",
    "sig_pred_min = np.amin(sig_analysis_pred)        \n",
    "sig_ineff_max= np.amax(sig_inefficiency)\n",
    "sig_ineff_min= np.amin(sig_inefficiency)\n",
    "sig_true_max= np.amax(sig_analysis_true)\n",
    "sig_true_min = np.amin(sig_analysis_true)\n",
    "\n",
    "# Displaying the signal results\n",
    "ax = plt.figure(figsize = (15,15))\n",
    "ax.add_subplot(131)\n",
    "im = plt.imshow(sig_analysis_true.reshape(grid,grid), origin = 'low',cmap='RdBu', interpolation='nearest', clim=(sig_true_min, sig_true_max), norm=MidpointNormalize(midpoint=0,vmin=sig_true_min, vmax=sig_true_max))\n",
    "plt.colorbar(im,fraction=0.046, pad=0.04)\n",
    "plt.title('Sig heatmap for true vals')\n",
    "ax.add_subplot(132)\n",
    "im = plt.imshow(sig_analysis_pred.reshape(grid,grid), origin = 'low', cmap='RdBu', interpolation='nearest', clim=(sig_pred_min, sig_pred_max), norm=MidpointNormalize(midpoint=0,vmin=sig_pred_min, vmax=sig_pred_max))\n",
    "plt.colorbar(im,fraction=0.046, pad=0.04)\n",
    "plt.title('Sig heatmap for predicted vals')\n",
    "ax.add_subplot(133)\n",
    "im = plt.imshow(sig_inefficiency.reshape(grid,grid), origin = 'low', cmap='RdBu', interpolation='nearest', clim=(sig_ineff_min, sig_ineff_max), norm=MidpointNormalize(midpoint=0,vmin=sig_ineff_min, vmax=sig_ineff_max))\n",
    "plt.colorbar(im,fraction=0.046, pad=0.04)\n",
    "plt.title('Sig inefficiency for predicted vals')\n",
    "plt.show()"
   ]
  },
  {
   "cell_type": "code",
   "execution_count": null,
   "metadata": {},
   "outputs": [],
   "source": [
    "bkg_pred_max= np.amax(bkg_analysis_pred)\n",
    "bkg_pred_min = np.amin(bkg_analysis_pred)\n",
    "bkg_ineff_max= np.amax(bkg_inefficiency)\n",
    "bkg_ineff_min= np.amin(bkg_inefficiency)\n",
    "bkg_true_max= np.amax(bkg_analysis_true)\n",
    "bkg_true_min = np.amin(bkg_analysis_true)\n",
    "\n",
    "# Displaying the background results\n",
    "ax = plt.figure(figsize = (15,15))\n",
    "ax.add_subplot(131)\n",
    "im_ = plt.imshow(bkg_analysis_true.reshape(grid,grid), origin = 'low',cmap='RdBu', interpolation='nearest', clim=(bkg_true_min, bkg_true_max), norm=MidpointNormalize(midpoint=0,vmin=bkg_true_min, vmax=bkg_true_max))\n",
    "plt.colorbar(im_,fraction=0.046, pad=0.04)\n",
    "plt.title('Bkg heatmap for true vals')\n",
    "ax.add_subplot(132)\n",
    "im_ = plt.imshow(bkg_analysis_pred.reshape(grid,grid), origin = 'low',cmap='RdBu', interpolation='nearest', clim=(bkg_pred_min, bkg_pred_max), norm=MidpointNormalize(midpoint=0,vmin=bkg_pred_min, vmax=bkg_pred_max))\n",
    "plt.colorbar(im_,fraction=0.046, pad=0.04)\n",
    "plt.title('Bkg heatmap for predicted vals')\n",
    "ax.add_subplot(133)\n",
    "im = plt.imshow(bkg_inefficiency.reshape(grid,grid), origin = 'low', cmap='RdBu', interpolation='nearest', clim=(bkg_ineff_min, bkg_ineff_max), norm=MidpointNormalize(midpoint=0,vmin=bkg_ineff_min, vmax=bkg_ineff_max))\n",
    "plt.colorbar(im,fraction=0.046, pad=0.04)\n",
    "plt.title('Bkg ineff. heatmap for pred vals')\n",
    "plt.show()"
   ]
  },
  {
   "cell_type": "markdown",
   "metadata": {},
   "source": [
    "## 1D histogram of $\\theta$ and z for signal and bkg\n",
    "\n",
    "Z histogram"
   ]
  },
  {
   "cell_type": "code",
   "execution_count": null,
   "metadata": {},
   "outputs": [],
   "source": [
    "xbins = np.arange(0.5, 1.0, 5e-3)\n",
    "plt.hist([sig_ineff_zlab[1:], bkg_ineff_zlab[1:]] , xbins, \n",
    "         color = ['blue', 'red'], histtype = 'step', label = ['signal ineff', 'background ineff'])\n",
    "# plt.yscale('log')\n",
    "plt.legend()\n",
    "plt.show()"
   ]
  },
  {
   "cell_type": "code",
   "execution_count": null,
   "metadata": {},
   "outputs": [],
   "source": [
    "plt.hist([sig_zlab[1:], bkg_zlab[1:]] , xbins, \n",
    "         color = ['b', 'r'], histtype = 'step', label = ['signal pred', 'background pred'])\n",
    "# plt.yscale('log')\n",
    "plt.legend()\n",
    "plt.show()"
   ]
  },
  {
   "cell_type": "markdown",
   "metadata": {},
   "source": [
    "$\\theta$ histogram"
   ]
  },
  {
   "cell_type": "code",
   "execution_count": null,
   "metadata": {},
   "outputs": [],
   "source": []
  }
 ],
 "metadata": {
  "kernelspec": {
   "display_name": "Python 3",
   "language": "python",
   "name": "python3"
  },
  "language_info": {
   "codemirror_mode": {
    "name": "ipython",
    "version": 3
   },
   "file_extension": ".py",
   "mimetype": "text/x-python",
   "name": "python",
   "nbconvert_exporter": "python",
   "pygments_lexer": "ipython3",
   "version": "3.6.8"
  }
 },
 "nbformat": 4,
 "nbformat_minor": 2
}
