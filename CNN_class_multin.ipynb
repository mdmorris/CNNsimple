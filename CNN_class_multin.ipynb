{
 "cells": [
  {
   "cell_type": "code",
   "execution_count": 1,
   "metadata": {},
   "outputs": [
    {
     "name": "stderr",
     "output_type": "stream",
     "text": [
      "/opt/conda/lib/python3.7/site-packages/tensorflow/python/framework/dtypes.py:526: FutureWarning: Passing (type, 1) or '1type' as a synonym of type is deprecated; in a future version of numpy, it will be understood as (type, (1,)) / '(1,)type'.\n",
      "  _np_qint8 = np.dtype([(\"qint8\", np.int8, 1)])\n",
      "/opt/conda/lib/python3.7/site-packages/tensorflow/python/framework/dtypes.py:527: FutureWarning: Passing (type, 1) or '1type' as a synonym of type is deprecated; in a future version of numpy, it will be understood as (type, (1,)) / '(1,)type'.\n",
      "  _np_quint8 = np.dtype([(\"quint8\", np.uint8, 1)])\n",
      "/opt/conda/lib/python3.7/site-packages/tensorflow/python/framework/dtypes.py:528: FutureWarning: Passing (type, 1) or '1type' as a synonym of type is deprecated; in a future version of numpy, it will be understood as (type, (1,)) / '(1,)type'.\n",
      "  _np_qint16 = np.dtype([(\"qint16\", np.int16, 1)])\n",
      "/opt/conda/lib/python3.7/site-packages/tensorflow/python/framework/dtypes.py:529: FutureWarning: Passing (type, 1) or '1type' as a synonym of type is deprecated; in a future version of numpy, it will be understood as (type, (1,)) / '(1,)type'.\n",
      "  _np_quint16 = np.dtype([(\"quint16\", np.uint16, 1)])\n",
      "/opt/conda/lib/python3.7/site-packages/tensorflow/python/framework/dtypes.py:530: FutureWarning: Passing (type, 1) or '1type' as a synonym of type is deprecated; in a future version of numpy, it will be understood as (type, (1,)) / '(1,)type'.\n",
      "  _np_qint32 = np.dtype([(\"qint32\", np.int32, 1)])\n",
      "/opt/conda/lib/python3.7/site-packages/tensorflow/python/framework/dtypes.py:535: FutureWarning: Passing (type, 1) or '1type' as a synonym of type is deprecated; in a future version of numpy, it will be understood as (type, (1,)) / '(1,)type'.\n",
      "  np_resource = np.dtype([(\"resource\", np.ubyte, 1)])\n",
      "Using TensorFlow backend.\n"
     ]
    },
    {
     "name": "stdout",
     "output_type": "stream",
     "text": [
      "1.13.1\n"
     ]
    }
   ],
   "source": [
    "# TensorFlow and tf.keras\n",
    "import tensorflow as tf\n",
    "#from tensorflow import keras\n",
    "#rom tensorflow.keras import layers\n",
    "import pandas as pd\n",
    "\n",
    "import keras\n",
    "import keras.backend\n",
    "from keras import layers\n",
    "from keras import models\n",
    "import keras.utils\n",
    "\n",
    "print(tf.__version__)\n",
    "\n",
    "# Helper libraries\n",
    "import numpy as np\n",
    "import matplotlib.pyplot as plt\n",
    "from matplotlib.colors import LogNorm\n",
    "import math\n",
    "import time\n",
    "import h5py\n",
    "import sklearn\n",
    "from sklearn.utils import shuffle\n",
    "\n",
    "import os"
   ]
  },
  {
   "cell_type": "markdown",
   "metadata": {},
   "source": [
    "## Import data:\n",
    "Using jetImages_signal.npz and jetImages_bkg.npz to train the neural network and using jetImages_signal_test.npz and jetImages_bkg_test.npz for testing."
   ]
  },
  {
   "cell_type": "code",
   "execution_count": 2,
   "metadata": {},
   "outputs": [],
   "source": [
    "grid = 32\n",
    "# training data : 10,000 signal samples and 10,000 bkg samples\n",
    "traindata_sig = np.load('data/jetImages_signal.npz')\n",
    "traindata_bkg = np.load('data/jetImages_bkg.npz')\n",
    "trainimages = np.concatenate((traindata_sig['jetImages'], traindata_bkg['jetImages']),axis=0)\n",
    "trainlabels = np.concatenate((traindata_sig['labels'],traindata_bkg['labels']),axis=0)\n",
    "# testing data : 10,000 signal samples and 10,000 bkg samples\n",
    "testdata_sig = np.load('data/jetImages_signal_test.npz')\n",
    "testdata_bkg = np.load('data/jetImages_bkg_test.npz')\n",
    "testimages = np.concatenate((testdata_sig['jetImages'], testdata_bkg['jetImages']),axis=0)\n",
    "testlabels = np.concatenate((testdata_sig['labels'], testdata_bkg['labels']),axis=0)\n",
    "trainradii = np.concatenate((traindata_sig['radiilab'], traindata_bkg['radiilab']), axis = 0)\n",
    "traintheta = np.concatenate((traindata_sig['thetalab'], traindata_bkg['thetalab']), axis = 0)\n",
    "testradii = np.concatenate((testdata_sig['radiilab'], testdata_bkg['radiilab']), axis = 0)\n",
    "test_theta = np.concatenate((testdata_sig['thetalab'], testdata_bkg['thetalab']), axis = 0)\n",
    "trainz = np.concatenate((traindata_sig['zlab'], traindata_bkg['zlab']), axis = 0)\n",
    "testz = np.concatenate((testdata_sig['zlab'], testdata_bkg['zlab']), axis = 0)\n",
    "n_train = len(trainlabels)\n",
    "n_test = len(testlabels)\n",
    "trainimages = trainimages.reshape(n_train, grid, grid, 1)\n",
    "testimages = testimages.reshape(n_test, grid, grid, 1)"
   ]
  },
  {
   "cell_type": "markdown",
   "metadata": {},
   "source": [
    "Print a plot of data to see what it looks like!"
   ]
  },
  {
   "cell_type": "markdown",
   "metadata": {},
   "source": [
    "Preprocessing -> spit data into training and testing; take 80% for training and 20% for testing.\n",
    "\n",
    "If using CNN, uncomment \".reshape(n_data, grid, grid, 1)\"."
   ]
  },
  {
   "cell_type": "code",
   "execution_count": 3,
   "metadata": {},
   "outputs": [
    {
     "data": {
      "image/png": "[encoded data removed]",
      "text/plain": [
       "<Figure size 432x288 with 2 Axes>"
      ]
     },
     "metadata": {
      "needs_background": "light"
     },
     "output_type": "display_data"
    }
   ],
   "source": [
    "#plot input signal and background\n",
    "sig_trainimages = np.zeros_like(trainimages[1])\n",
    "bkg_trainimages = np.zeros_like(trainimages[1])\n",
    "for i in range(len(trainimages)):\n",
    "    if testlabels[i] == 1:\n",
    "        sig_trainimages += trainimages[i]\n",
    "    else:\n",
    "        bkg_trainimages += trainimages[i]\n",
    "#signal\n",
    "display_sig = sig_trainimages.reshape(grid,grid)\n",
    "plt.grid(False)\n",
    "plt.imshow(display_sig, interpolation='nearest', origin='low', cmap = 'jet', norm=LogNorm())\n",
    "plt.colorbar()\n",
    "plt.show()"
   ]
  },
  {
   "cell_type": "markdown",
   "metadata": {},
   "source": [
    "Build DNN:"
   ]
  },
  {
   "cell_type": "code",
   "execution_count": 4,
   "metadata": {},
   "outputs": [
    {
     "data": {
      "image/png": "[encoded data removed]",
      "text/plain": [
       "<Figure size 432x288 with 2 Axes>"
      ]
     },
     "metadata": {
      "needs_background": "light"
     },
     "output_type": "display_data"
    }
   ],
   "source": [
    "#background\n",
    "display_bkg = bkg_trainimages.reshape(grid,grid)\n",
    "plt.grid(False)\n",
    "plt.imshow(display_bkg, interpolation='nearest', origin='low', cmap = 'jet', norm=LogNorm())\n",
    "plt.colorbar()\n",
    "plt.show()"
   ]
  },
  {
   "cell_type": "code",
   "execution_count": 5,
   "metadata": {},
   "outputs": [],
   "source": [
    "def build_model():\n",
    "    input1 = layers.Input(shape = (grid, grid, 1))\n",
    "    x = layers.Conv2D(32, (11, 11), activation='relu')(input1)\n",
    "    x = layers.Conv2D(32, (3, 3), activation='relu')(x)\n",
    "    x = layers.MaxPool2D((2, 2))(x)\n",
    "    x = layers.Conv2D(32, (3, 3), activation='relu')(x)\n",
    "    x = layers.Conv2D(32, (3, 3), activation='relu')(x)\n",
    "    x = layers.MaxPool2D((2, 2))(x)\n",
    "    x1 = layers.Flatten()(x)\n",
    "    input2 = layers.Input(shape=(1,))\n",
    "    input3 = layers.Input(shape=(2,))\n",
    "    input4 = layers.Input(shape=(1,))\n",
    "    x = layers.concatenate(inputs = [x1, input2, input3, input4],axis=-1)\n",
    "    x = layers.Dense(64, activation=tf.nn.relu)(x)\n",
    "    x = layers.Dense(64, activation=tf.nn.relu)(x)\n",
    "    output = layers.Dense(1, activation=tf.nn.sigmoid)(x)\n",
    "    model = models.Model(inputs=[input1, input2, input3, input4], outputs=output)\n",
    "    model.compile(loss='binary_crossentropy',\n",
    "                optimizer='adam',\n",
    "                metrics=['binary_crossentropy', 'accuracy'])\n",
    "    return model"
   ]
  },
  {
   "cell_type": "markdown",
   "metadata": {},
   "source": [
    "Initialize model:"
   ]
  },
  {
   "cell_type": "code",
   "execution_count": 6,
   "metadata": {},
   "outputs": [
    {
     "name": "stdout",
     "output_type": "stream",
     "text": [
      "WARNING:tensorflow:From /opt/conda/lib/python3.7/site-packages/tensorflow/python/framework/op_def_library.py:263: colocate_with (from tensorflow.python.framework.ops) is deprecated and will be removed in a future version.\n",
      "Instructions for updating:\n",
      "Colocations handled automatically by placer.\n"
     ]
    }
   ],
   "source": [
    "circleCNN = build_model()"
   ]
  },
  {
   "cell_type": "markdown",
   "metadata": {},
   "source": [
    "Test model's prediction $before$ training:"
   ]
  },
  {
   "cell_type": "code",
   "execution_count": 7,
   "metadata": {},
   "outputs": [
    {
     "name": "stdout",
     "output_type": "stream",
     "text": [
      "10/10 [==============================] - 0s 4ms/step\n",
      "[[0.4983597 ]\n",
      " [0.49796087]\n",
      " [0.49548462]\n",
      " [0.4964057 ]\n",
      " [0.49431902]\n",
      " [0.49786714]\n",
      " [0.49669975]\n",
      " [0.4944892 ]\n",
      " [0.49613512]\n",
      " [0.49756914]]\n",
      "[0.7001171112060547, 0.7001171112060547, 0.0]\n"
     ]
    }
   ],
   "source": [
    "example_batch = trainimages[:10]\n",
    "example_labels = trainlabels[:10]\n",
    "example_radii = trainradii[:10]\n",
    "example_theta = traintheta[:10]\n",
    "example_z = trainz[:10]\n",
    "example_result = circleCNN.predict(x = [example_batch, example_theta, example_radii, example_z])\n",
    "results = circleCNN.evaluate(x = [example_batch, example_theta, example_radii, example_z], y = example_labels)\n",
    "print(example_result)\n",
    "print(results)"
   ]
  },
  {
   "cell_type": "markdown",
   "metadata": {},
   "source": [
    "Now train! (warning: if building CNN, computer tends to get loud)"
   ]
  },
  {
   "cell_type": "code",
   "execution_count": 8,
   "metadata": {},
   "outputs": [
    {
     "name": "stdout",
     "output_type": "stream",
     "text": [
      "WARNING:tensorflow:From /opt/conda/lib/python3.7/site-packages/tensorflow/python/ops/math_ops.py:3066: to_int32 (from tensorflow.python.ops.math_ops) is deprecated and will be removed in a future version.\n",
      "Instructions for updating:\n",
      "Use tf.cast instead.\n",
      "\n",
      "Epoch 00001: val_loss improved from inf to 0.00949, saving model to model/CNN_cat_multi_input.h5\n"
     ]
    }
   ],
   "source": [
    "class PrintDot(keras.callbacks.Callback):\n",
    "    def on_epoch_end(self, epoch, logs):\n",
    "        if epoch % 100 == 0:\n",
    "            print('')\n",
    "        print('.', end='')\n",
    "    \n",
    "checkpoint_path = \"model/CNN_cat_multi_input.h5\"\n",
    "if not os.path.exists(\"model\"):\n",
    "    os.mkdir(\"model\")\n",
    "\n",
    "# Create checkpoint callback\n",
    "# cp_callback = tf.keras.callbacks.ModelCheckpoint(checkpoint_path, \n",
    "#                                                  save_best_only=True,\n",
    "#                                                  verbose=1)\n",
    "model_checkpoint = keras.callbacks.ModelCheckpoint(checkpoint_path, monitor='val_loss', \n",
    "                                   verbose=1, save_best_only=True, \n",
    "                                   save_weights_only=False, mode='auto', \n",
    "                                   period=1)    \n",
    "EPOCHS = 1\n",
    "early_stop = keras.callbacks.EarlyStopping(monitor='val_loss', patience=10)\n",
    "history = circleCNN.fit(\n",
    "  [trainimages, traintheta, trainradii, trainz], trainlabels,\n",
    "  epochs=EPOCHS, validation_split = 0.2, verbose = 0,\n",
    "  callbacks=[early_stop, model_checkpoint])"
   ]
  },
  {
   "cell_type": "markdown",
   "metadata": {},
   "source": [
    "Now make a plot that shows the pregression of accuracy through each training epoch."
   ]
  },
  {
   "cell_type": "code",
   "execution_count": 9,
   "metadata": {},
   "outputs": [],
   "source": [
    "# def plot_history(history):\n",
    "#   hist = pd.DataFrame(history.history)\n",
    "#   hist['epoch'] = history.epoch\n",
    "  \n",
    "#   plt.figure()\n",
    "#   plt.xlabel('Epoch')\n",
    "#   plt.ylabel('Mean Square Error')\n",
    "#   plt.plot(hist['epoch'], hist['binary'],\n",
    "#            label='Train Error')\n",
    "#   plt.plot(hist['epoch'], hist['val_mean_squared_error'],\n",
    "#            label = 'Val Error')\n",
    "#   plt.ylim([0,100])\n",
    "#   plt.legend()\n",
    "#   plt.show()\n",
    "\n",
    "# plot_history(history)"
   ]
  },
  {
   "cell_type": "markdown",
   "metadata": {},
   "source": [
    "Load best weights."
   ]
  },
  {
   "cell_type": "code",
   "execution_count": 10,
   "metadata": {},
   "outputs": [
    {
     "name": "stdout",
     "output_type": "stream",
     "text": [
      "CNN_cat_multi_input.h5\tCNN_sparce_cat.h5  RNN.h5\n",
      "__________________________________________________________________________________________________\n",
      "Layer (type)                    Output Shape         Param #     Connected to                     \n",
      "==================================================================================================\n",
      "input_1 (InputLayer)            (None, 32, 32, 1)    0                                            \n",
      "__________________________________________________________________________________________________\n",
      "conv2d_1 (Conv2D)               (None, 22, 22, 32)   3904        input_1[0][0]                    \n",
      "__________________________________________________________________________________________________\n",
      "conv2d_2 (Conv2D)               (None, 20, 20, 32)   9248        conv2d_1[0][0]                   \n",
      "__________________________________________________________________________________________________\n",
      "max_pooling2d_1 (MaxPooling2D)  (None, 10, 10, 32)   0           conv2d_2[0][0]                   \n",
      "__________________________________________________________________________________________________\n",
      "conv2d_3 (Conv2D)               (None, 8, 8, 32)     9248        max_pooling2d_1[0][0]            \n",
      "__________________________________________________________________________________________________\n",
      "conv2d_4 (Conv2D)               (None, 6, 6, 32)     9248        conv2d_3[0][0]                   \n",
      "__________________________________________________________________________________________________\n",
      "max_pooling2d_2 (MaxPooling2D)  (None, 3, 3, 32)     0           conv2d_4[0][0]                   \n",
      "__________________________________________________________________________________________________\n",
      "flatten_1 (Flatten)             (None, 288)          0           max_pooling2d_2[0][0]            \n",
      "__________________________________________________________________________________________________\n",
      "input_2 (InputLayer)            (None, 1)            0                                            \n",
      "__________________________________________________________________________________________________\n",
      "input_3 (InputLayer)            (None, 2)            0                                            \n",
      "__________________________________________________________________________________________________\n",
      "input_4 (InputLayer)            (None, 1)            0                                            \n",
      "__________________________________________________________________________________________________\n",
      "concatenate_1 (Concatenate)     (None, 292)          0           flatten_1[0][0]                  \n",
      "                                                                 input_2[0][0]                    \n",
      "                                                                 input_3[0][0]                    \n",
      "                                                                 input_4[0][0]                    \n",
      "__________________________________________________________________________________________________\n",
      "dense_1 (Dense)                 (None, 64)           18752       concatenate_1[0][0]              \n",
      "__________________________________________________________________________________________________\n",
      "dense_2 (Dense)                 (None, 64)           4160        dense_1[0][0]                    \n",
      "__________________________________________________________________________________________________\n",
      "dense_3 (Dense)                 (None, 1)            65          dense_2[0][0]                    \n",
      "==================================================================================================\n",
      "Total params: 54,625\n",
      "Trainable params: 54,625\n",
      "Non-trainable params: 0\n",
      "__________________________________________________________________________________________________\n",
      "20000/20000 [==============================] - 8s 405us/step\n",
      "[0.02583528311229311, 0.02583528311229311, 0.9921]\n"
     ]
    }
   ],
   "source": [
    "!ls model\n",
    "best_model = keras.models.load_model('model/CNN_cat_multi_input.h5')\n",
    "best_model.summary()\n",
    "results = best_model.evaluate([testimages, test_theta, testradii, testz], testlabels)\n",
    "print(results)"
   ]
  },
  {
   "cell_type": "markdown",
   "metadata": {},
   "source": [
    "Evaluate the performance of our DNN! Plot predictions vs. true values (the line is predictions vs. predicitons)."
   ]
  },
  {
   "cell_type": "code",
   "execution_count": 17,
   "metadata": {},
   "outputs": [
    {
     "name": "stdout",
     "output_type": "stream",
     "text": [
      "(20000, 1)\n",
      "(20000, 2)\n",
      "(20000, 1)\n",
      "(20000, 1)\n",
      "[[1.]\n",
      " [1.]\n",
      " [1.]\n",
      " ...\n",
      " [0.]\n",
      " [0.]\n",
      " [0.]]\n"
     ]
    },
    {
     "data": {
      "image/png": "[encoded data removed]",
      "text/plain": [
       "<Figure size 432x288 with 1 Axes>"
      ]
     },
     "metadata": {
      "needs_background": "light"
     },
     "output_type": "display_data"
    }
   ],
   "source": [
    "# Plot ROC\n",
    "print(test_theta.shape)\n",
    "print(testradii.shape)\n",
    "print(testz.shape)\n",
    "print(testlabels.shape)\n",
    "print(testlabels)\n",
    "predict = best_model.predict([testimages, test_theta, testradii, testz])\n",
    "from sklearn.metrics import roc_curve, auc\n",
    "fpr, tpr, thresholds = roc_curve(testlabels, predict)\n",
    "roc_auc = auc(fpr, tpr)\n",
    "plt.plot(fpr, tpr, lw=2, color='b', label='auc = %.3f' % (roc_auc))\n",
    "plt.plot([0, 1], [0, 1], linestyle='--', lw=2, color='k', label='random chance')\n",
    "plt.xlim([0, 1.0])\n",
    "plt.ylim([0, 1.0])\n",
    "plt.xlabel('false positive rate')\n",
    "plt.ylabel('true positive rate')\n",
    "plt.title('receiver operating curve')\n",
    "plt.legend(loc=\"lower right\")\n",
    "plt.show()"
   ]
  },
  {
   "cell_type": "code",
   "execution_count": 12,
   "metadata": {},
   "outputs": [
    {
     "data": {
      "image/png": "[encoded data removed]",
      "text/plain": [
       "<Figure size 432x288 with 1 Axes>"
      ]
     },
     "metadata": {
      "needs_background": "light"
     },
     "output_type": "display_data"
    }
   ],
   "source": [
    "hist, bin_edges = np.histogram(predict[:int(len(predict)/2)])\n",
    "hist_, bin_edges_ = np.histogram(predict[:-int(len((predict)-1)/2)])\n",
    "plt.hist([predict[:int(len(predict)/2)].flatten(), predict[int(len(predict)/2)-1:-1].flatten()] ,\n",
    "         color = ['blue', 'red'], histtype = 'step', label = ['signal', 'background'])\n",
    "plt.legend()\n",
    "plt.yscale('log')\n",
    "plt.show()"
   ]
  },
  {
   "cell_type": "code",
   "execution_count": null,
   "metadata": {},
   "outputs": [],
   "source": []
  },
  {
   "cell_type": "markdown",
   "metadata": {},
   "source": [
    "$$ \\textbf{LRP} $$"
   ]
  },
  {
   "cell_type": "code",
   "execution_count": 13,
   "metadata": {},
   "outputs": [],
   "source": [
    "# import innvestigate\n",
    "# import innvestigate.utils as iutils"
   ]
  },
  {
   "cell_type": "code",
   "execution_count": 14,
   "metadata": {},
   "outputs": [],
   "source": [
    "# # Creating an analyzer\n",
    "# lrp_analyzer = innvestigate.create_analyzer(\"lrp.z\", best_model)\n",
    "# #discoverered that innvestigate fails to run on a loaded model --> trying to find fix\n",
    "\n",
    "# # Applying the analyzer\n",
    "# display = trainimages[1].reshape(1,grid,grid,1) #the reshape is this way is because the input is expected to be 4 dimensions\n",
    "# analysis = lrp_analyzer.analyze(display)\n",
    "\n",
    "# # Displaying one result\n",
    "# plt.imshow(analysis.squeeze(), cmap='seismic', interpolation='nearest')\n",
    "# plt.colorbar()\n",
    "# plt.show()"
   ]
  },
  {
   "cell_type": "code",
   "execution_count": 15,
   "metadata": {},
   "outputs": [],
   "source": [
    "# #fix - change to predicted labels\n",
    "# #plot output signal and background\n",
    "# sig_analysis_true = np.zeros_like(analysis)\n",
    "# bkg_analysis_true = np.zeros_like(analysis)\n",
    "# sig_analysis_pred = np.zeros_like(analysis)\n",
    "# bkg_analysis_pred = np.zeros_like(analysis)\n",
    "# # sig_mask = trainlabels == 1\n",
    "# # bkg_mask = trainlabels == 0\n",
    "# # pred_sig_mask = predict >= 0.50\n",
    "# # pred_bkg_mask = predict < 0.50\n",
    "\n",
    "# toc = time.time()\n",
    "\n",
    "# for i in range(len(trainimages)):\n",
    "#     display = trainimages[i].reshape(1,grid,grid,1)\n",
    "#     analysis = lrp_analyzer.analyze(display)\n",
    "#     if trainlabels[i] == 1:\n",
    "#         sig_analysis_true += analysis  \n",
    "#     else:\n",
    "#         bkg_analysis_true += analysis\n",
    "\n",
    "# for i in range(len(trainimages)):\n",
    "#     display = trainimages[i].reshape(1,grid,grid,1)\n",
    "#     analysis = lrp_analyzer.analyze(display)\n",
    "#     if trainlabels[i] >= 0.50:\n",
    "#         sig_analysis_pred += analysis  \n",
    "#     else:\n",
    "#         bkg_analysis_pred += analysis\n",
    "\n",
    "# tic = time.time()\n",
    "\n",
    "# print('/n time = /n', tic-toc)\n"
   ]
  },
  {
   "cell_type": "code",
   "execution_count": 16,
   "metadata": {},
   "outputs": [],
   "source": [
    "# Displaying the signal result\n",
    "# ax = plt.figure(figsize = (10,10))\n",
    "# ax.add_subplot(121)\n",
    "# im = plt.imshow(sig_analysis_true.squeeze(), cmap='seismic', interpolation='nearest')\n",
    "# plt.colorbar(im,fraction=0.046, pad=0.04)\n",
    "# ax.add_subplot(122)\n",
    "# im_ = plt.imshow(sig_analysis_pred.squeeze(), cmap='seismic', interpolation='nearest')\n",
    "# plt.colorbar(im_,fraction=0.046, pad=0.04)"
   ]
  },
  {
   "cell_type": "code",
   "execution_count": 17,
   "metadata": {},
   "outputs": [],
   "source": [
    "# # Displaying the signal result\n",
    "# ax = plt.figure(figsize = (10,10))\n",
    "# plt.subplot(121)\n",
    "# im_ = plt.imshow(bkg_analysis_true.squeeze(), cmap='seismic', interpolation='nearest')\n",
    "# plt.colorbar(im_,fraction=0.046, pad=0.04)\n",
    "# plt.subplot(122)\n",
    "# im = plt.imshow(bkg_analysis_pred.squeeze(), cmap='seismic', interpolation='nearest')\n",
    "# plt.colorbar(im,fraction=0.046, pad=0.04)"
   ]
  }
 ],
 "metadata": {
  "kernelspec": {
   "display_name": "Python 3",
   "language": "python",
   "name": "python3"
  },
  "language_info": {
   "codemirror_mode": {
    "name": "ipython",
    "version": 3
   },
   "file_extension": ".py",
   "mimetype": "text/x-python",
   "name": "python",
   "nbconvert_exporter": "python",
   "pygments_lexer": "ipython3",
   "version": "3.7.3"
  }
 },
 "nbformat": 4,
 "nbformat_minor": 2
}
