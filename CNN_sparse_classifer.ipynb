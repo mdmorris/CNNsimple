{
 "cells": [
  {
   "cell_type": "code",
   "execution_count": 1,
   "metadata": {},
   "outputs": [
    {
     "name": "stdout",
     "output_type": "stream",
     "text": [
      "2.0.0-alpha0\n"
     ]
    }
   ],
   "source": [
    "# TensorFlow and tf.keras\n",
    "\n",
    "import tensorflow as tf\n",
    "from tensorflow import keras\n",
    "from tensorflow.keras import Model\n",
    "from tensorflow.keras.layers import Input, Conv2D, MaxPool2D, Flatten, Dense, BatchNormalization, Dropout\n",
    "from tensorflow.keras.regularizers import l2\n",
    "import pandas as pd\n",
    "\n",
    "print(tf.__version__)\n",
    "\n",
    "# Helper libraries\n",
    "import numpy as np\n",
    "import matplotlib.pyplot as plt\n",
    "import math\n",
    "import time\n",
    "import h5py"
   ]
  },
  {
   "cell_type": "markdown",
   "metadata": {},
   "source": [
    "Import data:"
   ]
  },
  {
   "cell_type": "code",
   "execution_count": 2,
   "metadata": {},
   "outputs": [
    {
     "name": "stdout",
     "output_type": "stream",
     "text": [
      "[[23. 18.  5.]\n",
      " [29. 25.  7.]\n",
      " [21. 23.  1.]\n",
      " ...\n",
      " [27. 18.  2.]\n",
      " [22. 21.  1.]\n",
      " [27. 30. 11.]]\n"
     ]
    }
   ],
   "source": [
    "data = np.load('classify_circles_data.npz')\n",
    "circleData = data[\"circles\"]\n",
    "labels = np.column_stack((data['radiilab'],data['distlab']))\n",
    "n_data = len(labels)\n",
    "grid = 32\n",
    "print(labels)"
   ]
  },
  {
   "cell_type": "markdown",
   "metadata": {},
   "source": [
    "Print a plot of data to see what it looks like!"
   ]
  },
  {
   "cell_type": "code",
   "execution_count": 3,
   "metadata": {},
   "outputs": [
    {
     "name": "stdout",
     "output_type": "stream",
     "text": [
      "radius1, radius2, distance between ceneters:\n",
      "[24. 31. 14.]\n"
     ]
    },
    {
     "data": {
      "text/plain": [
       "<matplotlib.colorbar.Colorbar at 0x141bcf4a8>"
      ]
     },
     "execution_count": 3,
     "metadata": {},
     "output_type": "execute_result"
    },
    {
     "data": {
      "image/png": "[encoded data removed]",
      "text/plain": [
       "<Figure size 432x288 with 2 Axes>"
      ]
     },
     "metadata": {
      "needs_background": "light"
     },
     "output_type": "display_data"
    }
   ],
   "source": [
    "display = circleData[60].reshape(grid,grid)\n",
    "plt.grid(False)\n",
    "plt.imshow(display, cmap = 'jet')\n",
    "print(\"radius1, radius2, distance between ceneters:\")\n",
    "print(labels[60])\n",
    "plt.colorbar()"
   ]
  },
  {
   "cell_type": "markdown",
   "metadata": {},
   "source": [
    "Preprocessing -> spit data into training and testing; take 80% for training and 20% for testing.\n",
    "\n",
    "If using CNN, uncomment \".reshape(n_data, grid, grid, 1)\"."
   ]
  },
  {
   "cell_type": "code",
   "execution_count": 4,
   "metadata": {},
   "outputs": [
    {
     "name": "stdout",
     "output_type": "stream",
     "text": [
      "(8000, 32, 32, 1)\n",
      "(2000, 32, 32, 1)\n"
     ]
    }
   ],
   "source": [
    "data = circleData.reshape(n_data, grid, grid, 1)\n",
    "split = int(0.8*len(circleData))\n",
    "train_data = data[:split]\n",
    "train_labels = labels[:split]\n",
    "print (train_data.shape)\n",
    "test_data = data[split:]\n",
    "print(test_data.shape)\n",
    "test_labels = labels[split:]"
   ]
  },
  {
   "cell_type": "markdown",
   "metadata": {},
   "source": [
    "Build DNN:"
   ]
  },
  {
   "cell_type": "code",
   "execution_count": 5,
   "metadata": {},
   "outputs": [],
   "source": [
    "def build_model():\n",
    "    model = keras.Sequential([\n",
    "        Conv2D(32, (11, 11), activation='relu',\n",
    "               input_shape=(grid, grid, 1)),\n",
    "        Conv2D(32, (3, 3), activation='relu'\n",
    "              ),\n",
    "        MaxPool2D((2, 2)),\n",
    "#         Dropout(0.2),\n",
    "        Conv2D(32, (3, 3), activation='relu'\n",
    "              ),\n",
    "        Conv2D(32, (3, 3), activation='relu'\n",
    "              ),\n",
    "        MaxPool2D((2, 2)),\n",
    "#         Dropout(0.2),\n",
    "        Flatten(),\n",
    "        Dense(64, activation=tf.nn.relu),\n",
    "        Dense(64, activation=tf.nn.relu),\n",
    "#         Dropout(0.2),\n",
    "        Dense(3, activation=tf.nn.relu)\n",
    "      ])\n",
    "\n",
    "    model.compile(loss='mean_squared_error',\n",
    "                optimizer='adam',\n",
    "                metrics=['mean_squared_error', 'mean_absolute_error', 'accuracy'])\n",
    "    return model"
   ]
  },
  {
   "cell_type": "markdown",
   "metadata": {},
   "source": [
    "Initialize model:"
   ]
  },
  {
   "cell_type": "code",
   "execution_count": 6,
   "metadata": {},
   "outputs": [],
   "source": [
    "circleCNN = build_model()"
   ]
  },
  {
   "cell_type": "markdown",
   "metadata": {},
   "source": [
    "Test model's prediction $before$ training:"
   ]
  },
  {
   "cell_type": "code",
   "execution_count": 7,
   "metadata": {},
   "outputs": [
    {
     "name": "stdout",
     "output_type": "stream",
     "text": [
      "\r",
      "10/10 [==============================] - 0s 7ms/sample - loss: 338.8626 - mean_squared_error: 338.8626 - mean_absolute_error: 16.6970 - accuracy: 0.5000\n"
     ]
    },
    {
     "data": {
      "text/plain": [
       "array([[0.00824911, 0.        , 0.00321137],\n",
       "       [0.00759777, 0.        , 0.00219931],\n",
       "       [0.00880869, 0.        , 0.00255115],\n",
       "       [0.00949403, 0.00131852, 0.00328486],\n",
       "       [0.00183412, 0.        , 0.00037542],\n",
       "       [0.00512521, 0.        , 0.00272616],\n",
       "       [0.00420143, 0.        , 0.00208624],\n",
       "       [0.00824994, 0.        , 0.00274527],\n",
       "       [0.00397504, 0.00139541, 0.00280671],\n",
       "       [0.00463188, 0.        , 0.00212906]], dtype=float32)"
      ]
     },
     "execution_count": 7,
     "metadata": {},
     "output_type": "execute_result"
    }
   ],
   "source": [
    "example_batch = train_data[:10]\n",
    "example_labels = train_labels[:10]\n",
    "example_result = circleCNN.predict(example_batch)\n",
    "results = circleCNN.evaluate(example_batch, example_labels)\n",
    "example_result"
   ]
  },
  {
   "cell_type": "markdown",
   "metadata": {},
   "source": [
    "Now train! (warning: if building CNN, computer tends to get loud)"
   ]
  },
  {
   "cell_type": "code",
   "execution_count": 8,
   "metadata": {},
   "outputs": [
    {
     "name": "stdout",
     "output_type": "stream",
     "text": [
      "\n",
      "Epoch 00001: val_loss improved from inf to 21.53788, saving model to training/CNN_sparse_largerkernel.h5\n",
      "\n",
      "Epoch 00002: val_loss improved from 21.53788 to 21.14053, saving model to training/CNN_sparse_largerkernel.h5\n",
      "\n",
      "Epoch 00003: val_loss improved from 21.14053 to 20.92964, saving model to training/CNN_sparse_largerkernel.h5\n",
      "\n",
      "Epoch 00004: val_loss improved from 20.92964 to 20.25698, saving model to training/CNN_sparse_largerkernel.h5\n",
      "\n",
      "Epoch 00005: val_loss did not improve from 20.25698\n",
      "\n",
      "Epoch 00006: val_loss did not improve from 20.25698\n",
      "\n",
      "Epoch 00007: val_loss improved from 20.25698 to 20.00176, saving model to training/CNN_sparse_largerkernel.h5\n",
      "\n",
      "Epoch 00008: val_loss improved from 20.00176 to 17.84587, saving model to training/CNN_sparse_largerkernel.h5\n",
      "\n",
      "Epoch 00009: val_loss improved from 17.84587 to 16.96819, saving model to training/CNN_sparse_largerkernel.h5\n",
      "\n",
      "Epoch 00010: val_loss improved from 16.96819 to 15.35822, saving model to training/CNN_sparse_largerkernel.h5\n",
      "\n",
      "Epoch 00011: val_loss improved from 15.35822 to 14.67053, saving model to training/CNN_sparse_largerkernel.h5\n",
      "\n",
      "Epoch 00012: val_loss improved from 14.67053 to 14.55880, saving model to training/CNN_sparse_largerkernel.h5\n",
      "\n",
      "Epoch 00013: val_loss improved from 14.55880 to 13.89319, saving model to training/CNN_sparse_largerkernel.h5\n",
      "\n",
      "Epoch 00014: val_loss improved from 13.89319 to 13.65769, saving model to training/CNN_sparse_largerkernel.h5\n",
      "\n",
      "Epoch 00015: val_loss improved from 13.65769 to 13.21899, saving model to training/CNN_sparse_largerkernel.h5\n",
      "\n",
      "Epoch 00016: val_loss improved from 13.21899 to 12.14229, saving model to training/CNN_sparse_largerkernel.h5\n",
      "\n",
      "Epoch 00017: val_loss improved from 12.14229 to 11.43223, saving model to training/CNN_sparse_largerkernel.h5\n",
      "\n",
      "Epoch 00018: val_loss improved from 11.43223 to 11.10924, saving model to training/CNN_sparse_largerkernel.h5\n",
      "\n",
      "Epoch 00019: val_loss improved from 11.10924 to 10.68369, saving model to training/CNN_sparse_largerkernel.h5\n",
      "\n",
      "Epoch 00020: val_loss improved from 10.68369 to 9.76492, saving model to training/CNN_sparse_largerkernel.h5\n",
      "\n",
      "Epoch 00021: val_loss improved from 9.76492 to 9.67978, saving model to training/CNN_sparse_largerkernel.h5\n",
      "\n",
      "Epoch 00022: val_loss did not improve from 9.67978\n",
      "\n",
      "Epoch 00023: val_loss improved from 9.67978 to 9.41356, saving model to training/CNN_sparse_largerkernel.h5\n",
      "\n",
      "Epoch 00024: val_loss did not improve from 9.41356\n",
      "\n",
      "Epoch 00025: val_loss improved from 9.41356 to 9.36621, saving model to training/CNN_sparse_largerkernel.h5\n",
      "\n",
      "Epoch 00026: val_loss did not improve from 9.36621\n",
      "\n",
      "Epoch 00027: val_loss did not improve from 9.36621\n",
      "\n",
      "Epoch 00028: val_loss did not improve from 9.36621\n",
      "\n",
      "Epoch 00029: val_loss did not improve from 9.36621\n",
      "\n",
      "Epoch 00030: val_loss improved from 9.36621 to 9.17862, saving model to training/CNN_sparse_largerkernel.h5\n",
      "\n",
      "Epoch 00031: val_loss did not improve from 9.17862\n",
      "\n",
      "Epoch 00032: val_loss improved from 9.17862 to 9.15468, saving model to training/CNN_sparse_largerkernel.h5\n",
      "\n",
      "Epoch 00033: val_loss did not improve from 9.15468\n",
      "\n",
      "Epoch 00034: val_loss did not improve from 9.15468\n",
      "\n",
      "Epoch 00035: val_loss did not improve from 9.15468\n",
      "\n",
      "Epoch 00036: val_loss did not improve from 9.15468\n",
      "\n",
      "Epoch 00037: val_loss did not improve from 9.15468\n",
      "\n",
      "Epoch 00038: val_loss did not improve from 9.15468\n",
      "\n",
      "Epoch 00039: val_loss did not improve from 9.15468\n",
      "\n",
      "Epoch 00040: val_loss did not improve from 9.15468\n",
      "\n",
      "Epoch 00041: val_loss did not improve from 9.15468\n",
      "\n",
      "Epoch 00042: val_loss did not improve from 9.15468\n"
     ]
    }
   ],
   "source": [
    " class PrintDot(keras.callbacks.Callback):\n",
    "   def on_epoch_end(self, epoch, logs):\n",
    "     if epoch % 100 == 0: \n",
    "         print('')\n",
    "     print('.', end='')\n",
    "    \n",
    "checkpoint_path = \"training/CNN_sparse_largerkernel.h5\"\n",
    "\n",
    "\n",
    "# Create checkpoint callback\n",
    "# cp_callback = tf.keras.callbacks.ModelCheckpoint(checkpoint_path, \n",
    "#                                                  save_best_only=True,\n",
    "#                                                  verbose=1)\n",
    "model_checkpoint = tf.keras.callbacks.ModelCheckpoint(checkpoint_path, monitor='val_loss', \n",
    "                                   verbose=1, save_best_only=True, \n",
    "                                   save_weights_only=False, mode='auto', \n",
    "                                   period=1)    \n",
    " EPOCHS = 1000\n",
    " early_stop = keras.callbacks.EarlyStopping(monitor='val_loss', patience=10)\n",
    " history = circleCNN.fit(\n",
    "   train_data, train_labels,\n",
    "   epochs=EPOCHS, validation_split = 0.2, verbose = 0,\n",
    "   callbacks=[early_stop, model_checkpoint])"
   ]
  },
  {
   "cell_type": "markdown",
   "metadata": {},
   "source": [
    "Now make a plot that shows the pregression of accuracy through each training epoch."
   ]
  },
  {
   "cell_type": "code",
   "execution_count": 9,
   "metadata": {},
   "outputs": [
    {
     "data": {
      "image/png": "[encoded data removed]",
      "text/plain": [
       "<Figure size 432x288 with 1 Axes>"
      ]
     },
     "metadata": {
      "needs_background": "light"
     },
     "output_type": "display_data"
    },
    {
     "data": {
      "image/png": "[encoded data removed]",
      "text/plain": [
       "<Figure size 432x288 with 1 Axes>"
      ]
     },
     "metadata": {
      "needs_background": "light"
     },
     "output_type": "display_data"
    }
   ],
   "source": [
    "def plot_history(history):\n",
    "  hist = pd.DataFrame(history.history)\n",
    "  hist['epoch'] = history.epoch\n",
    "  \n",
    "  plt.figure()\n",
    "  plt.xlabel('Epoch')\n",
    "  plt.ylabel('Mean Abs Error')\n",
    "  plt.plot(hist['epoch'], hist['mean_absolute_error'],\n",
    "           label='Train Error')\n",
    "  plt.plot(hist['epoch'], hist['val_mean_absolute_error'],\n",
    "           label = 'Val Error')\n",
    "  plt.ylim([0,5])\n",
    "  plt.legend()\n",
    "  \n",
    "  plt.figure()\n",
    "  plt.xlabel('Epoch')\n",
    "  plt.ylabel('Mean Square Error')\n",
    "  plt.plot(hist['epoch'], hist['mean_squared_error'],\n",
    "           label='Train Error')\n",
    "  plt.plot(hist['epoch'], hist['val_mean_squared_error'],\n",
    "           label = 'Val Error')\n",
    "  plt.ylim([0,100])\n",
    "  plt.legend()\n",
    "  plt.show()\n",
    "\n",
    "plot_history(history)"
   ]
  },
  {
   "cell_type": "markdown",
   "metadata": {},
   "source": [
    "Load best weights."
   ]
  },
  {
   "cell_type": "code",
   "execution_count": 10,
   "metadata": {},
   "outputs": [
    {
     "name": "stdout",
     "output_type": "stream",
     "text": [
      "CNN_L2norm_dropout_padding.h5    CNN_l2reg_moreDropout.h5\n",
      "CNN_L2reg.h5                     CNN_moreL2reg.h5\n",
      "CNN_L2reg0.h5                    CNN_moreL2reg0.h5\n",
      "CNN_L2reg_dropout_lessPadding.h5 CNN_moreL2reg_dropout.h5\n",
      "CNN_L2reg_dropout_padding.h5     CNN_sparse.h5\n",
      "CNN_L2reg_reluOutput.h5          CNN_sparse_largerkernel.h5\n",
      "CNN_L2reg_reluOutput_dropout.h5  CNNbest.h5\n",
      "CNN_basic.h5                     cpbest.h5\n",
      "CNN_dropout.h5\n",
      "Model: \"sequential\"\n",
      "_________________________________________________________________\n",
      "Layer (type)                 Output Shape              Param #   \n",
      "=================================================================\n",
      "conv2d (Conv2D)              (None, 22, 22, 32)        3904      \n",
      "_________________________________________________________________\n",
      "conv2d_1 (Conv2D)            (None, 20, 20, 32)        9248      \n",
      "_________________________________________________________________\n",
      "max_pooling2d (MaxPooling2D) (None, 10, 10, 32)        0         \n",
      "_________________________________________________________________\n",
      "conv2d_2 (Conv2D)            (None, 8, 8, 32)          9248      \n",
      "_________________________________________________________________\n",
      "conv2d_3 (Conv2D)            (None, 6, 6, 32)          9248      \n",
      "_________________________________________________________________\n",
      "max_pooling2d_1 (MaxPooling2 (None, 3, 3, 32)          0         \n",
      "_________________________________________________________________\n",
      "flatten (Flatten)            (None, 288)               0         \n",
      "_________________________________________________________________\n",
      "dense (Dense)                (None, 64)                18496     \n",
      "_________________________________________________________________\n",
      "dense_1 (Dense)              (None, 64)                4160      \n",
      "_________________________________________________________________\n",
      "dense_2 (Dense)              (None, 3)                 195       \n",
      "=================================================================\n",
      "Total params: 54,499\n",
      "Trainable params: 54,499\n",
      "Non-trainable params: 0\n",
      "_________________________________________________________________\n",
      "2000/2000 [==============================] - 0s 155us/sample - loss: 9.0961 - mean_squared_error: 9.0961 - mean_absolute_error: 2.3531 - accuracy: 0.7495\n"
     ]
    }
   ],
   "source": [
    "!ls training\n",
    "best_model = tf.keras.models.load_model('training/CNN_sparse_largerkernel.h5')\n",
    "best_model.summary()\n",
    "results = best_model.evaluate(test_data, test_labels)"
   ]
  },
  {
   "cell_type": "markdown",
   "metadata": {},
   "source": [
    "Evaluate the performance of our DNN! Plot predictions vs. true values (the line is predictions vs. predicitons)."
   ]
  },
  {
   "cell_type": "code",
   "execution_count": 11,
   "metadata": {},
   "outputs": [
    {
     "data": {
      "text/plain": [
       "<matplotlib.legend.Legend at 0x14754a2e8>"
      ]
     },
     "execution_count": 11,
     "metadata": {},
     "output_type": "execute_result"
    },
    {
     "data": {
      "image/png": "[encoded data removed]",
      "text/plain": [
       "<Figure size 720x720 with 3 Axes>"
      ]
     },
     "metadata": {
      "needs_background": "light"
     },
     "output_type": "display_data"
    }
   ],
   "source": [
    "test_predictions = circleCNN.predict(test_data)\n",
    "plt.figure(figsize=(10,10))\n",
    "plt.subplot(221)\n",
    "plt.scatter(test_labels[:,0], test_predictions[:,0], label='Radii 1: Predictions vs. True')\n",
    "plt.xlabel('True Values')\n",
    "plt.ylabel('Predictions')\n",
    "plt.axis('equal')\n",
    "plt.axis('square')\n",
    "plt.xlim([12,plt.xlim()[1]])\n",
    "plt.ylim([12,plt.ylim()[1]])\n",
    "_ = plt.plot([-100, 100], [-100, 100], label=\"Perfect Agreement\")\n",
    "plt.legend(loc='upper left')\n",
    "plt.subplot(222)\n",
    "plt.scatter(test_labels[:,1], test_predictions[:,1], label='Radii 2: Predictions vs. True')\n",
    "plt.xlabel('True Values')\n",
    "plt.ylabel('Predictions')\n",
    "plt.axis('equal')\n",
    "plt.axis('square')\n",
    "plt.xlim([12,plt.xlim()[1]])\n",
    "plt.ylim([12,plt.ylim()[1]])\n",
    "_ = plt.plot([-100, 100], [-100, 100], label=\"Perfect Agreement\")\n",
    "plt.legend(loc='upper left')\n",
    "plt.subplot(223)\n",
    "plt.scatter(test_labels[:,2], test_predictions[:,2], label='Distance: Predictions vs. True')\n",
    "plt.xlabel('True Values')\n",
    "plt.ylabel('Predictions')\n",
    "plt.axis('equal')\n",
    "plt.axis('square')\n",
    "plt.xlim([0,plt.xlim()[1]])\n",
    "plt.ylim([0,plt.ylim()[1]])\n",
    "_ = plt.plot([-100, 100], [-100, 100], label=\"Perfect Agreement\")\n",
    "plt.legend(loc='upper left')"
   ]
  },
  {
   "cell_type": "code",
   "execution_count": null,
   "metadata": {},
   "outputs": [],
   "source": []
  },
  {
   "cell_type": "code",
   "execution_count": null,
   "metadata": {},
   "outputs": [],
   "source": []
  }
 ],
 "metadata": {
  "kernelspec": {
   "display_name": "Python 3",
   "language": "python",
   "name": "python3"
  },
  "language_info": {
   "codemirror_mode": {
    "name": "ipython",
    "version": 3
   },
   "file_extension": ".py",
   "mimetype": "text/x-python",
   "name": "python",
   "nbconvert_exporter": "python",
   "pygments_lexer": "ipython3",
   "version": "3.7.3"
  }
 },
 "nbformat": 4,
 "nbformat_minor": 2
}
