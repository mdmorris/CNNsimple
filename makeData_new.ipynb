{
 "cells": [
  {
   "cell_type": "markdown",
   "metadata": {},
   "source": [
    "Date: 11 June 2019\n",
    "\n",
    "Creating circles  to resemble QCD background and Z-jets. The background isproduced using exponential distribution and signal using normal distribution.\n",
    "<img src=\"sig_bkg.png\">"
   ]
  },
  {
   "cell_type": "code",
   "execution_count": 1,
   "metadata": {},
   "outputs": [],
   "source": [
    "import random\n",
    "import math\n",
    "import numbers\n",
    "import numpy as np\n",
    "import matplotlib.pyplot as plt\n",
    "import time"
   ]
  },
  {
   "cell_type": "code",
   "execution_count": 2,
   "metadata": {},
   "outputs": [],
   "source": [
    "def make_circles(grid = 11, n_data = 10, n_particle = 10):\n",
    "    max_distance = int((grid-1)/2)\n",
    "    radii = np.random.randint(int(0.25*grid),max_distance,size = (n_data, 2))\n",
    "    radii = radii.flatten()\n",
    "    # adding distance using the gaussian and exponential distributions\n",
    "    signal_d = np.random.normal(loc=10., scale=2.5, size=int(0.5*n_data))\n",
    "    bkg_d = np.random.exponential(scale=5., size=n_data-int(0.5*n_data))\n",
    "    distance = np.concatenate((signal_d, bkg_d), axis=0)\n",
    "    distances = np.array([np.multiply(np.ones(shape = (grid,grid)),y) for y in distance])\n",
    "    radii1 = np.array([np.multiply(np.ones(shape = (grid,grid)),y) for y in radii[::2]])\n",
    "    radii2 = np.array([np.multiply(np.ones(shape = (grid,grid)),y) for y in radii[1::2]])\n",
    "    circle = np.zeros((n_data, grid, grid))\n",
    "    circlex = np.zeros((grid, grid))\n",
    "    circley = np.zeros((grid, grid))\n",
    "    circlex[:][:][:] = np.arange(grid)\n",
    "    circley[:][:][:] = np.transpose(circlex)\n",
    "    x1 = circley - max_distance + distances/2\n",
    "    x2 = circley - max_distance - distances/2\n",
    "    y = circlex - max_distance\n",
    "    position1 = np.sqrt(x1**2+y**2)\n",
    "    position2 = np.sqrt(x2**2+y**2)\n",
    "    fill1 = position1 <= radii1\n",
    "    fill2 = position2 <= radii2\n",
    "    signal_z1 = np.random.normal(loc=0.5, scale=0.05, size=int(0.5*n_data))\n",
    "    bkg_z1 = np.random.exponential(scale=0.2, size=n_data-int(0.5*n_data))\n",
    "    signal_z1 = np.where(signal_z1<1.0, signal_z1, 0)\n",
    "    bkg_z1 = np.where(bkg_z1<1.0, bkg_z1, 0)\n",
    "#     print('signal = ',signal_z1)\n",
    "#     print('bkg = ',bkg_z1)\n",
    "    z1 = np.concatenate((signal_z1, bkg_z1), axis =0)\n",
    "    z2 = 1-z1\n",
    "    z1 = np.array([np.multiply(np.ones(shape = (grid,grid)),y) for y in z1])\n",
    "    z2 = np.array([np.multiply(np.ones(shape = (grid,grid)),y) for y in z2])\n",
    "    p1 = np.exp((-1./2.)*(3.*position1/radii1)**2.)\n",
    "    p2 = np.exp((-1./2.)*(3.*position2/radii2)**2.)\n",
    "    p1 = np.multiply(np.exp((-1./2.)*(3.*position1/radii1)**2.),z1)\n",
    "    p2 = np.multiply(np.exp((-1./2.)*(3.*position2/radii2)**2.),z2)\n",
    "    mask1 = np.zeros(n_data*grid*grid)\n",
    "    mask2 = np.zeros(n_data*grid*grid)\n",
    "    for i in range(n_data):\n",
    "        sub_mask1 = np.zeros(grid*grid)\n",
    "        sub_mask1[0:n_particle] = 1\n",
    "        np.random.shuffle(sub_mask1)\n",
    "        mask1[0+i*grid**2:grid**2+i*grid**2] = sub_mask1\n",
    "    mask1 = mask1.reshape(n_data, grid, grid)\n",
    "    for i in range(n_data):\n",
    "        sub_mask2 = np.zeros(grid*grid)\n",
    "        sub_mask2[0:n_particle] = 1\n",
    "        np.random.shuffle(sub_mask2)\n",
    "        mask2[0+i*grid**2:grid**2+i*grid**2] = sub_mask2\n",
    "    mask2 = mask2.reshape(n_data, grid, grid)\n",
    "    p1 = np.where(fill1, p1, 0.0)*mask1\n",
    "    p2 = np.where(fill2, p2, 0.0)*mask2\n",
    "    circles = p1 + p2\n",
    "    circles = circles.reshape(n_data, grid**2)\n",
    "    radii = radii.reshape(n_data, 2)\n",
    "    distances = distances.reshape(n_data*grid**2,1)[::grid**2]\n",
    "    labels = np.concatenate((np.ones(int(0.5*n_data)), np.zeros(n_data-int(0.5*n_data))))\n",
    "    labels = labels.reshape(n_data,1)\n",
    "    return circles, radii, distances, labels"
   ]
  },
  {
   "cell_type": "code",
   "execution_count": 3,
   "metadata": {},
   "outputs": [
    {
     "name": "stdout",
     "output_type": "stream",
     "text": [
      "3.254659986\n"
     ]
    }
   ],
   "source": [
    "grid = 32\n",
    "n_data = 10000\n",
    "n_particle = 20\n",
    "tic = time.perf_counter()\n",
    "train_circleData, train_radiiLabels, train_distanceLabels, train_labels = make_circles(grid, n_data, n_particle)\n",
    "toc = time.perf_counter()\n",
    "test_circleData, test_radiiLabels, test_distanceLabels,test_labels = make_circles(grid, n_data, int(0.2*n_particle))\n",
    "print(toc-tic)"
   ]
  },
  {
   "cell_type": "code",
   "execution_count": 4,
   "metadata": {},
   "outputs": [],
   "source": [
    "np.savez('train_data', circles = train_circleData, radiilab = train_radiiLabels,\n",
    "         distlab = train_distanceLabels, labels = train_labels)\n",
    "np.savez('test_data', circles = test_circleData, radiilab = test_radiiLabels,\n",
    "         distlab = test_distanceLabels, labels = test_labels)\n",
    "data = np.load('train_data.npz')"
   ]
  },
  {
   "cell_type": "code",
   "execution_count": 5,
   "metadata": {},
   "outputs": [
    {
     "name": "stdout",
     "output_type": "stream",
     "text": [
      "radius = \n",
      "[12  8]\n",
      "distance between centers = \n",
      "[8.29421044]\n"
     ]
    },
    {
     "data": {
      "text/plain": [
       "<matplotlib.colorbar.Colorbar at 0x109cbaf60>"
      ]
     },
     "execution_count": 5,
     "metadata": {},
     "output_type": "execute_result"
    },
    {
     "data": {
      "image/png": "[encoded data removed]",
      "text/plain": [
       "<Figure size 432x288 with 2 Axes>"
      ]
     },
     "metadata": {
      "needs_background": "light"
     },
     "output_type": "display_data"
    }
   ],
   "source": [
    "a = 99\n",
    "circles = np.zeros_like(train_circleData[0])\n",
    "for i in range(len(train_circleData)):\n",
    "    circles += train_circleData[i]\n",
    "display = train_circleData[a].reshape(grid,grid)\n",
    "plt.grid(False)\n",
    "plt.imshow(display, cmap = 'jet')\n",
    "print(\"radius = \")\n",
    "print(train_radiiLabels[a])\n",
    "print(\"distance between centers = \")\n",
    "print(train_distanceLabels[a])\n",
    "plt.colorbar()"
   ]
  },
  {
   "cell_type": "code",
   "execution_count": 6,
   "metadata": {},
   "outputs": [],
   "source": [
    "def shuffle_images( nx, ny, M, S ):\n",
    "    images = np.random.randint( 0, 10, size=(M,nx,ny) )\n",
    "    index = np.zeros( shape=(M,nx*ny) )\n",
    "    index[:,0:3] = 1\n",
    "    np.apply_along_axis(np.random.shuffle,1,index)\n",
    "    index = np.reshape( index, newshape=(M,nx,ny) )"
   ]
  },
  {
   "cell_type": "code",
   "execution_count": 7,
   "metadata": {},
   "outputs": [],
   "source": [
    "shuffle_images(3,3,5,3)"
   ]
  },
  {
   "cell_type": "code",
   "execution_count": null,
   "metadata": {},
   "outputs": [],
   "source": []
  }
 ],
 "metadata": {
  "kernelspec": {
   "display_name": "Python 3",
   "language": "python",
   "name": "python3"
  },
  "language_info": {
   "codemirror_mode": {
    "name": "ipython",
    "version": 3
   },
   "file_extension": ".py",
   "mimetype": "text/x-python",
   "name": "python",
   "nbconvert_exporter": "python",
   "pygments_lexer": "ipython3",
   "version": "3.7.3"
  }
 },
 "nbformat": 4,
 "nbformat_minor": 2
}
